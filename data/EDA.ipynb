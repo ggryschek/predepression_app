{
 "cells": [
  {
   "cell_type": "markdown",
   "metadata": {},
   "source": [
    "# EDA Dataset"
   ]
  },
  {
   "cell_type": "markdown",
   "metadata": {},
   "source": [
    "## Dataset Details"
   ]
  },
  {
   "cell_type": "markdown",
   "metadata": {},
   "source": [
    "# [Describe Data] !!!"
   ]
  },
  {
   "cell_type": "markdown",
   "metadata": {},
   "source": [
    "### Features Selection based on Risl Factors Identified from scientific literature\n",
    "\n",
    "[BRING MORE DETAILS - IMPROVE TEXT]\n",
    "\n",
    "Being a younger adult, female, widowed, separated or divorced, Caucasian, poor, occasional drinker (vs abstainer), having a family history of mental health problems, having less education and living in areas with a higher unemployment rate, more visible minorities, more cultural community centres and community organisations, were consistently associated with the increased risk of incident major depressive disorder.\n",
    "People who have gone through adverse life events (unemployment, bereavement, traumatic events) are more likely to develop depression\n",
    "\n",
    "Depression is closely related to and affected by physical health. Many of the factors that influence depression (such as physical inactivity or harmful use of alcohol) are also known risk factors for diseases such as cardiovascular disease, cancer, diabetes and respiratory diseases. In turn, people with these diseases may also find themselves experiencing depression due to the difficulties associated with managing their condition.\n",
    "These features are usually identified as risks factors for depression. They will be extrated from the survey to build the dataset, where ii is suitable.\n",
    "- Age\n",
    "- Gender\n",
    "- Marital Status\n",
    "- Economical Status\n",
    "- Alcohol comsuption pattern\n",
    "- Family history of mental disease\n",
    "- Educational level\n",
    "- Living area characteristics\n",
    "- Adverse Life events\n",
    "- Physical health: physical inactivity\n",
    "- Other clinical conditions: cardiovascular diseases, cancer, diabetes, respiratory diseases"
   ]
  },
  {
   "cell_type": "markdown",
   "metadata": {},
   "source": [
    "### Import Libraries"
   ]
  },
  {
   "cell_type": "code",
   "execution_count": 92,
   "metadata": {},
   "outputs": [],
   "source": [
    "# Import Libraries for Preprocessing\n",
    "import pandas as pd\n",
    "import numpy as np\n",
    "import json\n",
    "import matplotlib.pyplot as plt\n",
    "import seaborn as sns\n",
    "from sklearn.impute import SimpleImputer\n",
    "from skimpy import skim"
   ]
  },
  {
   "cell_type": "markdown",
   "metadata": {},
   "source": [
    "### Upload Datasets, Feature Selection, Missing Data Handling"
   ]
  },
  {
   "cell_type": "markdown",
   "metadata": {},
   "source": [
    "#### 1. Demographic Data"
   ]
  },
  {
   "cell_type": "code",
   "execution_count": 93,
   "metadata": {},
   "outputs": [
    {
     "name": "stdout",
     "output_type": "stream",
     "text": [
      "       SEQN  SDDSRVYR  RIDSTATR  RIAGENDR  RIDAGEYR  RIDAGEMN  RIDRETH1  \\\n",
      "5814 136192        12         2         1        66       NaN         3   \n",
      "6298 136676        12         1         2        80       NaN         4   \n",
      "4290 134668        12         2         1        36       NaN         5   \n",
      "420  130798        12         2         2         7       NaN         3   \n",
      "3944 134322        12         1         1        73       NaN         3   \n",
      "\n",
      "      RIDRETH3  RIDEXMON  RIDEXAGM  ...  DMDHRGND  DMDHRAGZ  DMDHREDZ  \\\n",
      "5814         3         2       NaN  ...       NaN       NaN       NaN   \n",
      "6298         4       NaN       NaN  ...       NaN       NaN       NaN   \n",
      "4290         7         2       NaN  ...       NaN       NaN       NaN   \n",
      "420          3         2        95  ...         2         3         1   \n",
      "3944         3       NaN       NaN  ...       NaN       NaN       NaN   \n",
      "\n",
      "      DMDHRMAZ  DMDHSEDZ  WTINT2YR  WTMEC2YR  SDMVSTRA  SDMVPSU  INDFMPIR  \n",
      "5814       NaN       NaN     50858     58554       173        2         0  \n",
      "6298       NaN       NaN     10136         0       187        1       NaN  \n",
      "4290       NaN       NaN     24694     33855       184        2         1  \n",
      "420          2       NaN     16239     35885       178        2       NaN  \n",
      "3944       NaN       NaN     12041         0       185        2         1  \n",
      "\n",
      "[5 rows x 27 columns]\n"
     ]
    }
   ],
   "source": [
    "# Upload DEMOGRAPHIC DATA\n",
    "\n",
    "# Prevent scientific notation for float numbers\n",
    "pd.set_option('display.float_format', '{:.0f}'.format)\n",
    "\n",
    "df_1 = pd.read_sas('DEMO_L.xpt', format='xport', encoding='latin1')\n",
    "print(df_1.sample(5))"
   ]
  },
  {
   "cell_type": "markdown",
   "metadata": {},
   "source": [
    "For DEMO_L it will be kept:\n",
    "- SEQN (Respondent sequence number): unique participant identifier\n",
    "- RIAGENDR: Gender; 1 - Male | 2 - Female\n",
    "- RIDAGEYR: Age in years at screening; 0 - 80\n",
    "- DMDEDUC2: Education level (Adults 20+); 1\t- Less than 9th grade | 2 -\t9-11th grade (Includes 12th grade with no diploma) | 3 - High school graduate/GED or equivalent | 4 - Some college or AA degree | 5\t- College graduate or above | 7 - Refused | 9 - Don't know\n",
    "- DMDMARTZ: Marital status; 1 - Married/Living with partner | 2 - Widowed/Divorced/Separated | 3 - Never married | 77 - Refused | 99 - Don't know\n",
    "- DMDHHSIZ: Total number of people in the Household; 1 - 7"
   ]
  },
  {
   "cell_type": "code",
   "execution_count": 94,
   "metadata": {},
   "outputs": [
    {
     "name": "stdout",
     "output_type": "stream",
     "text": [
      "       SEQN  RIAGENDR  RIDAGEYR  DMDEDUC2  DMDMARTZ  DMDHHSIZ\n",
      "9864 140242         1         7       NaN       NaN         5\n",
      "2997 133375         2         7       NaN       NaN         7\n",
      "9434 139812         1        15       NaN       NaN         6\n",
      "1631 132009         2        55         5         1         2\n",
      "4481 134859         2        40         5         1         4\n",
      "168  130546         1        24         2         3         4\n",
      "9011 139389         2        63         5         1         3\n",
      "7319 137697         1         1       NaN       NaN         4\n",
      "9651 140029         1         6       NaN       NaN         5\n",
      "482  130860         1        50         5         1         5\n"
     ]
    }
   ],
   "source": [
    "# List of columns to keep\n",
    "columns_demo = ['SEQN', 'RIAGENDR', 'RIDAGEYR', 'DMDEDUC2', 'DMDMARTZ', 'DMDHHSIZ']\n",
    "\n",
    "# Keep only these columns\n",
    "df_demoo = df_1[columns_demo]\n",
    "\n",
    "# Inspect the result\n",
    "print(df_demoo.sample(10))"
   ]
  },
  {
   "cell_type": "markdown",
   "metadata": {},
   "source": [
    "Exclusion criteria:\n",
    "- Age < 18;\n",
    "- 'Refused' and 'Don't know' answers in variables where they apply to"
   ]
  },
  {
   "cell_type": "code",
   "execution_count": 95,
   "metadata": {},
   "outputs": [],
   "source": [
    "# Filter out rows where age is less than 18\n",
    "df_demoo = df_demoo[df_demoo['RIDAGEYR'] >= 18]"
   ]
  },
  {
   "cell_type": "code",
   "execution_count": 96,
   "metadata": {},
   "outputs": [],
   "source": [
    "# Exclude rows where 'Educational Level' and ' 'Marital Status' are 'refused' or 'don't know';\n",
    "df_demoo = df_demoo[~(df_demoo['DMDEDUC2'].isin([7, 9]) | df_demoo['DMDMARTZ'].isin([77, 99]))]"
   ]
  },
  {
   "cell_type": "code",
   "execution_count": null,
   "metadata": {},
   "outputs": [
    {
     "name": "stdout",
     "output_type": "stream",
     "text": [
      "        SEQN  RIDAGEYR  DMDEDUC2  DMDMARTZ  DMDHHSIZ  RIAGENDR_Female  \\\n",
      "0     130378        43         5         1         4            False   \n",
      "1     130379        66         5         1         2            False   \n",
      "2     130380        44         3         1         7             True   \n",
      "6     130384        43         2         3         2            False   \n",
      "7     130385        65         3         1         2             True   \n",
      "...      ...       ...       ...       ...       ...              ...   \n",
      "11927 142305        76         1         2         4             True   \n",
      "11929 142307        49         5         3         5             True   \n",
      "11930 142308        50         4         1         3            False   \n",
      "11931 142309        40         4         2         5            False   \n",
      "11932 142310        80         3         1         2             True   \n",
      "\n",
      "       RIAGENDR_Male  \n",
      "0               True  \n",
      "1               True  \n",
      "2              False  \n",
      "6               True  \n",
      "7              False  \n",
      "...              ...  \n",
      "11927          False  \n",
      "11929          False  \n",
      "11930           True  \n",
      "11931           True  \n",
      "11932          False  \n",
      "\n",
      "[8133 rows x 7 columns]\n"
     ]
    }
   ],
   "source": [
    "# Transform Gender\n",
    "# Step 1: Map the encoded values to the labels\n",
    "df_demoo['RIAGENDR'] = df_demoo['RIAGENDR'].map({1: 'Male', 2: 'Female'})\n",
    "\n",
    "# Step 2: Apply one-hot encoding\n",
    "df_demo = pd.get_dummies(df_demoo, columns=['RIAGENDR'], drop_first=False)\n",
    "\n",
    "print(df_demo)"
   ]
  },
  {
   "cell_type": "code",
   "execution_count": 98,
   "metadata": {},
   "outputs": [
    {
     "data": {
      "text/html": [
       "<pre style=\"white-space:pre;overflow-x:auto;line-height:normal;font-family:Menlo,'DejaVu Sans Mono',consolas,'Courier New',monospace\">╭──────────────────────────────────────────────── skimpy summary ─────────────────────────────────────────────────╮\n",
       "│ <span style=\"font-style: italic\">         Data Summary         </span> <span style=\"font-style: italic\">      Data Types       </span>                                                          │\n",
       "│ ┏━━━━━━━━━━━━━━━━━━━┳━━━━━━━━┓ ┏━━━━━━━━━━━━━┳━━━━━━━┓                                                          │\n",
       "│ ┃<span style=\"color: #008080; text-decoration-color: #008080; font-weight: bold\"> dataframe         </span>┃<span style=\"color: #008080; text-decoration-color: #008080; font-weight: bold\"> Values </span>┃ ┃<span style=\"color: #008080; text-decoration-color: #008080; font-weight: bold\"> Column Type </span>┃<span style=\"color: #008080; text-decoration-color: #008080; font-weight: bold\"> Count </span>┃                                                          │\n",
       "│ ┡━━━━━━━━━━━━━━━━━━━╇━━━━━━━━┩ ┡━━━━━━━━━━━━━╇━━━━━━━┩                                                          │\n",
       "│ │ Number of rows    │ 8133   │ │ float64     │ 5     │                                                          │\n",
       "│ │ Number of columns │ 7      │ │ bool        │ 2     │                                                          │\n",
       "│ └───────────────────┴────────┘ └─────────────┴───────┘                                                          │\n",
       "│ <span style=\"font-style: italic\">                                                    number                                                    </span>  │\n",
       "│ ┏━━━━━━━━━━━━━━━┳━━━━━━┳━━━━━━━┳━━━━━━━━━━┳━━━━━━━┳━━━━━━━━━┳━━━━━━━━━┳━━━━━━━━━┳━━━━━━━━━┳━━━━━━━━━┳━━━━━━━━┓  │\n",
       "│ ┃<span style=\"font-weight: bold\"> column_name   </span>┃<span style=\"font-weight: bold\"> NA   </span>┃<span style=\"font-weight: bold\"> NA %  </span>┃<span style=\"font-weight: bold\"> mean     </span>┃<span style=\"font-weight: bold\"> sd    </span>┃<span style=\"font-weight: bold\"> p0      </span>┃<span style=\"font-weight: bold\"> p25     </span>┃<span style=\"font-weight: bold\"> p50     </span>┃<span style=\"font-weight: bold\"> p75     </span>┃<span style=\"font-weight: bold\"> p100    </span>┃<span style=\"font-weight: bold\"> hist   </span>┃  │\n",
       "│ ┡━━━━━━━━━━━━━━━╇━━━━━━╇━━━━━━━╇━━━━━━━━━━╇━━━━━━━╇━━━━━━━━━╇━━━━━━━━━╇━━━━━━━━━╇━━━━━━━━━╇━━━━━━━━━╇━━━━━━━━┩  │\n",
       "│ │ <span style=\"color: #af87ff; text-decoration-color: #af87ff\">SEQN         </span> │ <span style=\"color: #008080; text-decoration-color: #008080\">   0</span> │ <span style=\"color: #008080; text-decoration-color: #008080\">    0</span> │ <span style=\"color: #008080; text-decoration-color: #008080\">  140000</span> │ <span style=\"color: #008080; text-decoration-color: #008080\"> 3400</span> │ <span style=\"color: #008080; text-decoration-color: #008080\"> 130000</span> │ <span style=\"color: #008080; text-decoration-color: #008080\"> 130000</span> │ <span style=\"color: #008080; text-decoration-color: #008080\"> 140000</span> │ <span style=\"color: #008080; text-decoration-color: #008080\"> 140000</span> │ <span style=\"color: #008080; text-decoration-color: #008080\"> 140000</span> │ <span style=\"color: #008000; text-decoration-color: #008000\">▇▇▇▇▇▇</span> │  │\n",
       "│ │ <span style=\"color: #af87ff; text-decoration-color: #af87ff\">RIDAGEYR     </span> │ <span style=\"color: #008080; text-decoration-color: #008080\">   0</span> │ <span style=\"color: #008080; text-decoration-color: #008080\">    0</span> │ <span style=\"color: #008080; text-decoration-color: #008080\">      52</span> │ <span style=\"color: #008080; text-decoration-color: #008080\">   19</span> │ <span style=\"color: #008080; text-decoration-color: #008080\">     18</span> │ <span style=\"color: #008080; text-decoration-color: #008080\">     36</span> │ <span style=\"color: #008080; text-decoration-color: #008080\">     55</span> │ <span style=\"color: #008080; text-decoration-color: #008080\">     68</span> │ <span style=\"color: #008080; text-decoration-color: #008080\">     80</span> │ <span style=\"color: #008000; text-decoration-color: #008000\">▅▅▅▆▇▇</span> │  │\n",
       "│ │ <span style=\"color: #af87ff; text-decoration-color: #af87ff\">DMDEDUC2     </span> │ <span style=\"color: #008080; text-decoration-color: #008080\"> 359</span> │ <span style=\"color: #008080; text-decoration-color: #008080\"> 4.41</span> │ <span style=\"color: #008080; text-decoration-color: #008080\">     3.8</span> │ <span style=\"color: #008080; text-decoration-color: #008080\">  1.1</span> │ <span style=\"color: #008080; text-decoration-color: #008080\">      1</span> │ <span style=\"color: #008080; text-decoration-color: #008080\">      3</span> │ <span style=\"color: #008080; text-decoration-color: #008080\">      4</span> │ <span style=\"color: #008080; text-decoration-color: #008080\">      5</span> │ <span style=\"color: #008080; text-decoration-color: #008080\">      5</span> │ <span style=\"color: #008000; text-decoration-color: #008000\">▁▂ ▅▇▇</span> │  │\n",
       "│ │ <span style=\"color: #af87ff; text-decoration-color: #af87ff\">DMDMARTZ     </span> │ <span style=\"color: #008080; text-decoration-color: #008080\"> 361</span> │ <span style=\"color: #008080; text-decoration-color: #008080\"> 4.44</span> │ <span style=\"color: #008080; text-decoration-color: #008080\">     1.7</span> │ <span style=\"color: #008080; text-decoration-color: #008080\">  0.8</span> │ <span style=\"color: #008080; text-decoration-color: #008080\">      1</span> │ <span style=\"color: #008080; text-decoration-color: #008080\">      1</span> │ <span style=\"color: #008080; text-decoration-color: #008080\">      1</span> │ <span style=\"color: #008080; text-decoration-color: #008080\">      2</span> │ <span style=\"color: #008080; text-decoration-color: #008080\">      3</span> │ <span style=\"color: #008000; text-decoration-color: #008000\">▇  ▃ ▃</span> │  │\n",
       "│ │ <span style=\"color: #af87ff; text-decoration-color: #af87ff\">DMDHHSIZ     </span> │ <span style=\"color: #008080; text-decoration-color: #008080\">   0</span> │ <span style=\"color: #008080; text-decoration-color: #008080\">    0</span> │ <span style=\"color: #008080; text-decoration-color: #008080\">     2.6</span> │ <span style=\"color: #008080; text-decoration-color: #008080\">  1.5</span> │ <span style=\"color: #008080; text-decoration-color: #008080\">      1</span> │ <span style=\"color: #008080; text-decoration-color: #008080\">      2</span> │ <span style=\"color: #008080; text-decoration-color: #008080\">      2</span> │ <span style=\"color: #008080; text-decoration-color: #008080\">      4</span> │ <span style=\"color: #008080; text-decoration-color: #008080\">      7</span> │ <span style=\"color: #008000; text-decoration-color: #008000\">▅▇▃▃▁▁</span> │  │\n",
       "│ └───────────────┴──────┴───────┴──────────┴───────┴─────────┴─────────┴─────────┴─────────┴─────────┴────────┘  │\n",
       "│ <span style=\"font-style: italic\">                                                     bool                                                     </span>  │\n",
       "│ ┏━━━━━━━━━━━━━━━━━━━━━━━━━━━━━━━━━━━━━━━━━━━┳━━━━━━━━━━━━━━━┳━━━━━━━━━━━━━━━━━━━━━━━━━━━━┳━━━━━━━━━━━━━━━━━━━┓  │\n",
       "│ ┃<span style=\"font-weight: bold\"> column_name                               </span>┃<span style=\"font-weight: bold\"> true          </span>┃<span style=\"font-weight: bold\"> true rate                  </span>┃<span style=\"font-weight: bold\"> hist              </span>┃  │\n",
       "│ ┡━━━━━━━━━━━━━━━━━━━━━━━━━━━━━━━━━━━━━━━━━━━╇━━━━━━━━━━━━━━━╇━━━━━━━━━━━━━━━━━━━━━━━━━━━━╇━━━━━━━━━━━━━━━━━━━┩  │\n",
       "│ │ <span style=\"color: #af87ff; text-decoration-color: #af87ff\">RIAGENDR_Female                          </span> │ <span style=\"color: #008080; text-decoration-color: #008080\">         4486</span> │ <span style=\"color: #008080; text-decoration-color: #008080\">                      0.55</span> │ <span style=\"color: #008000; text-decoration-color: #008000\">     ▇    ▇      </span> │  │\n",
       "│ │ <span style=\"color: #af87ff; text-decoration-color: #af87ff\">RIAGENDR_Male                            </span> │ <span style=\"color: #008080; text-decoration-color: #008080\">         3647</span> │ <span style=\"color: #008080; text-decoration-color: #008080\">                      0.45</span> │ <span style=\"color: #008000; text-decoration-color: #008000\">     ▇    ▇      </span> │  │\n",
       "│ └───────────────────────────────────────────┴───────────────┴────────────────────────────┴───────────────────┘  │\n",
       "╰────────────────────────────────────────────────────── End ──────────────────────────────────────────────────────╯\n",
       "</pre>\n"
      ],
      "text/plain": [
       "╭──────────────────────────────────────────────── skimpy summary ─────────────────────────────────────────────────╮\n",
       "│ \u001b[3m         Data Summary         \u001b[0m \u001b[3m      Data Types       \u001b[0m                                                          │\n",
       "│ ┏━━━━━━━━━━━━━━━━━━━┳━━━━━━━━┓ ┏━━━━━━━━━━━━━┳━━━━━━━┓                                                          │\n",
       "│ ┃\u001b[1;36m \u001b[0m\u001b[1;36mdataframe        \u001b[0m\u001b[1;36m \u001b[0m┃\u001b[1;36m \u001b[0m\u001b[1;36mValues\u001b[0m\u001b[1;36m \u001b[0m┃ ┃\u001b[1;36m \u001b[0m\u001b[1;36mColumn Type\u001b[0m\u001b[1;36m \u001b[0m┃\u001b[1;36m \u001b[0m\u001b[1;36mCount\u001b[0m\u001b[1;36m \u001b[0m┃                                                          │\n",
       "│ ┡━━━━━━━━━━━━━━━━━━━╇━━━━━━━━┩ ┡━━━━━━━━━━━━━╇━━━━━━━┩                                                          │\n",
       "│ │ Number of rows    │ 8133   │ │ float64     │ 5     │                                                          │\n",
       "│ │ Number of columns │ 7      │ │ bool        │ 2     │                                                          │\n",
       "│ └───────────────────┴────────┘ └─────────────┴───────┘                                                          │\n",
       "│ \u001b[3m                                                    number                                                    \u001b[0m  │\n",
       "│ ┏━━━━━━━━━━━━━━━┳━━━━━━┳━━━━━━━┳━━━━━━━━━━┳━━━━━━━┳━━━━━━━━━┳━━━━━━━━━┳━━━━━━━━━┳━━━━━━━━━┳━━━━━━━━━┳━━━━━━━━┓  │\n",
       "│ ┃\u001b[1m \u001b[0m\u001b[1mcolumn_name  \u001b[0m\u001b[1m \u001b[0m┃\u001b[1m \u001b[0m\u001b[1mNA  \u001b[0m\u001b[1m \u001b[0m┃\u001b[1m \u001b[0m\u001b[1mNA % \u001b[0m\u001b[1m \u001b[0m┃\u001b[1m \u001b[0m\u001b[1mmean    \u001b[0m\u001b[1m \u001b[0m┃\u001b[1m \u001b[0m\u001b[1msd   \u001b[0m\u001b[1m \u001b[0m┃\u001b[1m \u001b[0m\u001b[1mp0     \u001b[0m\u001b[1m \u001b[0m┃\u001b[1m \u001b[0m\u001b[1mp25    \u001b[0m\u001b[1m \u001b[0m┃\u001b[1m \u001b[0m\u001b[1mp50    \u001b[0m\u001b[1m \u001b[0m┃\u001b[1m \u001b[0m\u001b[1mp75    \u001b[0m\u001b[1m \u001b[0m┃\u001b[1m \u001b[0m\u001b[1mp100   \u001b[0m\u001b[1m \u001b[0m┃\u001b[1m \u001b[0m\u001b[1mhist  \u001b[0m\u001b[1m \u001b[0m┃  │\n",
       "│ ┡━━━━━━━━━━━━━━━╇━━━━━━╇━━━━━━━╇━━━━━━━━━━╇━━━━━━━╇━━━━━━━━━╇━━━━━━━━━╇━━━━━━━━━╇━━━━━━━━━╇━━━━━━━━━╇━━━━━━━━┩  │\n",
       "│ │ \u001b[38;5;141mSEQN         \u001b[0m │ \u001b[36m   0\u001b[0m │ \u001b[36m    0\u001b[0m │ \u001b[36m  140000\u001b[0m │ \u001b[36m 3400\u001b[0m │ \u001b[36m 130000\u001b[0m │ \u001b[36m 130000\u001b[0m │ \u001b[36m 140000\u001b[0m │ \u001b[36m 140000\u001b[0m │ \u001b[36m 140000\u001b[0m │ \u001b[32m▇▇▇▇▇▇\u001b[0m │  │\n",
       "│ │ \u001b[38;5;141mRIDAGEYR     \u001b[0m │ \u001b[36m   0\u001b[0m │ \u001b[36m    0\u001b[0m │ \u001b[36m      52\u001b[0m │ \u001b[36m   19\u001b[0m │ \u001b[36m     18\u001b[0m │ \u001b[36m     36\u001b[0m │ \u001b[36m     55\u001b[0m │ \u001b[36m     68\u001b[0m │ \u001b[36m     80\u001b[0m │ \u001b[32m▅▅▅▆▇▇\u001b[0m │  │\n",
       "│ │ \u001b[38;5;141mDMDEDUC2     \u001b[0m │ \u001b[36m 359\u001b[0m │ \u001b[36m 4.41\u001b[0m │ \u001b[36m     3.8\u001b[0m │ \u001b[36m  1.1\u001b[0m │ \u001b[36m      1\u001b[0m │ \u001b[36m      3\u001b[0m │ \u001b[36m      4\u001b[0m │ \u001b[36m      5\u001b[0m │ \u001b[36m      5\u001b[0m │ \u001b[32m▁▂ ▅▇▇\u001b[0m │  │\n",
       "│ │ \u001b[38;5;141mDMDMARTZ     \u001b[0m │ \u001b[36m 361\u001b[0m │ \u001b[36m 4.44\u001b[0m │ \u001b[36m     1.7\u001b[0m │ \u001b[36m  0.8\u001b[0m │ \u001b[36m      1\u001b[0m │ \u001b[36m      1\u001b[0m │ \u001b[36m      1\u001b[0m │ \u001b[36m      2\u001b[0m │ \u001b[36m      3\u001b[0m │ \u001b[32m▇  ▃ ▃\u001b[0m │  │\n",
       "│ │ \u001b[38;5;141mDMDHHSIZ     \u001b[0m │ \u001b[36m   0\u001b[0m │ \u001b[36m    0\u001b[0m │ \u001b[36m     2.6\u001b[0m │ \u001b[36m  1.5\u001b[0m │ \u001b[36m      1\u001b[0m │ \u001b[36m      2\u001b[0m │ \u001b[36m      2\u001b[0m │ \u001b[36m      4\u001b[0m │ \u001b[36m      7\u001b[0m │ \u001b[32m▅▇▃▃▁▁\u001b[0m │  │\n",
       "│ └───────────────┴──────┴───────┴──────────┴───────┴─────────┴─────────┴─────────┴─────────┴─────────┴────────┘  │\n",
       "│ \u001b[3m                                                     bool                                                     \u001b[0m  │\n",
       "│ ┏━━━━━━━━━━━━━━━━━━━━━━━━━━━━━━━━━━━━━━━━━━━┳━━━━━━━━━━━━━━━┳━━━━━━━━━━━━━━━━━━━━━━━━━━━━┳━━━━━━━━━━━━━━━━━━━┓  │\n",
       "│ ┃\u001b[1m \u001b[0m\u001b[1mcolumn_name                              \u001b[0m\u001b[1m \u001b[0m┃\u001b[1m \u001b[0m\u001b[1mtrue         \u001b[0m\u001b[1m \u001b[0m┃\u001b[1m \u001b[0m\u001b[1mtrue rate                 \u001b[0m\u001b[1m \u001b[0m┃\u001b[1m \u001b[0m\u001b[1mhist             \u001b[0m\u001b[1m \u001b[0m┃  │\n",
       "│ ┡━━━━━━━━━━━━━━━━━━━━━━━━━━━━━━━━━━━━━━━━━━━╇━━━━━━━━━━━━━━━╇━━━━━━━━━━━━━━━━━━━━━━━━━━━━╇━━━━━━━━━━━━━━━━━━━┩  │\n",
       "│ │ \u001b[38;5;141mRIAGENDR_Female                          \u001b[0m │ \u001b[36m         4486\u001b[0m │ \u001b[36m                      0.55\u001b[0m │ \u001b[32m     ▇    ▇      \u001b[0m │  │\n",
       "│ │ \u001b[38;5;141mRIAGENDR_Male                            \u001b[0m │ \u001b[36m         3647\u001b[0m │ \u001b[36m                      0.45\u001b[0m │ \u001b[32m     ▇    ▇      \u001b[0m │  │\n",
       "│ └───────────────────────────────────────────┴───────────────┴────────────────────────────┴───────────────────┘  │\n",
       "╰────────────────────────────────────────────────────── End ──────────────────────────────────────────────────────╯\n"
      ]
     },
     "metadata": {},
     "output_type": "display_data"
    }
   ],
   "source": [
    "skim(df_demo)"
   ]
  },
  {
   "cell_type": "markdown",
   "metadata": {},
   "source": [
    "#### 2. Depression Data"
   ]
  },
  {
   "cell_type": "code",
   "execution_count": 99,
   "metadata": {},
   "outputs": [
    {
     "name": "stdout",
     "output_type": "stream",
     "text": [
      "    SEQN  DPQ010  DPQ020  DPQ030  DPQ040  DPQ050  DPQ060  DPQ070  DPQ080  \\\n",
      "0 130378     NaN     NaN     NaN     NaN     NaN     NaN     NaN     NaN   \n",
      "1 130379       0       0       1       0       0       0       0       0   \n",
      "2 130380       0       0       1       1       0       0       0       0   \n",
      "3 130386       0       0       0       0       0       1       0       0   \n",
      "4 130387       0       0       0       0       0       0       0       0   \n",
      "\n",
      "   DPQ090  DPQ100  \n",
      "0     NaN     NaN  \n",
      "1       0       0  \n",
      "2       0       0  \n",
      "3       0       0  \n",
      "4       0     NaN  \n"
     ]
    }
   ],
   "source": [
    "# Upload HEALTH (DEPRESSION) DATA\n",
    "\n",
    "# Prevent scientific notation for float numbers\n",
    "pd.set_option('display.float_format', '{:.0f}'.format)\n",
    "\n",
    "# Load the XPT file\n",
    "df_2 = pd.read_sas('DPQ_L.xpt', format='xport', encoding='latin1')\n",
    "\n",
    "# Inspect the dataframe\n",
    "print(df_2.head())"
   ]
  },
  {
   "cell_type": "markdown",
   "metadata": {},
   "source": [
    "Depression will be identified as the sum of variables DPQ010 to DPQ090 >= 10\n",
    "\n",
    "This score represent the PHQ-9 tool, used to identify depression where the threshold is 10 or more for moderate to severe depression cases\n",
    "\n",
    "Once the label for the new variable, those variables will be excluded and will not be part of the final dataset"
   ]
  },
  {
   "cell_type": "code",
   "execution_count": 100,
   "metadata": {},
   "outputs": [
    {
     "name": "stdout",
     "output_type": "stream",
     "text": [
      "       SEQN  DEPRE\n",
      "3239 136522  False\n",
      "153  130658  False\n",
      "4689 139188  False\n",
      "6216 142066  False\n",
      "4199 138262  False\n",
      "2564 135244  False\n",
      "169  130690  False\n",
      "5835 141315   True\n",
      "1957 134081  False\n",
      "502  131328  False\n"
     ]
    }
   ],
   "source": [
    "# Separate the first column (ID)\n",
    "df_2_ids = df_2.iloc[:, 0]  # Get the first column (ID)\n",
    "\n",
    "# Filter only values between 0 and 3, and ignore others or NaN for the rest of the columns\n",
    "valid_values = [0, 1, 2, 3]\n",
    "\n",
    "# Apply the filter to all columns except the first column\n",
    "df_2_filtered = df_2.iloc[:, 1:].map(lambda x: x if x in valid_values else pd.NA)\n",
    "\n",
    "# Reattach the first column (IDs)\n",
    "df_2_filtered.insert(0, df_2.columns[0], df_2_ids)\n",
    "\n",
    "# Now sum the valid values for each row, ignoring NaNs\n",
    "df_2_filtered['score'] = df_2_filtered.iloc[:, 1:].sum(axis=1, skipna=True)\n",
    "\n",
    "# Classify as 'Depression' (1) if score >= 10, otherwise 'Non-Depression' (0)\n",
    "df_2_filtered['DEPRE'] = df_2_filtered['score'].apply(lambda x: 1 if x >= 10 else 0)\n",
    "\n",
    "# Ensure the 'DEPRE' column is explicitly boolean\n",
    "df_2_filtered['DEPRE'] = df_2_filtered['DEPRE'].astype(bool)\n",
    "\n",
    "# Final dataframe with ID and depression_status\n",
    "df_depress = df_2_filtered[['SEQN', 'DEPRE']]\n",
    "\n",
    "# Inspect the result\n",
    "print(df_depress.sample(10))"
   ]
  },
  {
   "cell_type": "code",
   "execution_count": 101,
   "metadata": {},
   "outputs": [
    {
     "data": {
      "text/html": [
       "<pre style=\"white-space:pre;overflow-x:auto;line-height:normal;font-family:Menlo,'DejaVu Sans Mono',consolas,'Courier New',monospace\">╭──────────────────────────────────────────────── skimpy summary ─────────────────────────────────────────────────╮\n",
       "│ <span style=\"font-style: italic\">         Data Summary         </span> <span style=\"font-style: italic\">      Data Types       </span>                                                          │\n",
       "│ ┏━━━━━━━━━━━━━━━━━━━┳━━━━━━━━┓ ┏━━━━━━━━━━━━━┳━━━━━━━┓                                                          │\n",
       "│ ┃<span style=\"color: #008080; text-decoration-color: #008080; font-weight: bold\"> dataframe         </span>┃<span style=\"color: #008080; text-decoration-color: #008080; font-weight: bold\"> Values </span>┃ ┃<span style=\"color: #008080; text-decoration-color: #008080; font-weight: bold\"> Column Type </span>┃<span style=\"color: #008080; text-decoration-color: #008080; font-weight: bold\"> Count </span>┃                                                          │\n",
       "│ ┡━━━━━━━━━━━━━━━━━━━╇━━━━━━━━┩ ┡━━━━━━━━━━━━━╇━━━━━━━┩                                                          │\n",
       "│ │ Number of rows    │ 6337   │ │ float64     │ 1     │                                                          │\n",
       "│ │ Number of columns │ 2      │ │ bool        │ 1     │                                                          │\n",
       "│ └───────────────────┴────────┘ └─────────────┴───────┘                                                          │\n",
       "│ <span style=\"font-style: italic\">                                                    number                                                    </span>  │\n",
       "│ ┏━━━━━━━━━━━━━━━┳━━━━━┳━━━━━━━┳━━━━━━━━━━┳━━━━━━━┳━━━━━━━━━┳━━━━━━━━━┳━━━━━━━━━┳━━━━━━━━━┳━━━━━━━━━┳━━━━━━━━━┓  │\n",
       "│ ┃<span style=\"font-weight: bold\"> column_name   </span>┃<span style=\"font-weight: bold\"> NA  </span>┃<span style=\"font-weight: bold\"> NA %  </span>┃<span style=\"font-weight: bold\"> mean     </span>┃<span style=\"font-weight: bold\"> sd    </span>┃<span style=\"font-weight: bold\"> p0      </span>┃<span style=\"font-weight: bold\"> p25     </span>┃<span style=\"font-weight: bold\"> p50     </span>┃<span style=\"font-weight: bold\"> p75     </span>┃<span style=\"font-weight: bold\"> p100    </span>┃<span style=\"font-weight: bold\"> hist    </span>┃  │\n",
       "│ ┡━━━━━━━━━━━━━━━╇━━━━━╇━━━━━━━╇━━━━━━━━━━╇━━━━━━━╇━━━━━━━━━╇━━━━━━━━━╇━━━━━━━━━╇━━━━━━━━━╇━━━━━━━━━╇━━━━━━━━━┩  │\n",
       "│ │ <span style=\"color: #af87ff; text-decoration-color: #af87ff\">SEQN         </span> │ <span style=\"color: #008080; text-decoration-color: #008080\">  0</span> │ <span style=\"color: #008080; text-decoration-color: #008080\">    0</span> │ <span style=\"color: #008080; text-decoration-color: #008080\">  140000</span> │ <span style=\"color: #008080; text-decoration-color: #008080\"> 3400</span> │ <span style=\"color: #008080; text-decoration-color: #008080\"> 130000</span> │ <span style=\"color: #008080; text-decoration-color: #008080\"> 130000</span> │ <span style=\"color: #008080; text-decoration-color: #008080\"> 140000</span> │ <span style=\"color: #008080; text-decoration-color: #008080\"> 140000</span> │ <span style=\"color: #008080; text-decoration-color: #008080\"> 140000</span> │ <span style=\"color: #008000; text-decoration-color: #008000\">▇▇▇▇▇▇ </span> │  │\n",
       "│ └───────────────┴─────┴───────┴──────────┴───────┴─────────┴─────────┴─────────┴─────────┴─────────┴─────────┘  │\n",
       "│ <span style=\"font-style: italic\">                                                     bool                                                     </span>  │\n",
       "│ ┏━━━━━━━━━━━━━━━━━━━━━━━━━━━━━━━━━━━━┳━━━━━━━━━━━━━━━━━┳━━━━━━━━━━━━━━━━━━━━━━━━━━━━━━━┳━━━━━━━━━━━━━━━━━━━━━┓  │\n",
       "│ ┃<span style=\"font-weight: bold\"> column_name                        </span>┃<span style=\"font-weight: bold\"> true            </span>┃<span style=\"font-weight: bold\"> true rate                     </span>┃<span style=\"font-weight: bold\"> hist                </span>┃  │\n",
       "│ ┡━━━━━━━━━━━━━━━━━━━━━━━━━━━━━━━━━━━━╇━━━━━━━━━━━━━━━━━╇━━━━━━━━━━━━━━━━━━━━━━━━━━━━━━━╇━━━━━━━━━━━━━━━━━━━━━┩  │\n",
       "│ │ <span style=\"color: #af87ff; text-decoration-color: #af87ff\">DEPRE                             </span> │ <span style=\"color: #008080; text-decoration-color: #008080\">            845</span> │ <span style=\"color: #008080; text-decoration-color: #008080\">                         0.13</span> │ <span style=\"color: #008000; text-decoration-color: #008000\">      ▇    ▁       </span> │  │\n",
       "│ └────────────────────────────────────┴─────────────────┴───────────────────────────────┴─────────────────────┘  │\n",
       "╰────────────────────────────────────────────────────── End ──────────────────────────────────────────────────────╯\n",
       "</pre>\n"
      ],
      "text/plain": [
       "╭──────────────────────────────────────────────── skimpy summary ─────────────────────────────────────────────────╮\n",
       "│ \u001b[3m         Data Summary         \u001b[0m \u001b[3m      Data Types       \u001b[0m                                                          │\n",
       "│ ┏━━━━━━━━━━━━━━━━━━━┳━━━━━━━━┓ ┏━━━━━━━━━━━━━┳━━━━━━━┓                                                          │\n",
       "│ ┃\u001b[1;36m \u001b[0m\u001b[1;36mdataframe        \u001b[0m\u001b[1;36m \u001b[0m┃\u001b[1;36m \u001b[0m\u001b[1;36mValues\u001b[0m\u001b[1;36m \u001b[0m┃ ┃\u001b[1;36m \u001b[0m\u001b[1;36mColumn Type\u001b[0m\u001b[1;36m \u001b[0m┃\u001b[1;36m \u001b[0m\u001b[1;36mCount\u001b[0m\u001b[1;36m \u001b[0m┃                                                          │\n",
       "│ ┡━━━━━━━━━━━━━━━━━━━╇━━━━━━━━┩ ┡━━━━━━━━━━━━━╇━━━━━━━┩                                                          │\n",
       "│ │ Number of rows    │ 6337   │ │ float64     │ 1     │                                                          │\n",
       "│ │ Number of columns │ 2      │ │ bool        │ 1     │                                                          │\n",
       "│ └───────────────────┴────────┘ └─────────────┴───────┘                                                          │\n",
       "│ \u001b[3m                                                    number                                                    \u001b[0m  │\n",
       "│ ┏━━━━━━━━━━━━━━━┳━━━━━┳━━━━━━━┳━━━━━━━━━━┳━━━━━━━┳━━━━━━━━━┳━━━━━━━━━┳━━━━━━━━━┳━━━━━━━━━┳━━━━━━━━━┳━━━━━━━━━┓  │\n",
       "│ ┃\u001b[1m \u001b[0m\u001b[1mcolumn_name  \u001b[0m\u001b[1m \u001b[0m┃\u001b[1m \u001b[0m\u001b[1mNA \u001b[0m\u001b[1m \u001b[0m┃\u001b[1m \u001b[0m\u001b[1mNA % \u001b[0m\u001b[1m \u001b[0m┃\u001b[1m \u001b[0m\u001b[1mmean    \u001b[0m\u001b[1m \u001b[0m┃\u001b[1m \u001b[0m\u001b[1msd   \u001b[0m\u001b[1m \u001b[0m┃\u001b[1m \u001b[0m\u001b[1mp0     \u001b[0m\u001b[1m \u001b[0m┃\u001b[1m \u001b[0m\u001b[1mp25    \u001b[0m\u001b[1m \u001b[0m┃\u001b[1m \u001b[0m\u001b[1mp50    \u001b[0m\u001b[1m \u001b[0m┃\u001b[1m \u001b[0m\u001b[1mp75    \u001b[0m\u001b[1m \u001b[0m┃\u001b[1m \u001b[0m\u001b[1mp100   \u001b[0m\u001b[1m \u001b[0m┃\u001b[1m \u001b[0m\u001b[1mhist   \u001b[0m\u001b[1m \u001b[0m┃  │\n",
       "│ ┡━━━━━━━━━━━━━━━╇━━━━━╇━━━━━━━╇━━━━━━━━━━╇━━━━━━━╇━━━━━━━━━╇━━━━━━━━━╇━━━━━━━━━╇━━━━━━━━━╇━━━━━━━━━╇━━━━━━━━━┩  │\n",
       "│ │ \u001b[38;5;141mSEQN         \u001b[0m │ \u001b[36m  0\u001b[0m │ \u001b[36m    0\u001b[0m │ \u001b[36m  140000\u001b[0m │ \u001b[36m 3400\u001b[0m │ \u001b[36m 130000\u001b[0m │ \u001b[36m 130000\u001b[0m │ \u001b[36m 140000\u001b[0m │ \u001b[36m 140000\u001b[0m │ \u001b[36m 140000\u001b[0m │ \u001b[32m▇▇▇▇▇▇ \u001b[0m │  │\n",
       "│ └───────────────┴─────┴───────┴──────────┴───────┴─────────┴─────────┴─────────┴─────────┴─────────┴─────────┘  │\n",
       "│ \u001b[3m                                                     bool                                                     \u001b[0m  │\n",
       "│ ┏━━━━━━━━━━━━━━━━━━━━━━━━━━━━━━━━━━━━┳━━━━━━━━━━━━━━━━━┳━━━━━━━━━━━━━━━━━━━━━━━━━━━━━━━┳━━━━━━━━━━━━━━━━━━━━━┓  │\n",
       "│ ┃\u001b[1m \u001b[0m\u001b[1mcolumn_name                       \u001b[0m\u001b[1m \u001b[0m┃\u001b[1m \u001b[0m\u001b[1mtrue           \u001b[0m\u001b[1m \u001b[0m┃\u001b[1m \u001b[0m\u001b[1mtrue rate                    \u001b[0m\u001b[1m \u001b[0m┃\u001b[1m \u001b[0m\u001b[1mhist               \u001b[0m\u001b[1m \u001b[0m┃  │\n",
       "│ ┡━━━━━━━━━━━━━━━━━━━━━━━━━━━━━━━━━━━━╇━━━━━━━━━━━━━━━━━╇━━━━━━━━━━━━━━━━━━━━━━━━━━━━━━━╇━━━━━━━━━━━━━━━━━━━━━┩  │\n",
       "│ │ \u001b[38;5;141mDEPRE                             \u001b[0m │ \u001b[36m            845\u001b[0m │ \u001b[36m                         0.13\u001b[0m │ \u001b[32m      ▇    ▁       \u001b[0m │  │\n",
       "│ └────────────────────────────────────┴─────────────────┴───────────────────────────────┴─────────────────────┘  │\n",
       "╰────────────────────────────────────────────────────── End ──────────────────────────────────────────────────────╯\n"
      ]
     },
     "metadata": {},
     "output_type": "display_data"
    }
   ],
   "source": [
    "skim(df_depress)"
   ]
  },
  {
   "cell_type": "markdown",
   "metadata": {},
   "source": [
    "For df_depress, no missing data"
   ]
  },
  {
   "cell_type": "markdown",
   "metadata": {},
   "source": [
    "#### 3. Alcohol Use Data"
   ]
  },
  {
   "cell_type": "code",
   "execution_count": 102,
   "metadata": {},
   "outputs": [
    {
     "name": "stdout",
     "output_type": "stream",
     "text": [
      "    SEQN  ALQ111  ALQ121  ALQ130  ALQ142  ALQ270  ALQ280  ALQ151  ALQ170\n",
      "0 130378     NaN     NaN     NaN     NaN     NaN     NaN     NaN     NaN\n",
      "1 130379       1       2       3       0     NaN     NaN       2     NaN\n",
      "2 130380       1      10       1       0     NaN     NaN       2     NaN\n",
      "3 130386       1       4       2      10       0      10       2       0\n",
      "4 130387       1       0     NaN     NaN     NaN     NaN       2     NaN\n"
     ]
    }
   ],
   "source": [
    "# Upload ALCOHOL USE DATA\n",
    "\n",
    "# Prevent scientific notation for float numbers\n",
    "pd.set_option('display.float_format', '{:.0f}'.format)\n",
    "\n",
    "# Load the XPT file\n",
    "df_3 = pd.read_sas('ALQ_L.xpt', format='xport', encoding='latin1')\n",
    "\n",
    "# Inspect the dataframe\n",
    "print(df_3.head())"
   ]
  },
  {
   "cell_type": "markdown",
   "metadata": {},
   "source": [
    "For ALQ_L, it will be kept, to keep those related to hazardous alcohol use:\n",
    "- SEQN (Respondent sequence number): unique participant identifier\n",
    "- ALQ130: During the past 12 months, on those days that you drank alcoholic beverages, on average, how many drinks did you have? 0 - 15 | 777 - Refused | 999 - Don't know \n",
    "- ALQ142: During the past 12 months, about how often did you have {DISPLAY NUMBER} or more drinks of any alcoholic beverage? 0 - Never in the last year | 1 - Every day | 2 - Nearly every day | 3 - 3 to 4 times a week | 4 - 2 times a week | 5 - Once a week | 6 - 2 to 3 times a month | 7 - Once a month | 8 - 7 to 11 times in the last year | 9 - 3 to 6 times in the last year | 10 - 1 to 2 times in the last year | 77 - Refused | 99 - Don't know"
   ]
  },
  {
   "cell_type": "markdown",
   "metadata": {},
   "source": [
    "To reduce missing values in selected features, values from other variables will be used to replace with appropriate values.\n",
    "\n",
    "Addionally, 'Refused' and 'Don't know' answers will be excluded"
   ]
  },
  {
   "cell_type": "code",
   "execution_count": 103,
   "metadata": {},
   "outputs": [],
   "source": [
    "# Replace NaN in ALQ130 where ALQ111 == 2 (never used alcohol)\n",
    "df_3.loc[(df_3['ALQ111'] == 2) & (df_3['ALQ130'].isna()), 'ALQ130'] = 0"
   ]
  },
  {
   "cell_type": "code",
   "execution_count": 104,
   "metadata": {},
   "outputs": [],
   "source": [
    "# Replace NaN in ALQ130 where ALQ121 == 0 (never used alcohol last year)\n",
    "df_3.loc[(df_3['ALQ121'] == 0) & (df_3['ALQ130'].isna()), 'ALQ130'] = 0"
   ]
  },
  {
   "cell_type": "code",
   "execution_count": 105,
   "metadata": {},
   "outputs": [],
   "source": [
    "# Replace NaN in ALQ142 where ALQ111 == 2 (never used alcohol)\n",
    "df_3.loc[(df_3['ALQ111'] == 2) & (df_3['ALQ142'].isna()), 'ALQ142'] = 0"
   ]
  },
  {
   "cell_type": "code",
   "execution_count": 106,
   "metadata": {},
   "outputs": [],
   "source": [
    "# Replace NaN in ALQ142 where ALQ121 == 0 (never used alcohol last year)\n",
    "df_3.loc[(df_3['ALQ121'] == 0) & (df_3['ALQ142'].isna()), 'ALQ142'] = 0"
   ]
  },
  {
   "cell_type": "code",
   "execution_count": 107,
   "metadata": {},
   "outputs": [],
   "source": [
    "# Exclude rows where answers for ALQ130 and ALQ142 are 'refused' or 'don't know';\n",
    "df_3 = df_3[~(df_3['ALQ130'].isin([777, 999]) | df_3['ALQ142'].isin([77, 99]))]"
   ]
  },
  {
   "cell_type": "code",
   "execution_count": 108,
   "metadata": {},
   "outputs": [],
   "source": [
    "# Recategorize classes in ALQ142\n",
    "# Define mapping function\n",
    "def map_alq142(value):\n",
    "    if value == 0:\n",
    "        return 0  # Non-Drinker\n",
    "    elif value in [10, 9, 8, 7, 6]:\n",
    "        return 1  # Light Drinker\n",
    "    elif value in [5, 4, 3]:\n",
    "        return 2  # Moderate Drinker\n",
    "    elif value in [2, 1]:\n",
    "        return 3  # Heavy Drinker\n",
    "    else:\n",
    "        return np.nan  # Handle unexpected values if necessary\n",
    "\n",
    "# Apply transformation\n",
    "df_3['ALQ142'] = df_3['ALQ142'].apply(map_alq142)"
   ]
  },
  {
   "cell_type": "markdown",
   "metadata": {},
   "source": [
    "Also, Missing data will be handled by data imputation"
   ]
  },
  {
   "cell_type": "code",
   "execution_count": 109,
   "metadata": {},
   "outputs": [],
   "source": [
    "# Data imputation for ALQ130\n",
    "imputer_130 = SimpleImputer(strategy='median')  # Options: 'mean', 'median', 'most_frequent', 'constant'\n",
    "df_3[['ALQ130']] = imputer_130.fit_transform(df_3[['ALQ130']])"
   ]
  },
  {
   "cell_type": "code",
   "execution_count": 110,
   "metadata": {},
   "outputs": [],
   "source": [
    "# Data imputation for ALQ142\n",
    "imputer_142 = SimpleImputer(strategy='most_frequent')  # Options: 'mean', 'median', 'most_frequent', 'constant'\n",
    "df_3[['ALQ142']] = imputer_142.fit_transform(df_3[['ALQ142']])"
   ]
  },
  {
   "cell_type": "code",
   "execution_count": 111,
   "metadata": {},
   "outputs": [
    {
     "name": "stdout",
     "output_type": "stream",
     "text": [
      "       SEQN  ALQ130  ALQ142\n",
      "93   130553       2       1\n",
      "5511 140749       1       1\n",
      "6212 142058       1       1\n",
      "187  130723       2       1\n",
      "4024 137952       2       1\n",
      "5687 141070       3       2\n",
      "4861 139524       3       2\n",
      "6230 142095       2       1\n",
      "2844 135782       5       1\n",
      "5951 141535       0       0\n"
     ]
    }
   ],
   "source": [
    "# List of columns to keep\n",
    "columns_alc = ['SEQN', 'ALQ130', 'ALQ142']\n",
    "\n",
    "# Keep only these columns\n",
    "df_alc = df_3[columns_alc]\n",
    "\n",
    "# Inspect the result\n",
    "print(df_alc.sample(10))"
   ]
  },
  {
   "cell_type": "code",
   "execution_count": 112,
   "metadata": {},
   "outputs": [
    {
     "data": {
      "text/html": [
       "<pre style=\"white-space:pre;overflow-x:auto;line-height:normal;font-family:Menlo,'DejaVu Sans Mono',consolas,'Courier New',monospace\">╭──────────────────────────────────────────────── skimpy summary ─────────────────────────────────────────────────╮\n",
       "│ <span style=\"font-style: italic\">         Data Summary         </span> <span style=\"font-style: italic\">      Data Types       </span>                                                          │\n",
       "│ ┏━━━━━━━━━━━━━━━━━━━┳━━━━━━━━┓ ┏━━━━━━━━━━━━━┳━━━━━━━┓                                                          │\n",
       "│ ┃<span style=\"color: #008080; text-decoration-color: #008080; font-weight: bold\"> dataframe         </span>┃<span style=\"color: #008080; text-decoration-color: #008080; font-weight: bold\"> Values </span>┃ ┃<span style=\"color: #008080; text-decoration-color: #008080; font-weight: bold\"> Column Type </span>┃<span style=\"color: #008080; text-decoration-color: #008080; font-weight: bold\"> Count </span>┃                                                          │\n",
       "│ ┡━━━━━━━━━━━━━━━━━━━╇━━━━━━━━┩ ┡━━━━━━━━━━━━━╇━━━━━━━┩                                                          │\n",
       "│ │ Number of rows    │ 6306   │ │ float64     │ 3     │                                                          │\n",
       "│ │ Number of columns │ 3      │ └─────────────┴───────┘                                                          │\n",
       "│ └───────────────────┴────────┘                                                                                  │\n",
       "│ <span style=\"font-style: italic\">                                                    number                                                    </span>  │\n",
       "│ ┏━━━━━━━━━━━━━━━┳━━━━━┳━━━━━━━┳━━━━━━━━━━┳━━━━━━━┳━━━━━━━━━┳━━━━━━━━━┳━━━━━━━━━┳━━━━━━━━━┳━━━━━━━━━┳━━━━━━━━━┓  │\n",
       "│ ┃<span style=\"font-weight: bold\"> column_name   </span>┃<span style=\"font-weight: bold\"> NA  </span>┃<span style=\"font-weight: bold\"> NA %  </span>┃<span style=\"font-weight: bold\"> mean     </span>┃<span style=\"font-weight: bold\"> sd    </span>┃<span style=\"font-weight: bold\"> p0      </span>┃<span style=\"font-weight: bold\"> p25     </span>┃<span style=\"font-weight: bold\"> p50     </span>┃<span style=\"font-weight: bold\"> p75     </span>┃<span style=\"font-weight: bold\"> p100    </span>┃<span style=\"font-weight: bold\"> hist    </span>┃  │\n",
       "│ ┡━━━━━━━━━━━━━━━╇━━━━━╇━━━━━━━╇━━━━━━━━━━╇━━━━━━━╇━━━━━━━━━╇━━━━━━━━━╇━━━━━━━━━╇━━━━━━━━━╇━━━━━━━━━╇━━━━━━━━━┩  │\n",
       "│ │ <span style=\"color: #af87ff; text-decoration-color: #af87ff\">SEQN         </span> │ <span style=\"color: #008080; text-decoration-color: #008080\">  0</span> │ <span style=\"color: #008080; text-decoration-color: #008080\">    0</span> │ <span style=\"color: #008080; text-decoration-color: #008080\">  140000</span> │ <span style=\"color: #008080; text-decoration-color: #008080\"> 3400</span> │ <span style=\"color: #008080; text-decoration-color: #008080\"> 130000</span> │ <span style=\"color: #008080; text-decoration-color: #008080\"> 130000</span> │ <span style=\"color: #008080; text-decoration-color: #008080\"> 140000</span> │ <span style=\"color: #008080; text-decoration-color: #008080\"> 140000</span> │ <span style=\"color: #008080; text-decoration-color: #008080\"> 140000</span> │ <span style=\"color: #008000; text-decoration-color: #008000\">▇▇▇▇▇▇ </span> │  │\n",
       "│ │ <span style=\"color: #af87ff; text-decoration-color: #af87ff\">ALQ130       </span> │ <span style=\"color: #008080; text-decoration-color: #008080\">  0</span> │ <span style=\"color: #008080; text-decoration-color: #008080\">    0</span> │ <span style=\"color: #008080; text-decoration-color: #008080\">     2.2</span> │ <span style=\"color: #008080; text-decoration-color: #008080\">  1.9</span> │ <span style=\"color: #008080; text-decoration-color: #008080\">      0</span> │ <span style=\"color: #008080; text-decoration-color: #008080\">      1</span> │ <span style=\"color: #008080; text-decoration-color: #008080\">      2</span> │ <span style=\"color: #008080; text-decoration-color: #008080\">      2</span> │ <span style=\"color: #008080; text-decoration-color: #008080\">     15</span> │ <span style=\"color: #008000; text-decoration-color: #008000\">  ▇▁▁  </span> │  │\n",
       "│ │ <span style=\"color: #af87ff; text-decoration-color: #af87ff\">ALQ142       </span> │ <span style=\"color: #008080; text-decoration-color: #008080\">  0</span> │ <span style=\"color: #008080; text-decoration-color: #008080\">    0</span> │ <span style=\"color: #008080; text-decoration-color: #008080\">       1</span> │ <span style=\"color: #008080; text-decoration-color: #008080\"> 0.47</span> │ <span style=\"color: #008080; text-decoration-color: #008080\">      0</span> │ <span style=\"color: #008080; text-decoration-color: #008080\">      1</span> │ <span style=\"color: #008080; text-decoration-color: #008080\">      1</span> │ <span style=\"color: #008080; text-decoration-color: #008080\">      1</span> │ <span style=\"color: #008080; text-decoration-color: #008080\">      3</span> │ <span style=\"color: #008000; text-decoration-color: #008000\"> ▁ ▇ ▁ </span> │  │\n",
       "│ └───────────────┴─────┴───────┴──────────┴───────┴─────────┴─────────┴─────────┴─────────┴─────────┴─────────┘  │\n",
       "╰────────────────────────────────────────────────────── End ──────────────────────────────────────────────────────╯\n",
       "</pre>\n"
      ],
      "text/plain": [
       "╭──────────────────────────────────────────────── skimpy summary ─────────────────────────────────────────────────╮\n",
       "│ \u001b[3m         Data Summary         \u001b[0m \u001b[3m      Data Types       \u001b[0m                                                          │\n",
       "│ ┏━━━━━━━━━━━━━━━━━━━┳━━━━━━━━┓ ┏━━━━━━━━━━━━━┳━━━━━━━┓                                                          │\n",
       "│ ┃\u001b[1;36m \u001b[0m\u001b[1;36mdataframe        \u001b[0m\u001b[1;36m \u001b[0m┃\u001b[1;36m \u001b[0m\u001b[1;36mValues\u001b[0m\u001b[1;36m \u001b[0m┃ ┃\u001b[1;36m \u001b[0m\u001b[1;36mColumn Type\u001b[0m\u001b[1;36m \u001b[0m┃\u001b[1;36m \u001b[0m\u001b[1;36mCount\u001b[0m\u001b[1;36m \u001b[0m┃                                                          │\n",
       "│ ┡━━━━━━━━━━━━━━━━━━━╇━━━━━━━━┩ ┡━━━━━━━━━━━━━╇━━━━━━━┩                                                          │\n",
       "│ │ Number of rows    │ 6306   │ │ float64     │ 3     │                                                          │\n",
       "│ │ Number of columns │ 3      │ └─────────────┴───────┘                                                          │\n",
       "│ └───────────────────┴────────┘                                                                                  │\n",
       "│ \u001b[3m                                                    number                                                    \u001b[0m  │\n",
       "│ ┏━━━━━━━━━━━━━━━┳━━━━━┳━━━━━━━┳━━━━━━━━━━┳━━━━━━━┳━━━━━━━━━┳━━━━━━━━━┳━━━━━━━━━┳━━━━━━━━━┳━━━━━━━━━┳━━━━━━━━━┓  │\n",
       "│ ┃\u001b[1m \u001b[0m\u001b[1mcolumn_name  \u001b[0m\u001b[1m \u001b[0m┃\u001b[1m \u001b[0m\u001b[1mNA \u001b[0m\u001b[1m \u001b[0m┃\u001b[1m \u001b[0m\u001b[1mNA % \u001b[0m\u001b[1m \u001b[0m┃\u001b[1m \u001b[0m\u001b[1mmean    \u001b[0m\u001b[1m \u001b[0m┃\u001b[1m \u001b[0m\u001b[1msd   \u001b[0m\u001b[1m \u001b[0m┃\u001b[1m \u001b[0m\u001b[1mp0     \u001b[0m\u001b[1m \u001b[0m┃\u001b[1m \u001b[0m\u001b[1mp25    \u001b[0m\u001b[1m \u001b[0m┃\u001b[1m \u001b[0m\u001b[1mp50    \u001b[0m\u001b[1m \u001b[0m┃\u001b[1m \u001b[0m\u001b[1mp75    \u001b[0m\u001b[1m \u001b[0m┃\u001b[1m \u001b[0m\u001b[1mp100   \u001b[0m\u001b[1m \u001b[0m┃\u001b[1m \u001b[0m\u001b[1mhist   \u001b[0m\u001b[1m \u001b[0m┃  │\n",
       "│ ┡━━━━━━━━━━━━━━━╇━━━━━╇━━━━━━━╇━━━━━━━━━━╇━━━━━━━╇━━━━━━━━━╇━━━━━━━━━╇━━━━━━━━━╇━━━━━━━━━╇━━━━━━━━━╇━━━━━━━━━┩  │\n",
       "│ │ \u001b[38;5;141mSEQN         \u001b[0m │ \u001b[36m  0\u001b[0m │ \u001b[36m    0\u001b[0m │ \u001b[36m  140000\u001b[0m │ \u001b[36m 3400\u001b[0m │ \u001b[36m 130000\u001b[0m │ \u001b[36m 130000\u001b[0m │ \u001b[36m 140000\u001b[0m │ \u001b[36m 140000\u001b[0m │ \u001b[36m 140000\u001b[0m │ \u001b[32m▇▇▇▇▇▇ \u001b[0m │  │\n",
       "│ │ \u001b[38;5;141mALQ130       \u001b[0m │ \u001b[36m  0\u001b[0m │ \u001b[36m    0\u001b[0m │ \u001b[36m     2.2\u001b[0m │ \u001b[36m  1.9\u001b[0m │ \u001b[36m      0\u001b[0m │ \u001b[36m      1\u001b[0m │ \u001b[36m      2\u001b[0m │ \u001b[36m      2\u001b[0m │ \u001b[36m     15\u001b[0m │ \u001b[32m  ▇▁▁  \u001b[0m │  │\n",
       "│ │ \u001b[38;5;141mALQ142       \u001b[0m │ \u001b[36m  0\u001b[0m │ \u001b[36m    0\u001b[0m │ \u001b[36m       1\u001b[0m │ \u001b[36m 0.47\u001b[0m │ \u001b[36m      0\u001b[0m │ \u001b[36m      1\u001b[0m │ \u001b[36m      1\u001b[0m │ \u001b[36m      1\u001b[0m │ \u001b[36m      3\u001b[0m │ \u001b[32m ▁ ▇ ▁ \u001b[0m │  │\n",
       "│ └───────────────┴─────┴───────┴──────────┴───────┴─────────┴─────────┴─────────┴─────────┴─────────┴─────────┘  │\n",
       "╰────────────────────────────────────────────────────── End ──────────────────────────────────────────────────────╯\n"
      ]
     },
     "metadata": {},
     "output_type": "display_data"
    }
   ],
   "source": [
    "skim(df_alc)"
   ]
  },
  {
   "cell_type": "markdown",
   "metadata": {},
   "source": [
    "#### 4. Functioning Data"
   ]
  },
  {
   "cell_type": "code",
   "execution_count": 113,
   "metadata": {},
   "outputs": [
    {
     "name": "stdout",
     "output_type": "stream",
     "text": [
      "    SEQN  FNQ021  FNQ041  FNQ050  FNQ060  FNQ080  FNQ160  FNQ100  FNQ110  \\\n",
      "0 130378     NaN     NaN     NaN     NaN     NaN     NaN     NaN     NaN   \n",
      "1 130379     NaN     NaN     NaN     NaN     NaN     NaN     NaN     NaN   \n",
      "2 130380     NaN     NaN     NaN     NaN     NaN     NaN     NaN     NaN   \n",
      "3 130381       1       1       2     NaN       1       1       1       1   \n",
      "4 130384     NaN     NaN     NaN     NaN     NaN     NaN     NaN     NaN   \n",
      "\n",
      "   FNQ120  ...  FNQ460  FNQ470  FNQ480  FNQ490  FNQ510  FNQ520  FNQ530  \\\n",
      "0     NaN  ...       1       1       1       1       5     NaN       5   \n",
      "1     NaN  ...       1       1       1       1       4       1       5   \n",
      "2     NaN  ...       1       1       1       1       4       3       4   \n",
      "3       1  ...     NaN     NaN     NaN     NaN     NaN     NaN     NaN   \n",
      "4     NaN  ...       1       1       1       1       4       1       4   \n",
      "\n",
      "   FNQ540  FNDADI  FNDAEDI  \n",
      "0     NaN       2        2  \n",
      "1     NaN       2        2  \n",
      "2       1       2        2  \n",
      "3     NaN     NaN      NaN  \n",
      "4       2       2        2  \n",
      "\n",
      "[5 rows x 32 columns]\n"
     ]
    }
   ],
   "source": [
    "# Upload FUNCTIONING DATA\n",
    "\n",
    "# Prevent scientific notation for float numbers\n",
    "pd.set_option('display.float_format', '{:.0f}'.format)\n",
    "\n",
    "# Load the XPT file\n",
    "df_4 = pd.read_sas('FNQ_L.xpt', format='xport', encoding='latin1')\n",
    "\n",
    "# Inspect the dataframe\n",
    "print(df_4.head())"
   ]
  },
  {
   "cell_type": "markdown",
   "metadata": {},
   "source": [
    "For FNQ_L, it will be kept:\n",
    "- SEQN (Respondent sequence number): unique participant identifier\n",
    "- FNQ160: {Do you/Does SP} have difficulty with self-care such as feeding or dressing {yourself/himself/herself/SP}? [Would you say {you have/SP has}: no difficulty, some difficulty, a lot of difficulty, or cannot do at all?] 1 - No difficulty | 2 - Some difficulty | 3 - A lot of difficulty | 4 - Cannot do at all | 7 - Refused | 9 - Don't know\n",
    "- FNDADI: WG-SS Disability Indicator 18+ | 1 - With disabilities | 2 - Without disabilities"
   ]
  },
  {
   "cell_type": "markdown",
   "metadata": {},
   "source": [
    "Additionally, 'refused' and 'don't know' answers will be excluded"
   ]
  },
  {
   "cell_type": "code",
   "execution_count": 114,
   "metadata": {},
   "outputs": [],
   "source": [
    "# Exclude rows where answers for FNQ160 are 'refused' or 'don't know';\n",
    "df_4 = df_4[~(df_4['FNQ160'].isin([7, 9]))]"
   ]
  },
  {
   "cell_type": "code",
   "execution_count": 115,
   "metadata": {},
   "outputs": [
    {
     "name": "stdout",
     "output_type": "stream",
     "text": [
      "        SEQN  FNQ160  FNDADI\n",
      "3466  134190     NaN       2\n",
      "1154  131655     NaN       2\n",
      "935   131408     NaN       2\n",
      "2600  133235     NaN       1\n",
      "255   130652     NaN       2\n",
      "10880 142239     NaN       2\n",
      "9546  140789       1     NaN\n",
      "5749  136674       1     NaN\n",
      "816   131278       1     NaN\n",
      "8966  140160     NaN       2\n"
     ]
    }
   ],
   "source": [
    "# List of columns to keep\n",
    "columns_func = ['SEQN', 'FNQ160', 'FNDADI']\n",
    "\n",
    "# Keep only these columns\n",
    "df_func = df_4[columns_func]\n",
    "\n",
    "# Inspect the result\n",
    "print(df_func.sample(10))"
   ]
  },
  {
   "cell_type": "code",
   "execution_count": 116,
   "metadata": {},
   "outputs": [
    {
     "data": {
      "text/html": [
       "<pre style=\"white-space:pre;overflow-x:auto;line-height:normal;font-family:Menlo,'DejaVu Sans Mono',consolas,'Courier New',monospace\">╭──────────────────────────────────────────────── skimpy summary ─────────────────────────────────────────────────╮\n",
       "│ <span style=\"font-style: italic\">         Data Summary         </span> <span style=\"font-style: italic\">      Data Types       </span>                                                          │\n",
       "│ ┏━━━━━━━━━━━━━━━━━━━┳━━━━━━━━┓ ┏━━━━━━━━━━━━━┳━━━━━━━┓                                                          │\n",
       "│ ┃<span style=\"color: #008080; text-decoration-color: #008080; font-weight: bold\"> dataframe         </span>┃<span style=\"color: #008080; text-decoration-color: #008080; font-weight: bold\"> Values </span>┃ ┃<span style=\"color: #008080; text-decoration-color: #008080; font-weight: bold\"> Column Type </span>┃<span style=\"color: #008080; text-decoration-color: #008080; font-weight: bold\"> Count </span>┃                                                          │\n",
       "│ ┡━━━━━━━━━━━━━━━━━━━╇━━━━━━━━┩ ┡━━━━━━━━━━━━━╇━━━━━━━┩                                                          │\n",
       "│ │ Number of rows    │ 10941  │ │ float64     │ 3     │                                                          │\n",
       "│ │ Number of columns │ 3      │ └─────────────┴───────┘                                                          │\n",
       "│ └───────────────────┴────────┘                                                                                  │\n",
       "│ <span style=\"font-style: italic\">                                                    number                                                    </span>  │\n",
       "│ ┏━━━━━━━━━━━━━━━┳━━━━━━━┳━━━━━━━━┳━━━━━━━━━┳━━━━━━━┳━━━━━━━━━┳━━━━━━━━━┳━━━━━━━━━┳━━━━━━━━━┳━━━━━━━━┳━━━━━━━━┓  │\n",
       "│ ┃<span style=\"font-weight: bold\"> column_name   </span>┃<span style=\"font-weight: bold\"> NA    </span>┃<span style=\"font-weight: bold\"> NA %   </span>┃<span style=\"font-weight: bold\"> mean    </span>┃<span style=\"font-weight: bold\"> sd    </span>┃<span style=\"font-weight: bold\"> p0      </span>┃<span style=\"font-weight: bold\"> p25     </span>┃<span style=\"font-weight: bold\"> p50     </span>┃<span style=\"font-weight: bold\"> p75     </span>┃<span style=\"font-weight: bold\"> p100   </span>┃<span style=\"font-weight: bold\"> hist   </span>┃  │\n",
       "│ ┡━━━━━━━━━━━━━━━╇━━━━━━━╇━━━━━━━━╇━━━━━━━━━╇━━━━━━━╇━━━━━━━━━╇━━━━━━━━━╇━━━━━━━━━╇━━━━━━━━━╇━━━━━━━━╇━━━━━━━━┩  │\n",
       "│ │ <span style=\"color: #af87ff; text-decoration-color: #af87ff\">SEQN         </span> │ <span style=\"color: #008080; text-decoration-color: #008080\">    0</span> │ <span style=\"color: #008080; text-decoration-color: #008080\">     0</span> │ <span style=\"color: #008080; text-decoration-color: #008080\"> 140000</span> │ <span style=\"color: #008080; text-decoration-color: #008080\"> 3400</span> │ <span style=\"color: #008080; text-decoration-color: #008080\"> 130000</span> │ <span style=\"color: #008080; text-decoration-color: #008080\"> 130000</span> │ <span style=\"color: #008080; text-decoration-color: #008080\"> 140000</span> │ <span style=\"color: #008080; text-decoration-color: #008080\"> 140000</span> │ <span style=\"color: #008080; text-decoration-color: #008080\">140000</span> │ <span style=\"color: #008000; text-decoration-color: #008000\">▇▇▇▇▇▇</span> │  │\n",
       "│ │ <span style=\"color: #af87ff; text-decoration-color: #af87ff\">FNQ160       </span> │ <span style=\"color: #008080; text-decoration-color: #008080\"> 8155</span> │ <span style=\"color: #008080; text-decoration-color: #008080\"> 74.54</span> │ <span style=\"color: #008080; text-decoration-color: #008080\">    1.1</span> │ <span style=\"color: #008080; text-decoration-color: #008080\"> 0.27</span> │ <span style=\"color: #008080; text-decoration-color: #008080\">      1</span> │ <span style=\"color: #008080; text-decoration-color: #008080\">      1</span> │ <span style=\"color: #008080; text-decoration-color: #008080\">      1</span> │ <span style=\"color: #008080; text-decoration-color: #008080\">      1</span> │ <span style=\"color: #008080; text-decoration-color: #008080\">     4</span> │ <span style=\"color: #008000; text-decoration-color: #008000\">  ▇   </span> │  │\n",
       "│ │ <span style=\"color: #af87ff; text-decoration-color: #af87ff\">FNDADI       </span> │ <span style=\"color: #008080; text-decoration-color: #008080\"> 2798</span> │ <span style=\"color: #008080; text-decoration-color: #008080\"> 25.57</span> │ <span style=\"color: #008080; text-decoration-color: #008080\">    1.8</span> │ <span style=\"color: #008080; text-decoration-color: #008080\"> 0.39</span> │ <span style=\"color: #008080; text-decoration-color: #008080\">      1</span> │ <span style=\"color: #008080; text-decoration-color: #008080\">      2</span> │ <span style=\"color: #008080; text-decoration-color: #008080\">      2</span> │ <span style=\"color: #008080; text-decoration-color: #008080\">      2</span> │ <span style=\"color: #008080; text-decoration-color: #008080\">     2</span> │ <span style=\"color: #008000; text-decoration-color: #008000\">▂    ▇</span> │  │\n",
       "│ └───────────────┴───────┴────────┴─────────┴───────┴─────────┴─────────┴─────────┴─────────┴────────┴────────┘  │\n",
       "╰────────────────────────────────────────────────────── End ──────────────────────────────────────────────────────╯\n",
       "</pre>\n"
      ],
      "text/plain": [
       "╭──────────────────────────────────────────────── skimpy summary ─────────────────────────────────────────────────╮\n",
       "│ \u001b[3m         Data Summary         \u001b[0m \u001b[3m      Data Types       \u001b[0m                                                          │\n",
       "│ ┏━━━━━━━━━━━━━━━━━━━┳━━━━━━━━┓ ┏━━━━━━━━━━━━━┳━━━━━━━┓                                                          │\n",
       "│ ┃\u001b[1;36m \u001b[0m\u001b[1;36mdataframe        \u001b[0m\u001b[1;36m \u001b[0m┃\u001b[1;36m \u001b[0m\u001b[1;36mValues\u001b[0m\u001b[1;36m \u001b[0m┃ ┃\u001b[1;36m \u001b[0m\u001b[1;36mColumn Type\u001b[0m\u001b[1;36m \u001b[0m┃\u001b[1;36m \u001b[0m\u001b[1;36mCount\u001b[0m\u001b[1;36m \u001b[0m┃                                                          │\n",
       "│ ┡━━━━━━━━━━━━━━━━━━━╇━━━━━━━━┩ ┡━━━━━━━━━━━━━╇━━━━━━━┩                                                          │\n",
       "│ │ Number of rows    │ 10941  │ │ float64     │ 3     │                                                          │\n",
       "│ │ Number of columns │ 3      │ └─────────────┴───────┘                                                          │\n",
       "│ └───────────────────┴────────┘                                                                                  │\n",
       "│ \u001b[3m                                                    number                                                    \u001b[0m  │\n",
       "│ ┏━━━━━━━━━━━━━━━┳━━━━━━━┳━━━━━━━━┳━━━━━━━━━┳━━━━━━━┳━━━━━━━━━┳━━━━━━━━━┳━━━━━━━━━┳━━━━━━━━━┳━━━━━━━━┳━━━━━━━━┓  │\n",
       "│ ┃\u001b[1m \u001b[0m\u001b[1mcolumn_name  \u001b[0m\u001b[1m \u001b[0m┃\u001b[1m \u001b[0m\u001b[1mNA   \u001b[0m\u001b[1m \u001b[0m┃\u001b[1m \u001b[0m\u001b[1mNA %  \u001b[0m\u001b[1m \u001b[0m┃\u001b[1m \u001b[0m\u001b[1mmean   \u001b[0m\u001b[1m \u001b[0m┃\u001b[1m \u001b[0m\u001b[1msd   \u001b[0m\u001b[1m \u001b[0m┃\u001b[1m \u001b[0m\u001b[1mp0     \u001b[0m\u001b[1m \u001b[0m┃\u001b[1m \u001b[0m\u001b[1mp25    \u001b[0m\u001b[1m \u001b[0m┃\u001b[1m \u001b[0m\u001b[1mp50    \u001b[0m\u001b[1m \u001b[0m┃\u001b[1m \u001b[0m\u001b[1mp75    \u001b[0m\u001b[1m \u001b[0m┃\u001b[1m \u001b[0m\u001b[1mp100  \u001b[0m\u001b[1m \u001b[0m┃\u001b[1m \u001b[0m\u001b[1mhist  \u001b[0m\u001b[1m \u001b[0m┃  │\n",
       "│ ┡━━━━━━━━━━━━━━━╇━━━━━━━╇━━━━━━━━╇━━━━━━━━━╇━━━━━━━╇━━━━━━━━━╇━━━━━━━━━╇━━━━━━━━━╇━━━━━━━━━╇━━━━━━━━╇━━━━━━━━┩  │\n",
       "│ │ \u001b[38;5;141mSEQN         \u001b[0m │ \u001b[36m    0\u001b[0m │ \u001b[36m     0\u001b[0m │ \u001b[36m 140000\u001b[0m │ \u001b[36m 3400\u001b[0m │ \u001b[36m 130000\u001b[0m │ \u001b[36m 130000\u001b[0m │ \u001b[36m 140000\u001b[0m │ \u001b[36m 140000\u001b[0m │ \u001b[36m140000\u001b[0m │ \u001b[32m▇▇▇▇▇▇\u001b[0m │  │\n",
       "│ │ \u001b[38;5;141mFNQ160       \u001b[0m │ \u001b[36m 8155\u001b[0m │ \u001b[36m 74.54\u001b[0m │ \u001b[36m    1.1\u001b[0m │ \u001b[36m 0.27\u001b[0m │ \u001b[36m      1\u001b[0m │ \u001b[36m      1\u001b[0m │ \u001b[36m      1\u001b[0m │ \u001b[36m      1\u001b[0m │ \u001b[36m     4\u001b[0m │ \u001b[32m  ▇   \u001b[0m │  │\n",
       "│ │ \u001b[38;5;141mFNDADI       \u001b[0m │ \u001b[36m 2798\u001b[0m │ \u001b[36m 25.57\u001b[0m │ \u001b[36m    1.8\u001b[0m │ \u001b[36m 0.39\u001b[0m │ \u001b[36m      1\u001b[0m │ \u001b[36m      2\u001b[0m │ \u001b[36m      2\u001b[0m │ \u001b[36m      2\u001b[0m │ \u001b[36m     2\u001b[0m │ \u001b[32m▂    ▇\u001b[0m │  │\n",
       "│ └───────────────┴───────┴────────┴─────────┴───────┴─────────┴─────────┴─────────┴─────────┴────────┴────────┘  │\n",
       "╰────────────────────────────────────────────────────── End ──────────────────────────────────────────────────────╯\n"
      ]
     },
     "metadata": {},
     "output_type": "display_data"
    }
   ],
   "source": [
    "skim(df_func)"
   ]
  },
  {
   "cell_type": "markdown",
   "metadata": {},
   "source": [
    "#### 5. Hospital Utilization and Access to Care Data"
   ]
  },
  {
   "cell_type": "code",
   "execution_count": 117,
   "metadata": {},
   "outputs": [
    {
     "name": "stdout",
     "output_type": "stream",
     "text": [
      "    SEQN  HUQ010  HUQ030  HUQ042  HUQ055  HUQ090\n",
      "0 130378       1       1       1       2       2\n",
      "1 130379       3       1       1       1       2\n",
      "2 130380       3       1       1       1       2\n",
      "3 130381       1       1       1       2       2\n",
      "4 130382       3       1       1       2     NaN\n"
     ]
    }
   ],
   "source": [
    "# Upload HOSPITAL UTILIZATION DATA\n",
    "\n",
    "# Prevent scientific notation for float numbers\n",
    "pd.set_option('display.float_format', '{:.0f}'.format)\n",
    "\n",
    "# Load the XPT file\n",
    "df_5 = pd.read_sas('HUQ_L.xpt', format='xport', encoding='latin1')\n",
    "\n",
    "# Inspect the dataframe\n",
    "print(df_5.head())"
   ]
  },
  {
   "cell_type": "markdown",
   "metadata": {},
   "source": [
    "For HUQ_L, it will be kept:\n",
    "- SEQN (Respondent sequence number): unique participant identifier\n",
    "- HUQ010: {First/Next} I have some general questions about {your/SP's} health. Would you say {your/SP's} health in general is... | 1 - Excellent | 2 - Very good | 3 - Good | 4 - Fair | 5 - Poor | 7 - Refused | 9 - Don't know"
   ]
  },
  {
   "cell_type": "markdown",
   "metadata": {},
   "source": [
    "Additionally, 'refused' and 'don't know' answers will be excluded"
   ]
  },
  {
   "cell_type": "code",
   "execution_count": 118,
   "metadata": {},
   "outputs": [],
   "source": [
    "# Exclude rows where answers for HUQ010 are 'refused' or 'don't know';\n",
    "df_5 = df_5[~(df_5['HUQ010'].isin([7, 9]))]"
   ]
  },
  {
   "cell_type": "code",
   "execution_count": 119,
   "metadata": {},
   "outputs": [
    {
     "name": "stdout",
     "output_type": "stream",
     "text": [
      "        SEQN  HUQ010\n",
      "8636  139014       2\n",
      "7234  137612       2\n",
      "4240  134618       1\n",
      "8198  138576       3\n",
      "3023  133401       2\n",
      "11142 141520       2\n",
      "2007  132385       4\n",
      "6985  137363       2\n",
      "3059  133437       1\n",
      "2611  132989       2\n"
     ]
    }
   ],
   "source": [
    "# List of columns to keep\n",
    "columns_hosp_util = ['SEQN', 'HUQ010']\n",
    "\n",
    "# Keep only these columns\n",
    "df_hosp_util = df_5[columns_hosp_util]\n",
    "\n",
    "# Inspect the result\n",
    "print(df_hosp_util.sample(10))"
   ]
  },
  {
   "cell_type": "code",
   "execution_count": 120,
   "metadata": {},
   "outputs": [
    {
     "data": {
      "text/html": [
       "<pre style=\"white-space:pre;overflow-x:auto;line-height:normal;font-family:Menlo,'DejaVu Sans Mono',consolas,'Courier New',monospace\">╭──────────────────────────────────────────────── skimpy summary ─────────────────────────────────────────────────╮\n",
       "│ <span style=\"font-style: italic\">         Data Summary         </span> <span style=\"font-style: italic\">      Data Types       </span>                                                          │\n",
       "│ ┏━━━━━━━━━━━━━━━━━━━┳━━━━━━━━┓ ┏━━━━━━━━━━━━━┳━━━━━━━┓                                                          │\n",
       "│ ┃<span style=\"color: #008080; text-decoration-color: #008080; font-weight: bold\"> dataframe         </span>┃<span style=\"color: #008080; text-decoration-color: #008080; font-weight: bold\"> Values </span>┃ ┃<span style=\"color: #008080; text-decoration-color: #008080; font-weight: bold\"> Column Type </span>┃<span style=\"color: #008080; text-decoration-color: #008080; font-weight: bold\"> Count </span>┃                                                          │\n",
       "│ ┡━━━━━━━━━━━━━━━━━━━╇━━━━━━━━┩ ┡━━━━━━━━━━━━━╇━━━━━━━┩                                                          │\n",
       "│ │ Number of rows    │ 11926  │ │ float64     │ 2     │                                                          │\n",
       "│ │ Number of columns │ 2      │ └─────────────┴───────┘                                                          │\n",
       "│ └───────────────────┴────────┘                                                                                  │\n",
       "│ <span style=\"font-style: italic\">                                                    number                                                    </span>  │\n",
       "│ ┏━━━━━━━━━━━━━━━┳━━━━━┳━━━━━━━┳━━━━━━━━━━┳━━━━━━━┳━━━━━━━━━┳━━━━━━━━━┳━━━━━━━━━┳━━━━━━━━━┳━━━━━━━━━┳━━━━━━━━━┓  │\n",
       "│ ┃<span style=\"font-weight: bold\"> column_name   </span>┃<span style=\"font-weight: bold\"> NA  </span>┃<span style=\"font-weight: bold\"> NA %  </span>┃<span style=\"font-weight: bold\"> mean     </span>┃<span style=\"font-weight: bold\"> sd    </span>┃<span style=\"font-weight: bold\"> p0      </span>┃<span style=\"font-weight: bold\"> p25     </span>┃<span style=\"font-weight: bold\"> p50     </span>┃<span style=\"font-weight: bold\"> p75     </span>┃<span style=\"font-weight: bold\"> p100    </span>┃<span style=\"font-weight: bold\"> hist    </span>┃  │\n",
       "│ ┡━━━━━━━━━━━━━━━╇━━━━━╇━━━━━━━╇━━━━━━━━━━╇━━━━━━━╇━━━━━━━━━╇━━━━━━━━━╇━━━━━━━━━╇━━━━━━━━━╇━━━━━━━━━╇━━━━━━━━━┩  │\n",
       "│ │ <span style=\"color: #af87ff; text-decoration-color: #af87ff\">SEQN         </span> │ <span style=\"color: #008080; text-decoration-color: #008080\">  0</span> │ <span style=\"color: #008080; text-decoration-color: #008080\">    0</span> │ <span style=\"color: #008080; text-decoration-color: #008080\">  140000</span> │ <span style=\"color: #008080; text-decoration-color: #008080\"> 3400</span> │ <span style=\"color: #008080; text-decoration-color: #008080\"> 130000</span> │ <span style=\"color: #008080; text-decoration-color: #008080\"> 130000</span> │ <span style=\"color: #008080; text-decoration-color: #008080\"> 140000</span> │ <span style=\"color: #008080; text-decoration-color: #008080\"> 140000</span> │ <span style=\"color: #008080; text-decoration-color: #008080\"> 140000</span> │ <span style=\"color: #008000; text-decoration-color: #008000\">▇▇▇▇▇▇ </span> │  │\n",
       "│ │ <span style=\"color: #af87ff; text-decoration-color: #af87ff\">HUQ010       </span> │ <span style=\"color: #008080; text-decoration-color: #008080\">  0</span> │ <span style=\"color: #008080; text-decoration-color: #008080\">    0</span> │ <span style=\"color: #008080; text-decoration-color: #008080\">     2.3</span> │ <span style=\"color: #008080; text-decoration-color: #008080\">  1.1</span> │ <span style=\"color: #008080; text-decoration-color: #008080\">      1</span> │ <span style=\"color: #008080; text-decoration-color: #008080\">      1</span> │ <span style=\"color: #008080; text-decoration-color: #008080\">      2</span> │ <span style=\"color: #008080; text-decoration-color: #008080\">      3</span> │ <span style=\"color: #008080; text-decoration-color: #008080\">      5</span> │ <span style=\"color: #008000; text-decoration-color: #008000\">▇▇ ▇▃▁ </span> │  │\n",
       "│ └───────────────┴─────┴───────┴──────────┴───────┴─────────┴─────────┴─────────┴─────────┴─────────┴─────────┘  │\n",
       "╰────────────────────────────────────────────────────── End ──────────────────────────────────────────────────────╯\n",
       "</pre>\n"
      ],
      "text/plain": [
       "╭──────────────────────────────────────────────── skimpy summary ─────────────────────────────────────────────────╮\n",
       "│ \u001b[3m         Data Summary         \u001b[0m \u001b[3m      Data Types       \u001b[0m                                                          │\n",
       "│ ┏━━━━━━━━━━━━━━━━━━━┳━━━━━━━━┓ ┏━━━━━━━━━━━━━┳━━━━━━━┓                                                          │\n",
       "│ ┃\u001b[1;36m \u001b[0m\u001b[1;36mdataframe        \u001b[0m\u001b[1;36m \u001b[0m┃\u001b[1;36m \u001b[0m\u001b[1;36mValues\u001b[0m\u001b[1;36m \u001b[0m┃ ┃\u001b[1;36m \u001b[0m\u001b[1;36mColumn Type\u001b[0m\u001b[1;36m \u001b[0m┃\u001b[1;36m \u001b[0m\u001b[1;36mCount\u001b[0m\u001b[1;36m \u001b[0m┃                                                          │\n",
       "│ ┡━━━━━━━━━━━━━━━━━━━╇━━━━━━━━┩ ┡━━━━━━━━━━━━━╇━━━━━━━┩                                                          │\n",
       "│ │ Number of rows    │ 11926  │ │ float64     │ 2     │                                                          │\n",
       "│ │ Number of columns │ 2      │ └─────────────┴───────┘                                                          │\n",
       "│ └───────────────────┴────────┘                                                                                  │\n",
       "│ \u001b[3m                                                    number                                                    \u001b[0m  │\n",
       "│ ┏━━━━━━━━━━━━━━━┳━━━━━┳━━━━━━━┳━━━━━━━━━━┳━━━━━━━┳━━━━━━━━━┳━━━━━━━━━┳━━━━━━━━━┳━━━━━━━━━┳━━━━━━━━━┳━━━━━━━━━┓  │\n",
       "│ ┃\u001b[1m \u001b[0m\u001b[1mcolumn_name  \u001b[0m\u001b[1m \u001b[0m┃\u001b[1m \u001b[0m\u001b[1mNA \u001b[0m\u001b[1m \u001b[0m┃\u001b[1m \u001b[0m\u001b[1mNA % \u001b[0m\u001b[1m \u001b[0m┃\u001b[1m \u001b[0m\u001b[1mmean    \u001b[0m\u001b[1m \u001b[0m┃\u001b[1m \u001b[0m\u001b[1msd   \u001b[0m\u001b[1m \u001b[0m┃\u001b[1m \u001b[0m\u001b[1mp0     \u001b[0m\u001b[1m \u001b[0m┃\u001b[1m \u001b[0m\u001b[1mp25    \u001b[0m\u001b[1m \u001b[0m┃\u001b[1m \u001b[0m\u001b[1mp50    \u001b[0m\u001b[1m \u001b[0m┃\u001b[1m \u001b[0m\u001b[1mp75    \u001b[0m\u001b[1m \u001b[0m┃\u001b[1m \u001b[0m\u001b[1mp100   \u001b[0m\u001b[1m \u001b[0m┃\u001b[1m \u001b[0m\u001b[1mhist   \u001b[0m\u001b[1m \u001b[0m┃  │\n",
       "│ ┡━━━━━━━━━━━━━━━╇━━━━━╇━━━━━━━╇━━━━━━━━━━╇━━━━━━━╇━━━━━━━━━╇━━━━━━━━━╇━━━━━━━━━╇━━━━━━━━━╇━━━━━━━━━╇━━━━━━━━━┩  │\n",
       "│ │ \u001b[38;5;141mSEQN         \u001b[0m │ \u001b[36m  0\u001b[0m │ \u001b[36m    0\u001b[0m │ \u001b[36m  140000\u001b[0m │ \u001b[36m 3400\u001b[0m │ \u001b[36m 130000\u001b[0m │ \u001b[36m 130000\u001b[0m │ \u001b[36m 140000\u001b[0m │ \u001b[36m 140000\u001b[0m │ \u001b[36m 140000\u001b[0m │ \u001b[32m▇▇▇▇▇▇ \u001b[0m │  │\n",
       "│ │ \u001b[38;5;141mHUQ010       \u001b[0m │ \u001b[36m  0\u001b[0m │ \u001b[36m    0\u001b[0m │ \u001b[36m     2.3\u001b[0m │ \u001b[36m  1.1\u001b[0m │ \u001b[36m      1\u001b[0m │ \u001b[36m      1\u001b[0m │ \u001b[36m      2\u001b[0m │ \u001b[36m      3\u001b[0m │ \u001b[36m      5\u001b[0m │ \u001b[32m▇▇ ▇▃▁ \u001b[0m │  │\n",
       "│ └───────────────┴─────┴───────┴──────────┴───────┴─────────┴─────────┴─────────┴─────────┴─────────┴─────────┘  │\n",
       "╰────────────────────────────────────────────────────── End ──────────────────────────────────────────────────────╯\n"
      ]
     },
     "metadata": {},
     "output_type": "display_data"
    }
   ],
   "source": [
    "skim(df_hosp_util)"
   ]
  },
  {
   "cell_type": "markdown",
   "metadata": {},
   "source": [
    "#### 6. Income Data"
   ]
  },
  {
   "cell_type": "markdown",
   "metadata": {},
   "source": [
    "Income data in survey is related to:\n",
    "\n",
    "- INDFMMPI (Family monthly poverty level index)\n",
    "\n",
    "The respondent was asked to report total family income, received last month in dollars, for themselves and the other members of their family. This variable is an index for the ratio of reported monthly income to poverty. The Department of Health and Human Services’ (HHS) poverty guidelines were used as the poverty measure to calculate this index. These guidelines are issued annually in the Federal Register, and are used to determine financial eligibility for certain federal programs, such as Head Start, Supplemental Nutrition Assistance Program (SNAP) (formerly Food Stamp Program), Special Supplemental Nutrition Program for Women, Infants, and Children (WIC), and the National School Lunch Program. The variable INDFMMPI was calculated by dividing family income by the poverty guidelines, specific to family size, as well as the appropriate year and state. Values at or above 5.00 were coded as 5.00 or more because of disclosure concerns. The values were not computed if the family income data was missing.\n",
    "\n",
    "- INDFMMPC (Family monthly poverty level index category)\n",
    "\n",
    "For respondents who reported their family monthly income in dollar amounts, we calculated their family monthly poverty level index (INDFMMPI) as described above. The index was then grouped into three categories (i.e., INDFMMPI ≤ 1.30, 1.30 < INDFMMPI ≤ 1.85, INDFMMPI >1.85) and reported in this variable. These categories were chosen because they represented commonly used percentages of the poverty guidelines (i.e., 130 percent and 185 percent of the guidelines), by federal programs, in determining eligibility.\n",
    "\n",
    "When the respondent refused to answer the family monthly income question or did not know the total combined family income, a monthly income screener question was asked (question INQ238) to query whether the monthly family income was below 185% of the HHS poverty guidelines. If the response was positive, a follow-up question (INQ241) was asked to see whether the family’s monthly income was more or less than 130% of the HHS poverty guidelines. For these respondents, answers to INQ238 and INQ241 were used to derive variable INDFMMPC."
   ]
  },
  {
   "cell_type": "code",
   "execution_count": 121,
   "metadata": {},
   "outputs": [],
   "source": [
    "# Upload INCOME DATA\n",
    "\n",
    "# Prevent scientific notation for float numbers\n",
    "# pd.set_option('display.float_format', '{:.0f}'.format)\n",
    "\n",
    "# Load the XPT file\n",
    "# df_6 = pd.read_sas('INQ_L.xpt', format='xport', encoding='latin1')\n",
    "\n",
    "# Inspect the dataframe\n",
    "# print(df_6.head())"
   ]
  },
  {
   "cell_type": "markdown",
   "metadata": {},
   "source": [
    "INQ_L will not be included, as questions related to income are difficult to retrieve as regular data in communitary level"
   ]
  },
  {
   "cell_type": "markdown",
   "metadata": {},
   "source": [
    "#### 7. Medical Conditions Data"
   ]
  },
  {
   "cell_type": "code",
   "execution_count": 122,
   "metadata": {},
   "outputs": [
    {
     "name": "stdout",
     "output_type": "stream",
     "text": [
      "    SEQN  MCQ010  MCQ035  MCQ040  MCQ050  AGQ030  MCQ053  MCQ149  MCQ160A  \\\n",
      "0 130378       2     NaN     NaN     NaN       2       2     NaN        1   \n",
      "1 130379       2     NaN     NaN     NaN       2       2     NaN        2   \n",
      "2 130380       2     NaN     NaN     NaN       2       2     NaN        2   \n",
      "3 130381       2     NaN     NaN     NaN       1       2     NaN      NaN   \n",
      "4 130382       2     NaN     NaN     NaN       2       2     NaN      NaN   \n",
      "\n",
      "   MCQ195  ...  MCQ510E  MCQ510F  MCQ550  MCQ560  MCQ220  MCQ230A  MCQ230B  \\\n",
      "0       2  ...      NaN      NaN       2       2       2      NaN      NaN   \n",
      "1     NaN  ...      NaN      NaN       2       2       1       30      NaN   \n",
      "2     NaN  ...      NaN      NaN       2       2       2      NaN      NaN   \n",
      "3     NaN  ...      NaN      NaN     NaN     NaN     NaN      NaN      NaN   \n",
      "4     NaN  ...      NaN      NaN     NaN     NaN     NaN      NaN      NaN   \n",
      "\n",
      "   MCQ230C  MCQ230D  OSQ230  \n",
      "0      NaN      NaN       2  \n",
      "1      NaN      NaN       1  \n",
      "2      NaN      NaN       1  \n",
      "3      NaN      NaN     NaN  \n",
      "4      NaN      NaN     NaN  \n",
      "\n",
      "[5 rows x 35 columns]\n"
     ]
    }
   ],
   "source": [
    "# Upload MEDICAL CONDITIONS DATA\n",
    "\n",
    "# Prevent scientific notation for float numbers\n",
    "pd.set_option('display.float_format', '{:.0f}'.format)\n",
    "\n",
    "# Load the XPT file\n",
    "df_7 = pd.read_sas('MCQ_L.xpt', format='xport', encoding='latin1')\n",
    "\n",
    "# Inspect the dataframe\n",
    "print(df_7.head())"
   ]
  },
  {
   "cell_type": "markdown",
   "metadata": {},
   "source": [
    "For MCQ_L, it will be kept:\n",
    "- SEQN (Respondent sequence number): unique participant identifier\n",
    "- MCQ010 : Has a doctor or other health professional ever told {you/SP} that {you have/s/he/SP has} asthma (az-ma)? 1- Yes | 2 - No | 7 - Refused | 9 - Don't know\n",
    "- MCQ053: During the past 3 months, {have you/has SP} been on treatment for anemia (a-nee-me-a), sometimes called \"tired blood\" or \"low blood\"? [Include diet, iron pills, iron shots, transfusions as treatment.] 1- Yes | 2 - No | 7 - Refused | 9 - Don't know\n",
    "- MCQ160A: Has a doctor or other health professional ever told {you/SP} that {you/s/he} . . .had arthritis (ar-thry-tis)? 1- Yes | 2 - No | 7 - Refused | 9 - Don't know\n",
    "- MCQ160B: Has a doctor or other health professional ever told {you/SP} that {you/s/he} . . .had congestive heart failure? 1- Yes | 2 - No | 7 - Refused | 9 - Don't know\n",
    "- MCQ160C: Has a doctor or other health professional ever told {you/SP} that {you/s/he} . . .had coronary (kor-o-nare-ee) heart disease? 1- Yes | 2 - No | 7 - Refused | 9 - Don't know\n",
    "- MCQ160F: Has a doctor or other health professional ever told {you/SP} that {you/s/he} . . .had a stroke? 1- Yes | 2 - No | 7 - Refused | 9 - Don't know\n",
    "- MCQ160P: {Have you/Has SP} ever been told by a doctor or other health professional that {you/he/she} . . . had chronic obstructive pulmonary disease or COPD, emphysema, or chronic bronchitis? 1- Yes | 2 - No | 7 - Refused | 9 - Don't know\n",
    "- MCQ220: {Have you/Has SP} ever been told by a doctor or other health professional that {you/s/he} had cancer or a malignancy (ma-lig-nan-see) of any kind? 1- Yes | 2 - No | 7 - Refused | 9 - Don't know"
   ]
  },
  {
   "cell_type": "markdown",
   "metadata": {},
   "source": [
    "Additionally, 'refused' and 'don't know' answers will be excluded"
   ]
  },
  {
   "cell_type": "code",
   "execution_count": 123,
   "metadata": {},
   "outputs": [],
   "source": [
    "# Exclude rows where answers for ALQ130 and ALQ142 are 'refused' or 'don't know';\n",
    "df_7 = df_7[~(df_7['MCQ010'].isin([7, 9]) | df_7['MCQ053'].isin([7, 9]) | df_7['MCQ160A'].isin([7, 9]) | df_7['MCQ160B'].isin([7, 9]) | df_7['MCQ160C'].isin([7, 9]) | df_7['MCQ160F'].isin([7, 9]) | df_7['MCQ160P'].isin([7, 9]) | df_7['MCQ220'].isin([7, 9]))]"
   ]
  },
  {
   "cell_type": "code",
   "execution_count": 124,
   "metadata": {},
   "outputs": [],
   "source": [
    "for col in df_7:\n",
    "    if col != 'SEQN':  # Skip the 'SEQN' column\n",
    "        df_7[col] = df_7[col].replace({1: True, 2: False}).astype(bool)"
   ]
  },
  {
   "cell_type": "code",
   "execution_count": 125,
   "metadata": {},
   "outputs": [
    {
     "name": "stdout",
     "output_type": "stream",
     "text": [
      "        SEQN  MCQ010  MCQ053  MCQ160A  MCQ160B  MCQ160C  MCQ160F  MCQ160P  \\\n",
      "3641  134088   False   False     True    False    False    False    False   \n",
      "10457 141003    True   False    False    False    False    False    False   \n",
      "9354  139887    True   False     True    False    False    False    False   \n",
      "4691  135152   False   False     True    False    False    False    False   \n",
      "1716  132121    True   False     True    False    False    False    False   \n",
      "9405  139938   False    True    False    False    False    False    False   \n",
      "8080  138593   False   False    False    False    False    False    False   \n",
      "6410  136904   False   False     True     True     True     True     True   \n",
      "3479  133923    True    True     True    False    False    False    False   \n",
      "3868  134318   False   False     True     True     True     True     True   \n",
      "\n",
      "       MCQ220  \n",
      "3641    False  \n",
      "10457   False  \n",
      "9354    False  \n",
      "4691    False  \n",
      "1716    False  \n",
      "9405    False  \n",
      "8080    False  \n",
      "6410     True  \n",
      "3479    False  \n",
      "3868     True  \n"
     ]
    }
   ],
   "source": [
    "# List of columns to keep\n",
    "columns_mc = ['SEQN', 'MCQ010', 'MCQ053', 'MCQ160A', 'MCQ160B', 'MCQ160C', 'MCQ160F', 'MCQ160P', 'MCQ220']\n",
    "\n",
    "# Keep only these columns\n",
    "df_mc = df_7[columns_mc]\n",
    "\n",
    "# Inspect the result\n",
    "print(df_mc.sample(10))"
   ]
  },
  {
   "cell_type": "code",
   "execution_count": 126,
   "metadata": {},
   "outputs": [
    {
     "data": {
      "text/html": [
       "<pre style=\"white-space:pre;overflow-x:auto;line-height:normal;font-family:Menlo,'DejaVu Sans Mono',consolas,'Courier New',monospace\">╭──────────────────────────────────────────────── skimpy summary ─────────────────────────────────────────────────╮\n",
       "│ <span style=\"font-style: italic\">         Data Summary         </span> <span style=\"font-style: italic\">      Data Types       </span>                                                          │\n",
       "│ ┏━━━━━━━━━━━━━━━━━━━┳━━━━━━━━┓ ┏━━━━━━━━━━━━━┳━━━━━━━┓                                                          │\n",
       "│ ┃<span style=\"color: #008080; text-decoration-color: #008080; font-weight: bold\"> dataframe         </span>┃<span style=\"color: #008080; text-decoration-color: #008080; font-weight: bold\"> Values </span>┃ ┃<span style=\"color: #008080; text-decoration-color: #008080; font-weight: bold\"> Column Type </span>┃<span style=\"color: #008080; text-decoration-color: #008080; font-weight: bold\"> Count </span>┃                                                          │\n",
       "│ ┡━━━━━━━━━━━━━━━━━━━╇━━━━━━━━┩ ┡━━━━━━━━━━━━━╇━━━━━━━┩                                                          │\n",
       "│ │ Number of rows    │ 11620  │ │ bool        │ 8     │                                                          │\n",
       "│ │ Number of columns │ 9      │ │ float64     │ 1     │                                                          │\n",
       "│ └───────────────────┴────────┘ └─────────────┴───────┘                                                          │\n",
       "│ <span style=\"font-style: italic\">                                                    number                                                    </span>  │\n",
       "│ ┏━━━━━━━━━━━━━━━┳━━━━━┳━━━━━━━┳━━━━━━━━━━┳━━━━━━━┳━━━━━━━━━┳━━━━━━━━━┳━━━━━━━━━┳━━━━━━━━━┳━━━━━━━━━┳━━━━━━━━━┓  │\n",
       "│ ┃<span style=\"font-weight: bold\"> column_name   </span>┃<span style=\"font-weight: bold\"> NA  </span>┃<span style=\"font-weight: bold\"> NA %  </span>┃<span style=\"font-weight: bold\"> mean     </span>┃<span style=\"font-weight: bold\"> sd    </span>┃<span style=\"font-weight: bold\"> p0      </span>┃<span style=\"font-weight: bold\"> p25     </span>┃<span style=\"font-weight: bold\"> p50     </span>┃<span style=\"font-weight: bold\"> p75     </span>┃<span style=\"font-weight: bold\"> p100    </span>┃<span style=\"font-weight: bold\"> hist    </span>┃  │\n",
       "│ ┡━━━━━━━━━━━━━━━╇━━━━━╇━━━━━━━╇━━━━━━━━━━╇━━━━━━━╇━━━━━━━━━╇━━━━━━━━━╇━━━━━━━━━╇━━━━━━━━━╇━━━━━━━━━╇━━━━━━━━━┩  │\n",
       "│ │ <span style=\"color: #af87ff; text-decoration-color: #af87ff\">SEQN         </span> │ <span style=\"color: #008080; text-decoration-color: #008080\">  0</span> │ <span style=\"color: #008080; text-decoration-color: #008080\">    0</span> │ <span style=\"color: #008080; text-decoration-color: #008080\">  140000</span> │ <span style=\"color: #008080; text-decoration-color: #008080\"> 3400</span> │ <span style=\"color: #008080; text-decoration-color: #008080\"> 130000</span> │ <span style=\"color: #008080; text-decoration-color: #008080\"> 130000</span> │ <span style=\"color: #008080; text-decoration-color: #008080\"> 140000</span> │ <span style=\"color: #008080; text-decoration-color: #008080\"> 140000</span> │ <span style=\"color: #008080; text-decoration-color: #008080\"> 140000</span> │ <span style=\"color: #008000; text-decoration-color: #008000\">▇▇▇▇▇▇ </span> │  │\n",
       "│ └───────────────┴─────┴───────┴──────────┴───────┴─────────┴─────────┴─────────┴─────────┴─────────┴─────────┘  │\n",
       "│ <span style=\"font-style: italic\">                                                     bool                                                     </span>  │\n",
       "│ ┏━━━━━━━━━━━━━━━━━━━━━━━━━━━━━━━━━━━━┳━━━━━━━━━━━━━━━━━┳━━━━━━━━━━━━━━━━━━━━━━━━━━━━━━━┳━━━━━━━━━━━━━━━━━━━━━┓  │\n",
       "│ ┃<span style=\"font-weight: bold\"> column_name                        </span>┃<span style=\"font-weight: bold\"> true            </span>┃<span style=\"font-weight: bold\"> true rate                     </span>┃<span style=\"font-weight: bold\"> hist                </span>┃  │\n",
       "│ ┡━━━━━━━━━━━━━━━━━━━━━━━━━━━━━━━━━━━━╇━━━━━━━━━━━━━━━━━╇━━━━━━━━━━━━━━━━━━━━━━━━━━━━━━━╇━━━━━━━━━━━━━━━━━━━━━┩  │\n",
       "│ │ <span style=\"color: #af87ff; text-decoration-color: #af87ff\">MCQ010                            </span> │ <span style=\"color: #008080; text-decoration-color: #008080\">           1924</span> │ <span style=\"color: #008080; text-decoration-color: #008080\">                         0.17</span> │ <span style=\"color: #008000; text-decoration-color: #008000\">      ▇    ▂       </span> │  │\n",
       "│ │ <span style=\"color: #af87ff; text-decoration-color: #af87ff\">MCQ053                            </span> │ <span style=\"color: #008080; text-decoration-color: #008080\">            433</span> │ <span style=\"color: #008080; text-decoration-color: #008080\">                        0.037</span> │ <span style=\"color: #008000; text-decoration-color: #008000\">         ▇         </span> │  │\n",
       "│ │ <span style=\"color: #af87ff; text-decoration-color: #af87ff\">MCQ160A                           </span> │ <span style=\"color: #008080; text-decoration-color: #008080\">           6407</span> │ <span style=\"color: #008080; text-decoration-color: #008080\">                         0.55</span> │ <span style=\"color: #008000; text-decoration-color: #008000\">      ▇    ▇       </span> │  │\n",
       "│ │ <span style=\"color: #af87ff; text-decoration-color: #af87ff\">MCQ160B                           </span> │ <span style=\"color: #008080; text-decoration-color: #008080\">           4250</span> │ <span style=\"color: #008080; text-decoration-color: #008080\">                         0.37</span> │ <span style=\"color: #008000; text-decoration-color: #008000\">      ▇    ▅       </span> │  │\n",
       "│ │ <span style=\"color: #af87ff; text-decoration-color: #af87ff\">MCQ160C                           </span> │ <span style=\"color: #008080; text-decoration-color: #008080\">           4321</span> │ <span style=\"color: #008080; text-decoration-color: #008080\">                         0.37</span> │ <span style=\"color: #008000; text-decoration-color: #008000\">      ▇    ▅       </span> │  │\n",
       "│ │ <span style=\"color: #af87ff; text-decoration-color: #af87ff\">MCQ160F                           </span> │ <span style=\"color: #008080; text-decoration-color: #008080\">           4287</span> │ <span style=\"color: #008080; text-decoration-color: #008080\">                         0.37</span> │ <span style=\"color: #008000; text-decoration-color: #008000\">      ▇    ▅       </span> │  │\n",
       "│ │ <span style=\"color: #af87ff; text-decoration-color: #af87ff\">MCQ160P                           </span> │ <span style=\"color: #008080; text-decoration-color: #008080\">           4470</span> │ <span style=\"color: #008080; text-decoration-color: #008080\">                         0.38</span> │ <span style=\"color: #008000; text-decoration-color: #008000\">      ▇    ▅       </span> │  │\n",
       "│ │ <span style=\"color: #af87ff; text-decoration-color: #af87ff\">MCQ220                            </span> │ <span style=\"color: #008080; text-decoration-color: #008080\">           5076</span> │ <span style=\"color: #008080; text-decoration-color: #008080\">                         0.44</span> │ <span style=\"color: #008000; text-decoration-color: #008000\">      ▇    ▆       </span> │  │\n",
       "│ └────────────────────────────────────┴─────────────────┴───────────────────────────────┴─────────────────────┘  │\n",
       "╰────────────────────────────────────────────────────── End ──────────────────────────────────────────────────────╯\n",
       "</pre>\n"
      ],
      "text/plain": [
       "╭──────────────────────────────────────────────── skimpy summary ─────────────────────────────────────────────────╮\n",
       "│ \u001b[3m         Data Summary         \u001b[0m \u001b[3m      Data Types       \u001b[0m                                                          │\n",
       "│ ┏━━━━━━━━━━━━━━━━━━━┳━━━━━━━━┓ ┏━━━━━━━━━━━━━┳━━━━━━━┓                                                          │\n",
       "│ ┃\u001b[1;36m \u001b[0m\u001b[1;36mdataframe        \u001b[0m\u001b[1;36m \u001b[0m┃\u001b[1;36m \u001b[0m\u001b[1;36mValues\u001b[0m\u001b[1;36m \u001b[0m┃ ┃\u001b[1;36m \u001b[0m\u001b[1;36mColumn Type\u001b[0m\u001b[1;36m \u001b[0m┃\u001b[1;36m \u001b[0m\u001b[1;36mCount\u001b[0m\u001b[1;36m \u001b[0m┃                                                          │\n",
       "│ ┡━━━━━━━━━━━━━━━━━━━╇━━━━━━━━┩ ┡━━━━━━━━━━━━━╇━━━━━━━┩                                                          │\n",
       "│ │ Number of rows    │ 11620  │ │ bool        │ 8     │                                                          │\n",
       "│ │ Number of columns │ 9      │ │ float64     │ 1     │                                                          │\n",
       "│ └───────────────────┴────────┘ └─────────────┴───────┘                                                          │\n",
       "│ \u001b[3m                                                    number                                                    \u001b[0m  │\n",
       "│ ┏━━━━━━━━━━━━━━━┳━━━━━┳━━━━━━━┳━━━━━━━━━━┳━━━━━━━┳━━━━━━━━━┳━━━━━━━━━┳━━━━━━━━━┳━━━━━━━━━┳━━━━━━━━━┳━━━━━━━━━┓  │\n",
       "│ ┃\u001b[1m \u001b[0m\u001b[1mcolumn_name  \u001b[0m\u001b[1m \u001b[0m┃\u001b[1m \u001b[0m\u001b[1mNA \u001b[0m\u001b[1m \u001b[0m┃\u001b[1m \u001b[0m\u001b[1mNA % \u001b[0m\u001b[1m \u001b[0m┃\u001b[1m \u001b[0m\u001b[1mmean    \u001b[0m\u001b[1m \u001b[0m┃\u001b[1m \u001b[0m\u001b[1msd   \u001b[0m\u001b[1m \u001b[0m┃\u001b[1m \u001b[0m\u001b[1mp0     \u001b[0m\u001b[1m \u001b[0m┃\u001b[1m \u001b[0m\u001b[1mp25    \u001b[0m\u001b[1m \u001b[0m┃\u001b[1m \u001b[0m\u001b[1mp50    \u001b[0m\u001b[1m \u001b[0m┃\u001b[1m \u001b[0m\u001b[1mp75    \u001b[0m\u001b[1m \u001b[0m┃\u001b[1m \u001b[0m\u001b[1mp100   \u001b[0m\u001b[1m \u001b[0m┃\u001b[1m \u001b[0m\u001b[1mhist   \u001b[0m\u001b[1m \u001b[0m┃  │\n",
       "│ ┡━━━━━━━━━━━━━━━╇━━━━━╇━━━━━━━╇━━━━━━━━━━╇━━━━━━━╇━━━━━━━━━╇━━━━━━━━━╇━━━━━━━━━╇━━━━━━━━━╇━━━━━━━━━╇━━━━━━━━━┩  │\n",
       "│ │ \u001b[38;5;141mSEQN         \u001b[0m │ \u001b[36m  0\u001b[0m │ \u001b[36m    0\u001b[0m │ \u001b[36m  140000\u001b[0m │ \u001b[36m 3400\u001b[0m │ \u001b[36m 130000\u001b[0m │ \u001b[36m 130000\u001b[0m │ \u001b[36m 140000\u001b[0m │ \u001b[36m 140000\u001b[0m │ \u001b[36m 140000\u001b[0m │ \u001b[32m▇▇▇▇▇▇ \u001b[0m │  │\n",
       "│ └───────────────┴─────┴───────┴──────────┴───────┴─────────┴─────────┴─────────┴─────────┴─────────┴─────────┘  │\n",
       "│ \u001b[3m                                                     bool                                                     \u001b[0m  │\n",
       "│ ┏━━━━━━━━━━━━━━━━━━━━━━━━━━━━━━━━━━━━┳━━━━━━━━━━━━━━━━━┳━━━━━━━━━━━━━━━━━━━━━━━━━━━━━━━┳━━━━━━━━━━━━━━━━━━━━━┓  │\n",
       "│ ┃\u001b[1m \u001b[0m\u001b[1mcolumn_name                       \u001b[0m\u001b[1m \u001b[0m┃\u001b[1m \u001b[0m\u001b[1mtrue           \u001b[0m\u001b[1m \u001b[0m┃\u001b[1m \u001b[0m\u001b[1mtrue rate                    \u001b[0m\u001b[1m \u001b[0m┃\u001b[1m \u001b[0m\u001b[1mhist               \u001b[0m\u001b[1m \u001b[0m┃  │\n",
       "│ ┡━━━━━━━━━━━━━━━━━━━━━━━━━━━━━━━━━━━━╇━━━━━━━━━━━━━━━━━╇━━━━━━━━━━━━━━━━━━━━━━━━━━━━━━━╇━━━━━━━━━━━━━━━━━━━━━┩  │\n",
       "│ │ \u001b[38;5;141mMCQ010                            \u001b[0m │ \u001b[36m           1924\u001b[0m │ \u001b[36m                         0.17\u001b[0m │ \u001b[32m      ▇    ▂       \u001b[0m │  │\n",
       "│ │ \u001b[38;5;141mMCQ053                            \u001b[0m │ \u001b[36m            433\u001b[0m │ \u001b[36m                        0.037\u001b[0m │ \u001b[32m         ▇         \u001b[0m │  │\n",
       "│ │ \u001b[38;5;141mMCQ160A                           \u001b[0m │ \u001b[36m           6407\u001b[0m │ \u001b[36m                         0.55\u001b[0m │ \u001b[32m      ▇    ▇       \u001b[0m │  │\n",
       "│ │ \u001b[38;5;141mMCQ160B                           \u001b[0m │ \u001b[36m           4250\u001b[0m │ \u001b[36m                         0.37\u001b[0m │ \u001b[32m      ▇    ▅       \u001b[0m │  │\n",
       "│ │ \u001b[38;5;141mMCQ160C                           \u001b[0m │ \u001b[36m           4321\u001b[0m │ \u001b[36m                         0.37\u001b[0m │ \u001b[32m      ▇    ▅       \u001b[0m │  │\n",
       "│ │ \u001b[38;5;141mMCQ160F                           \u001b[0m │ \u001b[36m           4287\u001b[0m │ \u001b[36m                         0.37\u001b[0m │ \u001b[32m      ▇    ▅       \u001b[0m │  │\n",
       "│ │ \u001b[38;5;141mMCQ160P                           \u001b[0m │ \u001b[36m           4470\u001b[0m │ \u001b[36m                         0.38\u001b[0m │ \u001b[32m      ▇    ▅       \u001b[0m │  │\n",
       "│ │ \u001b[38;5;141mMCQ220                            \u001b[0m │ \u001b[36m           5076\u001b[0m │ \u001b[36m                         0.44\u001b[0m │ \u001b[32m      ▇    ▆       \u001b[0m │  │\n",
       "│ └────────────────────────────────────┴─────────────────┴───────────────────────────────┴─────────────────────┘  │\n",
       "╰────────────────────────────────────────────────────── End ──────────────────────────────────────────────────────╯\n"
      ]
     },
     "metadata": {},
     "output_type": "display_data"
    }
   ],
   "source": [
    "skim(df_mc)"
   ]
  },
  {
   "cell_type": "markdown",
   "metadata": {},
   "source": [
    "#### 8. Physical Activity Data"
   ]
  },
  {
   "cell_type": "code",
   "execution_count": 127,
   "metadata": {},
   "outputs": [
    {
     "name": "stdout",
     "output_type": "stream",
     "text": [
      "    SEQN  PAD790Q PAD790U  PAD800  PAD810Q PAD810U  PAD820  PAD680\n",
      "0 130378        3       W      45        3       W      45     360\n",
      "1 130379        4       W      45        3       W      45     480\n",
      "2 130380        1       W      20        0             NaN     240\n",
      "3 130384        0             NaN        0             NaN      60\n",
      "4 130385        1       D      90        1       W      60     180\n"
     ]
    }
   ],
   "source": [
    "# Upload PHYSICAL ACTIVITY DATA\n",
    "\n",
    "# Prevent scientific notation for float numbers\n",
    "pd.set_option('display.float_format', '{:.0f}'.format)\n",
    "\n",
    "# Load the XPT file\n",
    "df_8 = pd.read_sas('PAQ_L.xpt', format='xport', encoding='latin1')\n",
    "\n",
    "# Inspect the dataframe\n",
    "print(df_8.head())"
   ]
  },
  {
   "cell_type": "markdown",
   "metadata": {},
   "source": [
    "For PAQ_L, it will be kept:\n",
    "- SEQN (Respondent sequence number): unique participant identifier\n",
    "- PAD680: How much time {do you/does SP} usually spend sitting on a typical day? 0 to 1380 | 7777 - Refused | 9999 - Don't know"
   ]
  },
  {
   "cell_type": "markdown",
   "metadata": {},
   "source": [
    "Additionally, 'refused' and 'don't know' answers will be excluded"
   ]
  },
  {
   "cell_type": "code",
   "execution_count": 128,
   "metadata": {},
   "outputs": [],
   "source": [
    "# Exclude rows where answers for PAD680 are 'refused' or 'don't know';\n",
    "df_8 = df_8[~(df_8['PAD680'].isin([7777, 9999]))]"
   ]
  },
  {
   "cell_type": "code",
   "execution_count": 129,
   "metadata": {},
   "outputs": [
    {
     "name": "stdout",
     "output_type": "stream",
     "text": [
      "       SEQN  PAD680\n",
      "3829 136067     120\n",
      "2089 133479     480\n",
      "7531 141389     180\n",
      "588  131245     600\n",
      "5783 138879     300\n",
      "1999 133338     120\n",
      "1104 132011     660\n",
      "445  131034      60\n",
      "2970 134802     180\n",
      "4353 136808      60\n"
     ]
    }
   ],
   "source": [
    "# List of columns to keep\n",
    "columns_pa = ['SEQN', 'PAD680']\n",
    "\n",
    "# Keep only these columns\n",
    "df_pa = df_8[columns_pa]\n",
    "\n",
    "# Inspect the result\n",
    "print(df_pa.sample(10))"
   ]
  },
  {
   "cell_type": "code",
   "execution_count": 130,
   "metadata": {},
   "outputs": [
    {
     "data": {
      "text/html": [
       "<pre style=\"white-space:pre;overflow-x:auto;line-height:normal;font-family:Menlo,'DejaVu Sans Mono',consolas,'Courier New',monospace\">╭──────────────────────────────────────────────── skimpy summary ─────────────────────────────────────────────────╮\n",
       "│ <span style=\"font-style: italic\">         Data Summary         </span> <span style=\"font-style: italic\">      Data Types       </span>                                                          │\n",
       "│ ┏━━━━━━━━━━━━━━━━━━━┳━━━━━━━━┓ ┏━━━━━━━━━━━━━┳━━━━━━━┓                                                          │\n",
       "│ ┃<span style=\"color: #008080; text-decoration-color: #008080; font-weight: bold\"> dataframe         </span>┃<span style=\"color: #008080; text-decoration-color: #008080; font-weight: bold\"> Values </span>┃ ┃<span style=\"color: #008080; text-decoration-color: #008080; font-weight: bold\"> Column Type </span>┃<span style=\"color: #008080; text-decoration-color: #008080; font-weight: bold\"> Count </span>┃                                                          │\n",
       "│ ┡━━━━━━━━━━━━━━━━━━━╇━━━━━━━━┩ ┡━━━━━━━━━━━━━╇━━━━━━━┩                                                          │\n",
       "│ │ Number of rows    │ 8080   │ │ float64     │ 2     │                                                          │\n",
       "│ │ Number of columns │ 2      │ └─────────────┴───────┘                                                          │\n",
       "│ └───────────────────┴────────┘                                                                                  │\n",
       "│ <span style=\"font-style: italic\">                                                    number                                                    </span>  │\n",
       "│ ┏━━━━━━━━━━━━━━━┳━━━━━┳━━━━━━━┳━━━━━━━━━━┳━━━━━━━┳━━━━━━━━━━┳━━━━━━━━━┳━━━━━━━━━┳━━━━━━━━━┳━━━━━━━━━┳━━━━━━━━┓  │\n",
       "│ ┃<span style=\"font-weight: bold\"> column_name   </span>┃<span style=\"font-weight: bold\"> NA  </span>┃<span style=\"font-weight: bold\"> NA %  </span>┃<span style=\"font-weight: bold\"> mean     </span>┃<span style=\"font-weight: bold\"> sd    </span>┃<span style=\"font-weight: bold\"> p0       </span>┃<span style=\"font-weight: bold\"> p25     </span>┃<span style=\"font-weight: bold\"> p50     </span>┃<span style=\"font-weight: bold\"> p75     </span>┃<span style=\"font-weight: bold\"> p100    </span>┃<span style=\"font-weight: bold\"> hist   </span>┃  │\n",
       "│ ┡━━━━━━━━━━━━━━━╇━━━━━╇━━━━━━━╇━━━━━━━━━━╇━━━━━━━╇━━━━━━━━━━╇━━━━━━━━━╇━━━━━━━━━╇━━━━━━━━━╇━━━━━━━━━╇━━━━━━━━┩  │\n",
       "│ │ <span style=\"color: #af87ff; text-decoration-color: #af87ff\">SEQN         </span> │ <span style=\"color: #008080; text-decoration-color: #008080\">  0</span> │ <span style=\"color: #008080; text-decoration-color: #008080\">    0</span> │ <span style=\"color: #008080; text-decoration-color: #008080\">  140000</span> │ <span style=\"color: #008080; text-decoration-color: #008080\"> 3400</span> │ <span style=\"color: #008080; text-decoration-color: #008080\">  130000</span> │ <span style=\"color: #008080; text-decoration-color: #008080\"> 130000</span> │ <span style=\"color: #008080; text-decoration-color: #008080\"> 140000</span> │ <span style=\"color: #008080; text-decoration-color: #008080\"> 140000</span> │ <span style=\"color: #008080; text-decoration-color: #008080\"> 140000</span> │ <span style=\"color: #008000; text-decoration-color: #008000\">▇▇▇▇▇▇</span> │  │\n",
       "│ │ <span style=\"color: #af87ff; text-decoration-color: #af87ff\">PAD680       </span> │ <span style=\"color: #008080; text-decoration-color: #008080\"> 15</span> │ <span style=\"color: #008080; text-decoration-color: #008080\"> 0.19</span> │ <span style=\"color: #008080; text-decoration-color: #008080\">     360</span> │ <span style=\"color: #008080; text-decoration-color: #008080\">  210</span> │ <span style=\"color: #008080; text-decoration-color: #008080\"> 5.4e-79</span> │ <span style=\"color: #008080; text-decoration-color: #008080\">    180</span> │ <span style=\"color: #008080; text-decoration-color: #008080\">    300</span> │ <span style=\"color: #008080; text-decoration-color: #008080\">    480</span> │ <span style=\"color: #008080; text-decoration-color: #008080\">   1400</span> │ <span style=\"color: #008000; text-decoration-color: #008000\"> ▅▇▅▂ </span> │  │\n",
       "│ └───────────────┴─────┴───────┴──────────┴───────┴──────────┴─────────┴─────────┴─────────┴─────────┴────────┘  │\n",
       "╰────────────────────────────────────────────────────── End ──────────────────────────────────────────────────────╯\n",
       "</pre>\n"
      ],
      "text/plain": [
       "╭──────────────────────────────────────────────── skimpy summary ─────────────────────────────────────────────────╮\n",
       "│ \u001b[3m         Data Summary         \u001b[0m \u001b[3m      Data Types       \u001b[0m                                                          │\n",
       "│ ┏━━━━━━━━━━━━━━━━━━━┳━━━━━━━━┓ ┏━━━━━━━━━━━━━┳━━━━━━━┓                                                          │\n",
       "│ ┃\u001b[1;36m \u001b[0m\u001b[1;36mdataframe        \u001b[0m\u001b[1;36m \u001b[0m┃\u001b[1;36m \u001b[0m\u001b[1;36mValues\u001b[0m\u001b[1;36m \u001b[0m┃ ┃\u001b[1;36m \u001b[0m\u001b[1;36mColumn Type\u001b[0m\u001b[1;36m \u001b[0m┃\u001b[1;36m \u001b[0m\u001b[1;36mCount\u001b[0m\u001b[1;36m \u001b[0m┃                                                          │\n",
       "│ ┡━━━━━━━━━━━━━━━━━━━╇━━━━━━━━┩ ┡━━━━━━━━━━━━━╇━━━━━━━┩                                                          │\n",
       "│ │ Number of rows    │ 8080   │ │ float64     │ 2     │                                                          │\n",
       "│ │ Number of columns │ 2      │ └─────────────┴───────┘                                                          │\n",
       "│ └───────────────────┴────────┘                                                                                  │\n",
       "│ \u001b[3m                                                    number                                                    \u001b[0m  │\n",
       "│ ┏━━━━━━━━━━━━━━━┳━━━━━┳━━━━━━━┳━━━━━━━━━━┳━━━━━━━┳━━━━━━━━━━┳━━━━━━━━━┳━━━━━━━━━┳━━━━━━━━━┳━━━━━━━━━┳━━━━━━━━┓  │\n",
       "│ ┃\u001b[1m \u001b[0m\u001b[1mcolumn_name  \u001b[0m\u001b[1m \u001b[0m┃\u001b[1m \u001b[0m\u001b[1mNA \u001b[0m\u001b[1m \u001b[0m┃\u001b[1m \u001b[0m\u001b[1mNA % \u001b[0m\u001b[1m \u001b[0m┃\u001b[1m \u001b[0m\u001b[1mmean    \u001b[0m\u001b[1m \u001b[0m┃\u001b[1m \u001b[0m\u001b[1msd   \u001b[0m\u001b[1m \u001b[0m┃\u001b[1m \u001b[0m\u001b[1mp0      \u001b[0m\u001b[1m \u001b[0m┃\u001b[1m \u001b[0m\u001b[1mp25    \u001b[0m\u001b[1m \u001b[0m┃\u001b[1m \u001b[0m\u001b[1mp50    \u001b[0m\u001b[1m \u001b[0m┃\u001b[1m \u001b[0m\u001b[1mp75    \u001b[0m\u001b[1m \u001b[0m┃\u001b[1m \u001b[0m\u001b[1mp100   \u001b[0m\u001b[1m \u001b[0m┃\u001b[1m \u001b[0m\u001b[1mhist  \u001b[0m\u001b[1m \u001b[0m┃  │\n",
       "│ ┡━━━━━━━━━━━━━━━╇━━━━━╇━━━━━━━╇━━━━━━━━━━╇━━━━━━━╇━━━━━━━━━━╇━━━━━━━━━╇━━━━━━━━━╇━━━━━━━━━╇━━━━━━━━━╇━━━━━━━━┩  │\n",
       "│ │ \u001b[38;5;141mSEQN         \u001b[0m │ \u001b[36m  0\u001b[0m │ \u001b[36m    0\u001b[0m │ \u001b[36m  140000\u001b[0m │ \u001b[36m 3400\u001b[0m │ \u001b[36m  130000\u001b[0m │ \u001b[36m 130000\u001b[0m │ \u001b[36m 140000\u001b[0m │ \u001b[36m 140000\u001b[0m │ \u001b[36m 140000\u001b[0m │ \u001b[32m▇▇▇▇▇▇\u001b[0m │  │\n",
       "│ │ \u001b[38;5;141mPAD680       \u001b[0m │ \u001b[36m 15\u001b[0m │ \u001b[36m 0.19\u001b[0m │ \u001b[36m     360\u001b[0m │ \u001b[36m  210\u001b[0m │ \u001b[36m 5.4e-79\u001b[0m │ \u001b[36m    180\u001b[0m │ \u001b[36m    300\u001b[0m │ \u001b[36m    480\u001b[0m │ \u001b[36m   1400\u001b[0m │ \u001b[32m ▅▇▅▂ \u001b[0m │  │\n",
       "│ └───────────────┴─────┴───────┴──────────┴───────┴──────────┴─────────┴─────────┴─────────┴─────────┴────────┘  │\n",
       "╰────────────────────────────────────────────────────── End ──────────────────────────────────────────────────────╯\n"
      ]
     },
     "metadata": {},
     "output_type": "display_data"
    }
   ],
   "source": [
    "skim(df_pa)"
   ]
  },
  {
   "cell_type": "markdown",
   "metadata": {},
   "source": [
    "#### 9. Prescriptions Medications"
   ]
  },
  {
   "cell_type": "code",
   "execution_count": 131,
   "metadata": {},
   "outputs": [
    {
     "name": "stdout",
     "output_type": "stream",
     "text": [
      "    SEQN  RXQ033  RXQ050\n",
      "0 130378       1       1\n",
      "1 130379       1       1\n",
      "2 130380       1       1\n",
      "3 130381       1       2\n",
      "4 130382       2     NaN\n",
      "5 130383       2     NaN\n",
      "6 130384       2     NaN\n",
      "7 130385       2     NaN\n",
      "8 130386       2     NaN\n",
      "9 130387       1       1\n"
     ]
    }
   ],
   "source": [
    "# Upload PRESCRIPTIONS MEDICATIONS DATA\n",
    "\n",
    "# Prevent scientific notation for float numbers\n",
    "pd.set_option('display.float_format', '{:.0f}'.format)\n",
    "\n",
    "# Load the XPT file\n",
    "df_9 = pd.read_sas('RXQ_RX_L.xpt', format='xport', encoding='latin1')\n",
    "\n",
    "# Inspect the dataframe\n",
    "print(df_9.head(10))"
   ]
  },
  {
   "cell_type": "markdown",
   "metadata": {},
   "source": [
    "RXQ033: In the past 30 days, {have you/has SP} used or taken medication for which a prescription is needed? Include only those products prescribed by a health professional such as a doctor or dentist. {Please remember to include any prescription birth control products that you are taking or using such as pills or patches.} 1- Yes | 2 - No | 7 - Refused | 9 - Don't know\n",
    "To deal with missing data in RXQ050, those that have 2 (no) in RXQ033 will receive 0 as replace for NaN in RXQ050"
   ]
  },
  {
   "cell_type": "code",
   "execution_count": 132,
   "metadata": {},
   "outputs": [],
   "source": [
    "# Replace NaN in RXQ050 where RXQ033 == 2\n",
    "df_9.loc[(df_9['RXQ033'] == 2) & (df_9['RXQ050'].isna()), 'RXQ050'] = 0"
   ]
  },
  {
   "cell_type": "markdown",
   "metadata": {},
   "source": [
    "For RXQ_RX_L, it will be kept:\n",
    "- SEQN (Respondent sequence number): unique participant identifier\n",
    "- RXQ050: How many prescription medications {have you/has SP} taken in the past 30 days? Would you say {you have/SP has} taken… 1 to 5 | 7 - Refused | 9 - Don't know"
   ]
  },
  {
   "cell_type": "markdown",
   "metadata": {},
   "source": [
    "Additionally, 'refused' and 'don't know' answers will be excluded"
   ]
  },
  {
   "cell_type": "code",
   "execution_count": 133,
   "metadata": {},
   "outputs": [],
   "source": [
    "# Exclude rows where answers for RXQ050 are 'refused' or 'don't know';\n",
    "df_9 = df_9[~(df_9['RXQ050'].isin([7, 9]))]"
   ]
  },
  {
   "cell_type": "code",
   "execution_count": 134,
   "metadata": {},
   "outputs": [
    {
     "name": "stdout",
     "output_type": "stream",
     "text": [
      "        SEQN  RXQ050\n",
      "6614  136992       0\n",
      "2000  132378       5\n",
      "3287  133665       5\n",
      "208   130586       0\n",
      "3133  133511       3\n",
      "11331 141709       4\n",
      "8193  138571       2\n",
      "1284  131662       0\n",
      "6445  136823       4\n",
      "3607  133985       0\n"
     ]
    }
   ],
   "source": [
    "# List of columns to keep\n",
    "columns_pm = ['SEQN', 'RXQ050']\n",
    "\n",
    "# Keep only these columns\n",
    "df_pm = df_9[columns_pm]\n",
    "\n",
    "# Inspect the result\n",
    "print(df_pm.sample(10))"
   ]
  },
  {
   "cell_type": "code",
   "execution_count": 135,
   "metadata": {},
   "outputs": [
    {
     "data": {
      "text/html": [
       "<pre style=\"white-space:pre;overflow-x:auto;line-height:normal;font-family:Menlo,'DejaVu Sans Mono',consolas,'Courier New',monospace\">╭──────────────────────────────────────────────── skimpy summary ─────────────────────────────────────────────────╮\n",
       "│ <span style=\"font-style: italic\">         Data Summary         </span> <span style=\"font-style: italic\">      Data Types       </span>                                                          │\n",
       "│ ┏━━━━━━━━━━━━━━━━━━━┳━━━━━━━━┓ ┏━━━━━━━━━━━━━┳━━━━━━━┓                                                          │\n",
       "│ ┃<span style=\"color: #008080; text-decoration-color: #008080; font-weight: bold\"> dataframe         </span>┃<span style=\"color: #008080; text-decoration-color: #008080; font-weight: bold\"> Values </span>┃ ┃<span style=\"color: #008080; text-decoration-color: #008080; font-weight: bold\"> Column Type </span>┃<span style=\"color: #008080; text-decoration-color: #008080; font-weight: bold\"> Count </span>┃                                                          │\n",
       "│ ┡━━━━━━━━━━━━━━━━━━━╇━━━━━━━━┩ ┡━━━━━━━━━━━━━╇━━━━━━━┩                                                          │\n",
       "│ │ Number of rows    │ 11924  │ │ float64     │ 2     │                                                          │\n",
       "│ │ Number of columns │ 2      │ └─────────────┴───────┘                                                          │\n",
       "│ └───────────────────┴────────┘                                                                                  │\n",
       "│ <span style=\"font-style: italic\">                                                    number                                                    </span>  │\n",
       "│ ┏━━━━━━━━━━━━━━━┳━━━━━┳━━━━━━━┳━━━━━━━━━━┳━━━━━━━┳━━━━━━━━━┳━━━━━━━━━┳━━━━━━━━━┳━━━━━━━━━┳━━━━━━━━━┳━━━━━━━━━┓  │\n",
       "│ ┃<span style=\"font-weight: bold\"> column_name   </span>┃<span style=\"font-weight: bold\"> NA  </span>┃<span style=\"font-weight: bold\"> NA %  </span>┃<span style=\"font-weight: bold\"> mean     </span>┃<span style=\"font-weight: bold\"> sd    </span>┃<span style=\"font-weight: bold\"> p0      </span>┃<span style=\"font-weight: bold\"> p25     </span>┃<span style=\"font-weight: bold\"> p50     </span>┃<span style=\"font-weight: bold\"> p75     </span>┃<span style=\"font-weight: bold\"> p100    </span>┃<span style=\"font-weight: bold\"> hist    </span>┃  │\n",
       "│ ┡━━━━━━━━━━━━━━━╇━━━━━╇━━━━━━━╇━━━━━━━━━━╇━━━━━━━╇━━━━━━━━━╇━━━━━━━━━╇━━━━━━━━━╇━━━━━━━━━╇━━━━━━━━━╇━━━━━━━━━┩  │\n",
       "│ │ <span style=\"color: #af87ff; text-decoration-color: #af87ff\">SEQN         </span> │ <span style=\"color: #008080; text-decoration-color: #008080\">  0</span> │ <span style=\"color: #008080; text-decoration-color: #008080\">    0</span> │ <span style=\"color: #008080; text-decoration-color: #008080\">  140000</span> │ <span style=\"color: #008080; text-decoration-color: #008080\"> 3400</span> │ <span style=\"color: #008080; text-decoration-color: #008080\"> 130000</span> │ <span style=\"color: #008080; text-decoration-color: #008080\"> 130000</span> │ <span style=\"color: #008080; text-decoration-color: #008080\"> 140000</span> │ <span style=\"color: #008080; text-decoration-color: #008080\"> 140000</span> │ <span style=\"color: #008080; text-decoration-color: #008080\"> 140000</span> │ <span style=\"color: #008000; text-decoration-color: #008000\">▇▇▇▇▇▇ </span> │  │\n",
       "│ │ <span style=\"color: #af87ff; text-decoration-color: #af87ff\">RXQ050       </span> │ <span style=\"color: #008080; text-decoration-color: #008080\"> 40</span> │ <span style=\"color: #008080; text-decoration-color: #008080\"> 0.34</span> │ <span style=\"color: #008080; text-decoration-color: #008080\">     1.6</span> │ <span style=\"color: #008080; text-decoration-color: #008080\">  1.9</span> │ <span style=\"color: #008080; text-decoration-color: #008080\">      0</span> │ <span style=\"color: #008080; text-decoration-color: #008080\">      0</span> │ <span style=\"color: #008080; text-decoration-color: #008080\">      1</span> │ <span style=\"color: #008080; text-decoration-color: #008080\">      3</span> │ <span style=\"color: #008080; text-decoration-color: #008080\">      5</span> │ <span style=\"color: #008000; text-decoration-color: #008000\">▇▂▂▁▁▃ </span> │  │\n",
       "│ └───────────────┴─────┴───────┴──────────┴───────┴─────────┴─────────┴─────────┴─────────┴─────────┴─────────┘  │\n",
       "╰────────────────────────────────────────────────────── End ──────────────────────────────────────────────────────╯\n",
       "</pre>\n"
      ],
      "text/plain": [
       "╭──────────────────────────────────────────────── skimpy summary ─────────────────────────────────────────────────╮\n",
       "│ \u001b[3m         Data Summary         \u001b[0m \u001b[3m      Data Types       \u001b[0m                                                          │\n",
       "│ ┏━━━━━━━━━━━━━━━━━━━┳━━━━━━━━┓ ┏━━━━━━━━━━━━━┳━━━━━━━┓                                                          │\n",
       "│ ┃\u001b[1;36m \u001b[0m\u001b[1;36mdataframe        \u001b[0m\u001b[1;36m \u001b[0m┃\u001b[1;36m \u001b[0m\u001b[1;36mValues\u001b[0m\u001b[1;36m \u001b[0m┃ ┃\u001b[1;36m \u001b[0m\u001b[1;36mColumn Type\u001b[0m\u001b[1;36m \u001b[0m┃\u001b[1;36m \u001b[0m\u001b[1;36mCount\u001b[0m\u001b[1;36m \u001b[0m┃                                                          │\n",
       "│ ┡━━━━━━━━━━━━━━━━━━━╇━━━━━━━━┩ ┡━━━━━━━━━━━━━╇━━━━━━━┩                                                          │\n",
       "│ │ Number of rows    │ 11924  │ │ float64     │ 2     │                                                          │\n",
       "│ │ Number of columns │ 2      │ └─────────────┴───────┘                                                          │\n",
       "│ └───────────────────┴────────┘                                                                                  │\n",
       "│ \u001b[3m                                                    number                                                    \u001b[0m  │\n",
       "│ ┏━━━━━━━━━━━━━━━┳━━━━━┳━━━━━━━┳━━━━━━━━━━┳━━━━━━━┳━━━━━━━━━┳━━━━━━━━━┳━━━━━━━━━┳━━━━━━━━━┳━━━━━━━━━┳━━━━━━━━━┓  │\n",
       "│ ┃\u001b[1m \u001b[0m\u001b[1mcolumn_name  \u001b[0m\u001b[1m \u001b[0m┃\u001b[1m \u001b[0m\u001b[1mNA \u001b[0m\u001b[1m \u001b[0m┃\u001b[1m \u001b[0m\u001b[1mNA % \u001b[0m\u001b[1m \u001b[0m┃\u001b[1m \u001b[0m\u001b[1mmean    \u001b[0m\u001b[1m \u001b[0m┃\u001b[1m \u001b[0m\u001b[1msd   \u001b[0m\u001b[1m \u001b[0m┃\u001b[1m \u001b[0m\u001b[1mp0     \u001b[0m\u001b[1m \u001b[0m┃\u001b[1m \u001b[0m\u001b[1mp25    \u001b[0m\u001b[1m \u001b[0m┃\u001b[1m \u001b[0m\u001b[1mp50    \u001b[0m\u001b[1m \u001b[0m┃\u001b[1m \u001b[0m\u001b[1mp75    \u001b[0m\u001b[1m \u001b[0m┃\u001b[1m \u001b[0m\u001b[1mp100   \u001b[0m\u001b[1m \u001b[0m┃\u001b[1m \u001b[0m\u001b[1mhist   \u001b[0m\u001b[1m \u001b[0m┃  │\n",
       "│ ┡━━━━━━━━━━━━━━━╇━━━━━╇━━━━━━━╇━━━━━━━━━━╇━━━━━━━╇━━━━━━━━━╇━━━━━━━━━╇━━━━━━━━━╇━━━━━━━━━╇━━━━━━━━━╇━━━━━━━━━┩  │\n",
       "│ │ \u001b[38;5;141mSEQN         \u001b[0m │ \u001b[36m  0\u001b[0m │ \u001b[36m    0\u001b[0m │ \u001b[36m  140000\u001b[0m │ \u001b[36m 3400\u001b[0m │ \u001b[36m 130000\u001b[0m │ \u001b[36m 130000\u001b[0m │ \u001b[36m 140000\u001b[0m │ \u001b[36m 140000\u001b[0m │ \u001b[36m 140000\u001b[0m │ \u001b[32m▇▇▇▇▇▇ \u001b[0m │  │\n",
       "│ │ \u001b[38;5;141mRXQ050       \u001b[0m │ \u001b[36m 40\u001b[0m │ \u001b[36m 0.34\u001b[0m │ \u001b[36m     1.6\u001b[0m │ \u001b[36m  1.9\u001b[0m │ \u001b[36m      0\u001b[0m │ \u001b[36m      0\u001b[0m │ \u001b[36m      1\u001b[0m │ \u001b[36m      3\u001b[0m │ \u001b[36m      5\u001b[0m │ \u001b[32m▇▂▂▁▁▃ \u001b[0m │  │\n",
       "│ └───────────────┴─────┴───────┴──────────┴───────┴─────────┴─────────┴─────────┴─────────┴─────────┴─────────┘  │\n",
       "╰────────────────────────────────────────────────────── End ──────────────────────────────────────────────────────╯\n"
      ]
     },
     "metadata": {},
     "output_type": "display_data"
    }
   ],
   "source": [
    "skim(df_pm)"
   ]
  },
  {
   "cell_type": "markdown",
   "metadata": {},
   "source": [
    "#### 10. Sleep Disorders Data"
   ]
  },
  {
   "cell_type": "code",
   "execution_count": 136,
   "metadata": {},
   "outputs": [
    {
     "name": "stdout",
     "output_type": "stream",
     "text": [
      "    SEQN SLQ300 SLQ310  SLD012 SLQ320 SLQ330  SLD013\n",
      "0 130378  21:30  07:00      10  00:00  09:00       9\n",
      "1 130379  21:00  06:00       9  21:00  06:00       9\n",
      "2 130380  00:00  08:00       8  00:00  09:00       9\n",
      "3 130384  21:30  05:00       8  23:00  07:00       8\n",
      "4 130385  22:05  06:15       8  22:05  06:15       8\n"
     ]
    }
   ],
   "source": [
    "# Upload SLEEP DISORDERS DATA\n",
    "\n",
    "# Prevent scientific notation for float numbers\n",
    "pd.set_option('display.float_format', '{:.0f}'.format)\n",
    "\n",
    "# Load the XPT file\n",
    "df_10 = pd.read_sas('SLQ_L.xpt', format='xport', encoding='latin1')\n",
    "\n",
    "# Inspect the dataframe\n",
    "print(df_10.head())"
   ]
  },
  {
   "cell_type": "markdown",
   "metadata": {},
   "source": [
    "For SLQ_L, it will be kept:\n",
    "- SEQN (Respondent sequence number): unique participant identifier\n",
    "- SLD012: Number of hours usually sleep on weekdays or workdays 3 to 13.5 | 2 - less than 3 | 14 - 14 or more\n",
    "- SLD013: Number of hours usually sleep on weekends or non-workdays 3 to 13.5 | 2 - less than 3 | 14 - 14 or more"
   ]
  },
  {
   "cell_type": "code",
   "execution_count": 137,
   "metadata": {},
   "outputs": [
    {
     "name": "stdout",
     "output_type": "stream",
     "text": [
      "       SEQN  SLD012  SLD013\n",
      "4136 136254       8       8\n",
      "5389 137976       8       8\n",
      "5489 138113       6       8\n",
      "823  131546       9      10\n",
      "1381 132329       9      10\n",
      "1929 133092       8       8\n",
      "4449 136667       8       8\n",
      "5299 137834       8       8\n",
      "1901 133057       8      10\n",
      "5362 137932       8      10\n"
     ]
    }
   ],
   "source": [
    "# List of columns to keep\n",
    "columns_sd = ['SEQN', 'SLD012', 'SLD013']\n",
    "\n",
    "# Keep only these columns\n",
    "df_sd = df_10[columns_sd]\n",
    "\n",
    "# Inspect the result\n",
    "print(df_sd.sample(10))"
   ]
  },
  {
   "cell_type": "markdown",
   "metadata": {},
   "source": [
    "### Merging Datasets"
   ]
  },
  {
   "cell_type": "code",
   "execution_count": 138,
   "metadata": {},
   "outputs": [
    {
     "name": "stderr",
     "output_type": "stream",
     "text": [
      "c:\\Users\\ggrys\\AppData\\Local\\Programs\\Python\\Python312\\Lib\\site-packages\\numpy\\lib\\histograms.py:885: RuntimeWarning: invalid value encountered in divide\n",
      "  return n/db/n.sum(), bin_edges\n"
     ]
    },
    {
     "data": {
      "text/html": [
       "<pre style=\"white-space:pre;overflow-x:auto;line-height:normal;font-family:Menlo,'DejaVu Sans Mono',consolas,'Courier New',monospace\">╭──────────────────────────────────────────────── skimpy summary ─────────────────────────────────────────────────╮\n",
       "│ <span style=\"font-style: italic\">         Data Summary         </span> <span style=\"font-style: italic\">      Data Types       </span>                                                          │\n",
       "│ ┏━━━━━━━━━━━━━━━━━━━┳━━━━━━━━┓ ┏━━━━━━━━━━━━━┳━━━━━━━┓                                                          │\n",
       "│ ┃<span style=\"color: #008080; text-decoration-color: #008080; font-weight: bold\"> dataframe         </span>┃<span style=\"color: #008080; text-decoration-color: #008080; font-weight: bold\"> Values </span>┃ ┃<span style=\"color: #008080; text-decoration-color: #008080; font-weight: bold\"> Column Type </span>┃<span style=\"color: #008080; text-decoration-color: #008080; font-weight: bold\"> Count </span>┃                                                          │\n",
       "│ ┡━━━━━━━━━━━━━━━━━━━╇━━━━━━━━┩ ┡━━━━━━━━━━━━━╇━━━━━━━┩                                                          │\n",
       "│ │ Number of rows    │ 6175   │ │ float64     │ 14    │                                                          │\n",
       "│ │ Number of columns │ 25     │ │ bool        │ 11    │                                                          │\n",
       "│ └───────────────────┴────────┘ └─────────────┴───────┘                                                          │\n",
       "│ <span style=\"font-style: italic\">                                                    number                                                    </span>  │\n",
       "│ ┏━━━━━━━━━━━━━━━┳━━━━━━━┳━━━━━━━┳━━━━━━━━━┳━━━━━━━┳━━━━━━━━━━┳━━━━━━━━━┳━━━━━━━━━┳━━━━━━━━━┳━━━━━━━━┳━━━━━━━━┓  │\n",
       "│ ┃<span style=\"font-weight: bold\"> column_name   </span>┃<span style=\"font-weight: bold\"> NA    </span>┃<span style=\"font-weight: bold\"> NA %  </span>┃<span style=\"font-weight: bold\"> mean    </span>┃<span style=\"font-weight: bold\"> sd    </span>┃<span style=\"font-weight: bold\"> p0       </span>┃<span style=\"font-weight: bold\"> p25     </span>┃<span style=\"font-weight: bold\"> p50     </span>┃<span style=\"font-weight: bold\"> p75     </span>┃<span style=\"font-weight: bold\"> p100   </span>┃<span style=\"font-weight: bold\"> hist   </span>┃  │\n",
       "│ ┡━━━━━━━━━━━━━━━╇━━━━━━━╇━━━━━━━╇━━━━━━━━━╇━━━━━━━╇━━━━━━━━━━╇━━━━━━━━━╇━━━━━━━━━╇━━━━━━━━━╇━━━━━━━━╇━━━━━━━━┩  │\n",
       "│ │ <span style=\"color: #af87ff; text-decoration-color: #af87ff\">SEQN         </span> │ <span style=\"color: #008080; text-decoration-color: #008080\">    0</span> │ <span style=\"color: #008080; text-decoration-color: #008080\">    0</span> │ <span style=\"color: #008080; text-decoration-color: #008080\"> 140000</span> │ <span style=\"color: #008080; text-decoration-color: #008080\"> 3400</span> │ <span style=\"color: #008080; text-decoration-color: #008080\">  130000</span> │ <span style=\"color: #008080; text-decoration-color: #008080\"> 130000</span> │ <span style=\"color: #008080; text-decoration-color: #008080\"> 140000</span> │ <span style=\"color: #008080; text-decoration-color: #008080\"> 140000</span> │ <span style=\"color: #008080; text-decoration-color: #008080\">140000</span> │ <span style=\"color: #008000; text-decoration-color: #008000\">▇▇▇▇▇▇</span> │  │\n",
       "│ │ <span style=\"color: #af87ff; text-decoration-color: #af87ff\">RIDAGEYR     </span> │ <span style=\"color: #008080; text-decoration-color: #008080\">    0</span> │ <span style=\"color: #008080; text-decoration-color: #008080\">    0</span> │ <span style=\"color: #008080; text-decoration-color: #008080\">     52</span> │ <span style=\"color: #008080; text-decoration-color: #008080\">   18</span> │ <span style=\"color: #008080; text-decoration-color: #008080\">      18</span> │ <span style=\"color: #008080; text-decoration-color: #008080\">     36</span> │ <span style=\"color: #008080; text-decoration-color: #008080\">     55</span> │ <span style=\"color: #008080; text-decoration-color: #008080\">     67</span> │ <span style=\"color: #008080; text-decoration-color: #008080\">    80</span> │ <span style=\"color: #008000; text-decoration-color: #008000\">▅▅▅▅▇▇</span> │  │\n",
       "│ │ <span style=\"color: #af87ff; text-decoration-color: #af87ff\">DMDEDUC2     </span> │ <span style=\"color: #008080; text-decoration-color: #008080\">  272</span> │ <span style=\"color: #008080; text-decoration-color: #008080\">  4.4</span> │ <span style=\"color: #008080; text-decoration-color: #008080\">    3.9</span> │ <span style=\"color: #008080; text-decoration-color: #008080\">  1.1</span> │ <span style=\"color: #008080; text-decoration-color: #008080\">       1</span> │ <span style=\"color: #008080; text-decoration-color: #008080\">      3</span> │ <span style=\"color: #008080; text-decoration-color: #008080\">      4</span> │ <span style=\"color: #008080; text-decoration-color: #008080\">      5</span> │ <span style=\"color: #008080; text-decoration-color: #008080\">     5</span> │ <span style=\"color: #008000; text-decoration-color: #008000\">▁▂ ▅▇▇</span> │  │\n",
       "│ │ <span style=\"color: #af87ff; text-decoration-color: #af87ff\">DMDMARTZ     </span> │ <span style=\"color: #008080; text-decoration-color: #008080\">  273</span> │ <span style=\"color: #008080; text-decoration-color: #008080\"> 4.42</span> │ <span style=\"color: #008080; text-decoration-color: #008080\">    1.7</span> │ <span style=\"color: #008080; text-decoration-color: #008080\">  0.8</span> │ <span style=\"color: #008080; text-decoration-color: #008080\">       1</span> │ <span style=\"color: #008080; text-decoration-color: #008080\">      1</span> │ <span style=\"color: #008080; text-decoration-color: #008080\">      1</span> │ <span style=\"color: #008080; text-decoration-color: #008080\">      2</span> │ <span style=\"color: #008080; text-decoration-color: #008080\">     3</span> │ <span style=\"color: #008000; text-decoration-color: #008000\">▇  ▃ ▃</span> │  │\n",
       "│ │ <span style=\"color: #af87ff; text-decoration-color: #af87ff\">DMDHHSIZ     </span> │ <span style=\"color: #008080; text-decoration-color: #008080\">    0</span> │ <span style=\"color: #008080; text-decoration-color: #008080\">    0</span> │ <span style=\"color: #008080; text-decoration-color: #008080\">    2.6</span> │ <span style=\"color: #008080; text-decoration-color: #008080\">  1.5</span> │ <span style=\"color: #008080; text-decoration-color: #008080\">       1</span> │ <span style=\"color: #008080; text-decoration-color: #008080\">      2</span> │ <span style=\"color: #008080; text-decoration-color: #008080\">      2</span> │ <span style=\"color: #008080; text-decoration-color: #008080\">      4</span> │ <span style=\"color: #008080; text-decoration-color: #008080\">     7</span> │ <span style=\"color: #008000; text-decoration-color: #008000\">▅▇▃▃▁▁</span> │  │\n",
       "│ │ <span style=\"color: #af87ff; text-decoration-color: #af87ff\">ALQ130       </span> │ <span style=\"color: #008080; text-decoration-color: #008080\">    0</span> │ <span style=\"color: #008080; text-decoration-color: #008080\">    0</span> │ <span style=\"color: #008080; text-decoration-color: #008080\">    2.2</span> │ <span style=\"color: #008080; text-decoration-color: #008080\">  1.9</span> │ <span style=\"color: #008080; text-decoration-color: #008080\">       0</span> │ <span style=\"color: #008080; text-decoration-color: #008080\">      1</span> │ <span style=\"color: #008080; text-decoration-color: #008080\">      2</span> │ <span style=\"color: #008080; text-decoration-color: #008080\">      2</span> │ <span style=\"color: #008080; text-decoration-color: #008080\">    15</span> │ <span style=\"color: #008000; text-decoration-color: #008000\"> ▇▁▁  </span> │  │\n",
       "│ │ <span style=\"color: #af87ff; text-decoration-color: #af87ff\">ALQ142       </span> │ <span style=\"color: #008080; text-decoration-color: #008080\">    0</span> │ <span style=\"color: #008080; text-decoration-color: #008080\">    0</span> │ <span style=\"color: #008080; text-decoration-color: #008080\">      1</span> │ <span style=\"color: #008080; text-decoration-color: #008080\"> 0.47</span> │ <span style=\"color: #008080; text-decoration-color: #008080\">       0</span> │ <span style=\"color: #008080; text-decoration-color: #008080\">      1</span> │ <span style=\"color: #008080; text-decoration-color: #008080\">      1</span> │ <span style=\"color: #008080; text-decoration-color: #008080\">      1</span> │ <span style=\"color: #008080; text-decoration-color: #008080\">     3</span> │ <span style=\"color: #008000; text-decoration-color: #008000\">▁ ▇ ▁ </span> │  │\n",
       "│ │ <span style=\"color: #af87ff; text-decoration-color: #af87ff\">FNQ160       </span> │ <span style=\"color: #008080; text-decoration-color: #008080\"> 6175</span> │ <span style=\"color: #008080; text-decoration-color: #008080\">  100</span> │ <span style=\"color: #008080; text-decoration-color: #008080\">    nan</span> │ <span style=\"color: #008080; text-decoration-color: #008080\">  nan</span> │ <span style=\"color: #008080; text-decoration-color: #008080\">     nan</span> │ <span style=\"color: #008080; text-decoration-color: #008080\">    nan</span> │ <span style=\"color: #008080; text-decoration-color: #008080\">    nan</span> │ <span style=\"color: #008080; text-decoration-color: #008080\">    nan</span> │ <span style=\"color: #008080; text-decoration-color: #008080\">   nan</span> │ <span style=\"color: #008000; text-decoration-color: #008000\">      </span> │  │\n",
       "│ │ <span style=\"color: #af87ff; text-decoration-color: #af87ff\">FNDADI       </span> │ <span style=\"color: #008080; text-decoration-color: #008080\">    2</span> │ <span style=\"color: #008080; text-decoration-color: #008080\"> 0.03</span> │ <span style=\"color: #008080; text-decoration-color: #008080\">    1.8</span> │ <span style=\"color: #008080; text-decoration-color: #008080\"> 0.39</span> │ <span style=\"color: #008080; text-decoration-color: #008080\">       1</span> │ <span style=\"color: #008080; text-decoration-color: #008080\">      2</span> │ <span style=\"color: #008080; text-decoration-color: #008080\">      2</span> │ <span style=\"color: #008080; text-decoration-color: #008080\">      2</span> │ <span style=\"color: #008080; text-decoration-color: #008080\">     2</span> │ <span style=\"color: #008000; text-decoration-color: #008000\">▂    ▇</span> │  │\n",
       "│ │ <span style=\"color: #af87ff; text-decoration-color: #af87ff\">HUQ010       </span> │ <span style=\"color: #008080; text-decoration-color: #008080\">    0</span> │ <span style=\"color: #008080; text-decoration-color: #008080\">    0</span> │ <span style=\"color: #008080; text-decoration-color: #008080\">    2.6</span> │ <span style=\"color: #008080; text-decoration-color: #008080\">    1</span> │ <span style=\"color: #008080; text-decoration-color: #008080\">       1</span> │ <span style=\"color: #008080; text-decoration-color: #008080\">      2</span> │ <span style=\"color: #008080; text-decoration-color: #008080\">      3</span> │ <span style=\"color: #008080; text-decoration-color: #008080\">      3</span> │ <span style=\"color: #008080; text-decoration-color: #008080\">     5</span> │ <span style=\"color: #008000; text-decoration-color: #008000\">▃▇ ▇▃▁</span> │  │\n",
       "│ │ <span style=\"color: #af87ff; text-decoration-color: #af87ff\">PAD680       </span> │ <span style=\"color: #008080; text-decoration-color: #008080\">    6</span> │ <span style=\"color: #008080; text-decoration-color: #008080\">  0.1</span> │ <span style=\"color: #008080; text-decoration-color: #008080\">    370</span> │ <span style=\"color: #008080; text-decoration-color: #008080\">  210</span> │ <span style=\"color: #008080; text-decoration-color: #008080\"> 5.4e-79</span> │ <span style=\"color: #008080; text-decoration-color: #008080\">    200</span> │ <span style=\"color: #008080; text-decoration-color: #008080\">    300</span> │ <span style=\"color: #008080; text-decoration-color: #008080\">    480</span> │ <span style=\"color: #008080; text-decoration-color: #008080\">  1400</span> │ <span style=\"color: #008000; text-decoration-color: #008000\"> ▅▇▅▂ </span> │  │\n",
       "│ │ <span style=\"color: #af87ff; text-decoration-color: #af87ff\">RXQ050       </span> │ <span style=\"color: #008080; text-decoration-color: #008080\">    8</span> │ <span style=\"color: #008080; text-decoration-color: #008080\"> 0.13</span> │ <span style=\"color: #008080; text-decoration-color: #008080\">    2.2</span> │ <span style=\"color: #008080; text-decoration-color: #008080\">    2</span> │ <span style=\"color: #008080; text-decoration-color: #008080\">       0</span> │ <span style=\"color: #008080; text-decoration-color: #008080\">      0</span> │ <span style=\"color: #008080; text-decoration-color: #008080\">      2</span> │ <span style=\"color: #008080; text-decoration-color: #008080\">      4</span> │ <span style=\"color: #008080; text-decoration-color: #008080\">     5</span> │ <span style=\"color: #008000; text-decoration-color: #008000\">▇▃▃▂▂▆</span> │  │\n",
       "│ │ <span style=\"color: #af87ff; text-decoration-color: #af87ff\">SLD012       </span> │ <span style=\"color: #008080; text-decoration-color: #008080\">   52</span> │ <span style=\"color: #008080; text-decoration-color: #008080\"> 0.84</span> │ <span style=\"color: #008080; text-decoration-color: #008080\">    7.7</span> │ <span style=\"color: #008080; text-decoration-color: #008080\">  1.6</span> │ <span style=\"color: #008080; text-decoration-color: #008080\">       2</span> │ <span style=\"color: #008080; text-decoration-color: #008080\">      7</span> │ <span style=\"color: #008080; text-decoration-color: #008080\">      8</span> │ <span style=\"color: #008080; text-decoration-color: #008080\">    8.5</span> │ <span style=\"color: #008080; text-decoration-color: #008080\">    14</span> │ <span style=\"color: #008000; text-decoration-color: #008000\"> ▁▇▇▁ </span> │  │\n",
       "│ │ <span style=\"color: #af87ff; text-decoration-color: #af87ff\">SLD013       </span> │ <span style=\"color: #008080; text-decoration-color: #008080\">   51</span> │ <span style=\"color: #008080; text-decoration-color: #008080\"> 0.83</span> │ <span style=\"color: #008080; text-decoration-color: #008080\">    8.3</span> │ <span style=\"color: #008080; text-decoration-color: #008080\">  1.7</span> │ <span style=\"color: #008080; text-decoration-color: #008080\">       2</span> │ <span style=\"color: #008080; text-decoration-color: #008080\">    7.5</span> │ <span style=\"color: #008080; text-decoration-color: #008080\">      8</span> │ <span style=\"color: #008080; text-decoration-color: #008080\">      9</span> │ <span style=\"color: #008080; text-decoration-color: #008080\">    14</span> │ <span style=\"color: #008000; text-decoration-color: #008000\"> ▁▃▇▂ </span> │  │\n",
       "│ └───────────────┴───────┴───────┴─────────┴───────┴──────────┴─────────┴─────────┴─────────┴────────┴────────┘  │\n",
       "│ <span style=\"font-style: italic\">                                                     bool                                                     </span>  │\n",
       "│ ┏━━━━━━━━━━━━━━━━━━━━━━━━━━━━━━━━━━━━━━━━━━━┳━━━━━━━━━━━━━━━┳━━━━━━━━━━━━━━━━━━━━━━━━━━━━┳━━━━━━━━━━━━━━━━━━━┓  │\n",
       "│ ┃<span style=\"font-weight: bold\"> column_name                               </span>┃<span style=\"font-weight: bold\"> true          </span>┃<span style=\"font-weight: bold\"> true rate                  </span>┃<span style=\"font-weight: bold\"> hist              </span>┃  │\n",
       "│ ┡━━━━━━━━━━━━━━━━━━━━━━━━━━━━━━━━━━━━━━━━━━━╇━━━━━━━━━━━━━━━╇━━━━━━━━━━━━━━━━━━━━━━━━━━━━╇━━━━━━━━━━━━━━━━━━━┩  │\n",
       "│ │ <span style=\"color: #af87ff; text-decoration-color: #af87ff\">RIAGENDR_Female                          </span> │ <span style=\"color: #008080; text-decoration-color: #008080\">         3394</span> │ <span style=\"color: #008080; text-decoration-color: #008080\">                      0.55</span> │ <span style=\"color: #008000; text-decoration-color: #008000\">     ▇    ▇      </span> │  │\n",
       "│ │ <span style=\"color: #af87ff; text-decoration-color: #af87ff\">RIAGENDR_Male                            </span> │ <span style=\"color: #008080; text-decoration-color: #008080\">         2781</span> │ <span style=\"color: #008080; text-decoration-color: #008080\">                      0.45</span> │ <span style=\"color: #008000; text-decoration-color: #008000\">     ▇    ▇      </span> │  │\n",
       "│ │ <span style=\"color: #af87ff; text-decoration-color: #af87ff\">DEPRE                                    </span> │ <span style=\"color: #008080; text-decoration-color: #008080\">          821</span> │ <span style=\"color: #008080; text-decoration-color: #008080\">                      0.13</span> │ <span style=\"color: #008000; text-decoration-color: #008000\">     ▇    ▁      </span> │  │\n",
       "│ │ <span style=\"color: #af87ff; text-decoration-color: #af87ff\">MCQ010                                   </span> │ <span style=\"color: #008080; text-decoration-color: #008080\">         1134</span> │ <span style=\"color: #008080; text-decoration-color: #008080\">                      0.18</span> │ <span style=\"color: #008000; text-decoration-color: #008000\">     ▇    ▂      </span> │  │\n",
       "│ │ <span style=\"color: #af87ff; text-decoration-color: #af87ff\">MCQ053                                   </span> │ <span style=\"color: #008080; text-decoration-color: #008080\">          308</span> │ <span style=\"color: #008080; text-decoration-color: #008080\">                      0.05</span> │ <span style=\"color: #008000; text-decoration-color: #008000\">        ▇        </span> │  │\n",
       "│ │ <span style=\"color: #af87ff; text-decoration-color: #af87ff\">MCQ160A                                  </span> │ <span style=\"color: #008080; text-decoration-color: #008080\">         2251</span> │ <span style=\"color: #008080; text-decoration-color: #008080\">                      0.36</span> │ <span style=\"color: #008000; text-decoration-color: #008000\">     ▇    ▅      </span> │  │\n",
       "│ │ <span style=\"color: #af87ff; text-decoration-color: #af87ff\">MCQ160B                                  </span> │ <span style=\"color: #008080; text-decoration-color: #008080\">          512</span> │ <span style=\"color: #008080; text-decoration-color: #008080\">                     0.083</span> │ <span style=\"color: #008000; text-decoration-color: #008000\">     ▇    ▁      </span> │  │\n",
       "│ │ <span style=\"color: #af87ff; text-decoration-color: #af87ff\">MCQ160C                                  </span> │ <span style=\"color: #008080; text-decoration-color: #008080\">          583</span> │ <span style=\"color: #008080; text-decoration-color: #008080\">                     0.094</span> │ <span style=\"color: #008000; text-decoration-color: #008000\">     ▇    ▁      </span> │  │\n",
       "│ │ <span style=\"color: #af87ff; text-decoration-color: #af87ff\">MCQ160F                                  </span> │ <span style=\"color: #008080; text-decoration-color: #008080\">          541</span> │ <span style=\"color: #008080; text-decoration-color: #008080\">                     0.088</span> │ <span style=\"color: #008000; text-decoration-color: #008000\">     ▇    ▁      </span> │  │\n",
       "│ │ <span style=\"color: #af87ff; text-decoration-color: #af87ff\">MCQ160P                                  </span> │ <span style=\"color: #008080; text-decoration-color: #008080\">          695</span> │ <span style=\"color: #008080; text-decoration-color: #008080\">                      0.11</span> │ <span style=\"color: #008000; text-decoration-color: #008000\">     ▇    ▁      </span> │  │\n",
       "│ │ <span style=\"color: #af87ff; text-decoration-color: #af87ff\">MCQ220                                   </span> │ <span style=\"color: #008080; text-decoration-color: #008080\">         1161</span> │ <span style=\"color: #008080; text-decoration-color: #008080\">                      0.19</span> │ <span style=\"color: #008000; text-decoration-color: #008000\">     ▇    ▂      </span> │  │\n",
       "│ └───────────────────────────────────────────┴───────────────┴────────────────────────────┴───────────────────┘  │\n",
       "╰────────────────────────────────────────────────────── End ──────────────────────────────────────────────────────╯\n",
       "</pre>\n"
      ],
      "text/plain": [
       "╭──────────────────────────────────────────────── skimpy summary ─────────────────────────────────────────────────╮\n",
       "│ \u001b[3m         Data Summary         \u001b[0m \u001b[3m      Data Types       \u001b[0m                                                          │\n",
       "│ ┏━━━━━━━━━━━━━━━━━━━┳━━━━━━━━┓ ┏━━━━━━━━━━━━━┳━━━━━━━┓                                                          │\n",
       "│ ┃\u001b[1;36m \u001b[0m\u001b[1;36mdataframe        \u001b[0m\u001b[1;36m \u001b[0m┃\u001b[1;36m \u001b[0m\u001b[1;36mValues\u001b[0m\u001b[1;36m \u001b[0m┃ ┃\u001b[1;36m \u001b[0m\u001b[1;36mColumn Type\u001b[0m\u001b[1;36m \u001b[0m┃\u001b[1;36m \u001b[0m\u001b[1;36mCount\u001b[0m\u001b[1;36m \u001b[0m┃                                                          │\n",
       "│ ┡━━━━━━━━━━━━━━━━━━━╇━━━━━━━━┩ ┡━━━━━━━━━━━━━╇━━━━━━━┩                                                          │\n",
       "│ │ Number of rows    │ 6175   │ │ float64     │ 14    │                                                          │\n",
       "│ │ Number of columns │ 25     │ │ bool        │ 11    │                                                          │\n",
       "│ └───────────────────┴────────┘ └─────────────┴───────┘                                                          │\n",
       "│ \u001b[3m                                                    number                                                    \u001b[0m  │\n",
       "│ ┏━━━━━━━━━━━━━━━┳━━━━━━━┳━━━━━━━┳━━━━━━━━━┳━━━━━━━┳━━━━━━━━━━┳━━━━━━━━━┳━━━━━━━━━┳━━━━━━━━━┳━━━━━━━━┳━━━━━━━━┓  │\n",
       "│ ┃\u001b[1m \u001b[0m\u001b[1mcolumn_name  \u001b[0m\u001b[1m \u001b[0m┃\u001b[1m \u001b[0m\u001b[1mNA   \u001b[0m\u001b[1m \u001b[0m┃\u001b[1m \u001b[0m\u001b[1mNA % \u001b[0m\u001b[1m \u001b[0m┃\u001b[1m \u001b[0m\u001b[1mmean   \u001b[0m\u001b[1m \u001b[0m┃\u001b[1m \u001b[0m\u001b[1msd   \u001b[0m\u001b[1m \u001b[0m┃\u001b[1m \u001b[0m\u001b[1mp0      \u001b[0m\u001b[1m \u001b[0m┃\u001b[1m \u001b[0m\u001b[1mp25    \u001b[0m\u001b[1m \u001b[0m┃\u001b[1m \u001b[0m\u001b[1mp50    \u001b[0m\u001b[1m \u001b[0m┃\u001b[1m \u001b[0m\u001b[1mp75    \u001b[0m\u001b[1m \u001b[0m┃\u001b[1m \u001b[0m\u001b[1mp100  \u001b[0m\u001b[1m \u001b[0m┃\u001b[1m \u001b[0m\u001b[1mhist  \u001b[0m\u001b[1m \u001b[0m┃  │\n",
       "│ ┡━━━━━━━━━━━━━━━╇━━━━━━━╇━━━━━━━╇━━━━━━━━━╇━━━━━━━╇━━━━━━━━━━╇━━━━━━━━━╇━━━━━━━━━╇━━━━━━━━━╇━━━━━━━━╇━━━━━━━━┩  │\n",
       "│ │ \u001b[38;5;141mSEQN         \u001b[0m │ \u001b[36m    0\u001b[0m │ \u001b[36m    0\u001b[0m │ \u001b[36m 140000\u001b[0m │ \u001b[36m 3400\u001b[0m │ \u001b[36m  130000\u001b[0m │ \u001b[36m 130000\u001b[0m │ \u001b[36m 140000\u001b[0m │ \u001b[36m 140000\u001b[0m │ \u001b[36m140000\u001b[0m │ \u001b[32m▇▇▇▇▇▇\u001b[0m │  │\n",
       "│ │ \u001b[38;5;141mRIDAGEYR     \u001b[0m │ \u001b[36m    0\u001b[0m │ \u001b[36m    0\u001b[0m │ \u001b[36m     52\u001b[0m │ \u001b[36m   18\u001b[0m │ \u001b[36m      18\u001b[0m │ \u001b[36m     36\u001b[0m │ \u001b[36m     55\u001b[0m │ \u001b[36m     67\u001b[0m │ \u001b[36m    80\u001b[0m │ \u001b[32m▅▅▅▅▇▇\u001b[0m │  │\n",
       "│ │ \u001b[38;5;141mDMDEDUC2     \u001b[0m │ \u001b[36m  272\u001b[0m │ \u001b[36m  4.4\u001b[0m │ \u001b[36m    3.9\u001b[0m │ \u001b[36m  1.1\u001b[0m │ \u001b[36m       1\u001b[0m │ \u001b[36m      3\u001b[0m │ \u001b[36m      4\u001b[0m │ \u001b[36m      5\u001b[0m │ \u001b[36m     5\u001b[0m │ \u001b[32m▁▂ ▅▇▇\u001b[0m │  │\n",
       "│ │ \u001b[38;5;141mDMDMARTZ     \u001b[0m │ \u001b[36m  273\u001b[0m │ \u001b[36m 4.42\u001b[0m │ \u001b[36m    1.7\u001b[0m │ \u001b[36m  0.8\u001b[0m │ \u001b[36m       1\u001b[0m │ \u001b[36m      1\u001b[0m │ \u001b[36m      1\u001b[0m │ \u001b[36m      2\u001b[0m │ \u001b[36m     3\u001b[0m │ \u001b[32m▇  ▃ ▃\u001b[0m │  │\n",
       "│ │ \u001b[38;5;141mDMDHHSIZ     \u001b[0m │ \u001b[36m    0\u001b[0m │ \u001b[36m    0\u001b[0m │ \u001b[36m    2.6\u001b[0m │ \u001b[36m  1.5\u001b[0m │ \u001b[36m       1\u001b[0m │ \u001b[36m      2\u001b[0m │ \u001b[36m      2\u001b[0m │ \u001b[36m      4\u001b[0m │ \u001b[36m     7\u001b[0m │ \u001b[32m▅▇▃▃▁▁\u001b[0m │  │\n",
       "│ │ \u001b[38;5;141mALQ130       \u001b[0m │ \u001b[36m    0\u001b[0m │ \u001b[36m    0\u001b[0m │ \u001b[36m    2.2\u001b[0m │ \u001b[36m  1.9\u001b[0m │ \u001b[36m       0\u001b[0m │ \u001b[36m      1\u001b[0m │ \u001b[36m      2\u001b[0m │ \u001b[36m      2\u001b[0m │ \u001b[36m    15\u001b[0m │ \u001b[32m ▇▁▁  \u001b[0m │  │\n",
       "│ │ \u001b[38;5;141mALQ142       \u001b[0m │ \u001b[36m    0\u001b[0m │ \u001b[36m    0\u001b[0m │ \u001b[36m      1\u001b[0m │ \u001b[36m 0.47\u001b[0m │ \u001b[36m       0\u001b[0m │ \u001b[36m      1\u001b[0m │ \u001b[36m      1\u001b[0m │ \u001b[36m      1\u001b[0m │ \u001b[36m     3\u001b[0m │ \u001b[32m▁ ▇ ▁ \u001b[0m │  │\n",
       "│ │ \u001b[38;5;141mFNQ160       \u001b[0m │ \u001b[36m 6175\u001b[0m │ \u001b[36m  100\u001b[0m │ \u001b[36m    nan\u001b[0m │ \u001b[36m  nan\u001b[0m │ \u001b[36m     nan\u001b[0m │ \u001b[36m    nan\u001b[0m │ \u001b[36m    nan\u001b[0m │ \u001b[36m    nan\u001b[0m │ \u001b[36m   nan\u001b[0m │ \u001b[32m      \u001b[0m │  │\n",
       "│ │ \u001b[38;5;141mFNDADI       \u001b[0m │ \u001b[36m    2\u001b[0m │ \u001b[36m 0.03\u001b[0m │ \u001b[36m    1.8\u001b[0m │ \u001b[36m 0.39\u001b[0m │ \u001b[36m       1\u001b[0m │ \u001b[36m      2\u001b[0m │ \u001b[36m      2\u001b[0m │ \u001b[36m      2\u001b[0m │ \u001b[36m     2\u001b[0m │ \u001b[32m▂    ▇\u001b[0m │  │\n",
       "│ │ \u001b[38;5;141mHUQ010       \u001b[0m │ \u001b[36m    0\u001b[0m │ \u001b[36m    0\u001b[0m │ \u001b[36m    2.6\u001b[0m │ \u001b[36m    1\u001b[0m │ \u001b[36m       1\u001b[0m │ \u001b[36m      2\u001b[0m │ \u001b[36m      3\u001b[0m │ \u001b[36m      3\u001b[0m │ \u001b[36m     5\u001b[0m │ \u001b[32m▃▇ ▇▃▁\u001b[0m │  │\n",
       "│ │ \u001b[38;5;141mPAD680       \u001b[0m │ \u001b[36m    6\u001b[0m │ \u001b[36m  0.1\u001b[0m │ \u001b[36m    370\u001b[0m │ \u001b[36m  210\u001b[0m │ \u001b[36m 5.4e-79\u001b[0m │ \u001b[36m    200\u001b[0m │ \u001b[36m    300\u001b[0m │ \u001b[36m    480\u001b[0m │ \u001b[36m  1400\u001b[0m │ \u001b[32m ▅▇▅▂ \u001b[0m │  │\n",
       "│ │ \u001b[38;5;141mRXQ050       \u001b[0m │ \u001b[36m    8\u001b[0m │ \u001b[36m 0.13\u001b[0m │ \u001b[36m    2.2\u001b[0m │ \u001b[36m    2\u001b[0m │ \u001b[36m       0\u001b[0m │ \u001b[36m      0\u001b[0m │ \u001b[36m      2\u001b[0m │ \u001b[36m      4\u001b[0m │ \u001b[36m     5\u001b[0m │ \u001b[32m▇▃▃▂▂▆\u001b[0m │  │\n",
       "│ │ \u001b[38;5;141mSLD012       \u001b[0m │ \u001b[36m   52\u001b[0m │ \u001b[36m 0.84\u001b[0m │ \u001b[36m    7.7\u001b[0m │ \u001b[36m  1.6\u001b[0m │ \u001b[36m       2\u001b[0m │ \u001b[36m      7\u001b[0m │ \u001b[36m      8\u001b[0m │ \u001b[36m    8.5\u001b[0m │ \u001b[36m    14\u001b[0m │ \u001b[32m ▁▇▇▁ \u001b[0m │  │\n",
       "│ │ \u001b[38;5;141mSLD013       \u001b[0m │ \u001b[36m   51\u001b[0m │ \u001b[36m 0.83\u001b[0m │ \u001b[36m    8.3\u001b[0m │ \u001b[36m  1.7\u001b[0m │ \u001b[36m       2\u001b[0m │ \u001b[36m    7.5\u001b[0m │ \u001b[36m      8\u001b[0m │ \u001b[36m      9\u001b[0m │ \u001b[36m    14\u001b[0m │ \u001b[32m ▁▃▇▂ \u001b[0m │  │\n",
       "│ └───────────────┴───────┴───────┴─────────┴───────┴──────────┴─────────┴─────────┴─────────┴────────┴────────┘  │\n",
       "│ \u001b[3m                                                     bool                                                     \u001b[0m  │\n",
       "│ ┏━━━━━━━━━━━━━━━━━━━━━━━━━━━━━━━━━━━━━━━━━━━┳━━━━━━━━━━━━━━━┳━━━━━━━━━━━━━━━━━━━━━━━━━━━━┳━━━━━━━━━━━━━━━━━━━┓  │\n",
       "│ ┃\u001b[1m \u001b[0m\u001b[1mcolumn_name                              \u001b[0m\u001b[1m \u001b[0m┃\u001b[1m \u001b[0m\u001b[1mtrue         \u001b[0m\u001b[1m \u001b[0m┃\u001b[1m \u001b[0m\u001b[1mtrue rate                 \u001b[0m\u001b[1m \u001b[0m┃\u001b[1m \u001b[0m\u001b[1mhist             \u001b[0m\u001b[1m \u001b[0m┃  │\n",
       "│ ┡━━━━━━━━━━━━━━━━━━━━━━━━━━━━━━━━━━━━━━━━━━━╇━━━━━━━━━━━━━━━╇━━━━━━━━━━━━━━━━━━━━━━━━━━━━╇━━━━━━━━━━━━━━━━━━━┩  │\n",
       "│ │ \u001b[38;5;141mRIAGENDR_Female                          \u001b[0m │ \u001b[36m         3394\u001b[0m │ \u001b[36m                      0.55\u001b[0m │ \u001b[32m     ▇    ▇      \u001b[0m │  │\n",
       "│ │ \u001b[38;5;141mRIAGENDR_Male                            \u001b[0m │ \u001b[36m         2781\u001b[0m │ \u001b[36m                      0.45\u001b[0m │ \u001b[32m     ▇    ▇      \u001b[0m │  │\n",
       "│ │ \u001b[38;5;141mDEPRE                                    \u001b[0m │ \u001b[36m          821\u001b[0m │ \u001b[36m                      0.13\u001b[0m │ \u001b[32m     ▇    ▁      \u001b[0m │  │\n",
       "│ │ \u001b[38;5;141mMCQ010                                   \u001b[0m │ \u001b[36m         1134\u001b[0m │ \u001b[36m                      0.18\u001b[0m │ \u001b[32m     ▇    ▂      \u001b[0m │  │\n",
       "│ │ \u001b[38;5;141mMCQ053                                   \u001b[0m │ \u001b[36m          308\u001b[0m │ \u001b[36m                      0.05\u001b[0m │ \u001b[32m        ▇        \u001b[0m │  │\n",
       "│ │ \u001b[38;5;141mMCQ160A                                  \u001b[0m │ \u001b[36m         2251\u001b[0m │ \u001b[36m                      0.36\u001b[0m │ \u001b[32m     ▇    ▅      \u001b[0m │  │\n",
       "│ │ \u001b[38;5;141mMCQ160B                                  \u001b[0m │ \u001b[36m          512\u001b[0m │ \u001b[36m                     0.083\u001b[0m │ \u001b[32m     ▇    ▁      \u001b[0m │  │\n",
       "│ │ \u001b[38;5;141mMCQ160C                                  \u001b[0m │ \u001b[36m          583\u001b[0m │ \u001b[36m                     0.094\u001b[0m │ \u001b[32m     ▇    ▁      \u001b[0m │  │\n",
       "│ │ \u001b[38;5;141mMCQ160F                                  \u001b[0m │ \u001b[36m          541\u001b[0m │ \u001b[36m                     0.088\u001b[0m │ \u001b[32m     ▇    ▁      \u001b[0m │  │\n",
       "│ │ \u001b[38;5;141mMCQ160P                                  \u001b[0m │ \u001b[36m          695\u001b[0m │ \u001b[36m                      0.11\u001b[0m │ \u001b[32m     ▇    ▁      \u001b[0m │  │\n",
       "│ │ \u001b[38;5;141mMCQ220                                   \u001b[0m │ \u001b[36m         1161\u001b[0m │ \u001b[36m                      0.19\u001b[0m │ \u001b[32m     ▇    ▂      \u001b[0m │  │\n",
       "│ └───────────────────────────────────────────┴───────────────┴────────────────────────────┴───────────────────┘  │\n",
       "╰────────────────────────────────────────────────────── End ──────────────────────────────────────────────────────╯\n"
      ]
     },
     "metadata": {},
     "output_type": "display_data"
    }
   ],
   "source": [
    "# Merge all the variables in a final dataframe to handle datatype transformation and NaN\n",
    "\n",
    "# Ensure all DataFrames have the same column as the merge key\n",
    "dfs = [df_demo, df_depress, df_alc, df_func, df_hosp_util, df_mc, df_pa, df_pm, df_sd]\n",
    "\n",
    "# Set SEQN as index for each DataFrame to join based on it\n",
    "dfs = [df.set_index('SEQN') for df in dfs]\n",
    "\n",
    "# Use pd.concat() to join on SEQN (outer join by default)\n",
    "df_merged = pd.concat(dfs, axis=1, join='inner').reset_index()\n",
    "\n",
    "skim(df_merged)"
   ]
  },
  {
   "cell_type": "markdown",
   "metadata": {},
   "source": [
    "The variable FNQ160 have no valide values; therefore, it will be excluded\n",
    "\n",
    "All observations with any NaN values will be removed, as they represent a few percentage of all dataset"
   ]
  },
  {
   "cell_type": "code",
   "execution_count": 139,
   "metadata": {},
   "outputs": [],
   "source": [
    "df_final = df_merged.drop(columns=[\"FNQ160\"]).dropna()"
   ]
  },
  {
   "cell_type": "code",
   "execution_count": 140,
   "metadata": {},
   "outputs": [
    {
     "data": {
      "text/html": [
       "<pre style=\"white-space:pre;overflow-x:auto;line-height:normal;font-family:Menlo,'DejaVu Sans Mono',consolas,'Courier New',monospace\">╭──────────────────────────────────────────────── skimpy summary ─────────────────────────────────────────────────╮\n",
       "│ <span style=\"font-style: italic\">         Data Summary         </span> <span style=\"font-style: italic\">      Data Types       </span>                                                          │\n",
       "│ ┏━━━━━━━━━━━━━━━━━━━┳━━━━━━━━┓ ┏━━━━━━━━━━━━━┳━━━━━━━┓                                                          │\n",
       "│ ┃<span style=\"color: #008080; text-decoration-color: #008080; font-weight: bold\"> dataframe         </span>┃<span style=\"color: #008080; text-decoration-color: #008080; font-weight: bold\"> Values </span>┃ ┃<span style=\"color: #008080; text-decoration-color: #008080; font-weight: bold\"> Column Type </span>┃<span style=\"color: #008080; text-decoration-color: #008080; font-weight: bold\"> Count </span>┃                                                          │\n",
       "│ ┡━━━━━━━━━━━━━━━━━━━╇━━━━━━━━┩ ┡━━━━━━━━━━━━━╇━━━━━━━┩                                                          │\n",
       "│ │ Number of rows    │ 5822   │ │ float64     │ 13    │                                                          │\n",
       "│ │ Number of columns │ 24     │ │ bool        │ 11    │                                                          │\n",
       "│ └───────────────────┴────────┘ └─────────────┴───────┘                                                          │\n",
       "│ <span style=\"font-style: italic\">                                                    number                                                    </span>  │\n",
       "│ ┏━━━━━━━━━━━━━━━┳━━━━━┳━━━━━━━┳━━━━━━━━━━┳━━━━━━━┳━━━━━━━━━━┳━━━━━━━━━┳━━━━━━━━━┳━━━━━━━━━┳━━━━━━━━━┳━━━━━━━━┓  │\n",
       "│ ┃<span style=\"font-weight: bold\"> column_name   </span>┃<span style=\"font-weight: bold\"> NA  </span>┃<span style=\"font-weight: bold\"> NA %  </span>┃<span style=\"font-weight: bold\"> mean     </span>┃<span style=\"font-weight: bold\"> sd    </span>┃<span style=\"font-weight: bold\"> p0       </span>┃<span style=\"font-weight: bold\"> p25     </span>┃<span style=\"font-weight: bold\"> p50     </span>┃<span style=\"font-weight: bold\"> p75     </span>┃<span style=\"font-weight: bold\"> p100    </span>┃<span style=\"font-weight: bold\"> hist   </span>┃  │\n",
       "│ ┡━━━━━━━━━━━━━━━╇━━━━━╇━━━━━━━╇━━━━━━━━━━╇━━━━━━━╇━━━━━━━━━━╇━━━━━━━━━╇━━━━━━━━━╇━━━━━━━━━╇━━━━━━━━━╇━━━━━━━━┩  │\n",
       "│ │ <span style=\"color: #af87ff; text-decoration-color: #af87ff\">SEQN         </span> │ <span style=\"color: #008080; text-decoration-color: #008080\">  0</span> │ <span style=\"color: #008080; text-decoration-color: #008080\">    0</span> │ <span style=\"color: #008080; text-decoration-color: #008080\">  140000</span> │ <span style=\"color: #008080; text-decoration-color: #008080\"> 3400</span> │ <span style=\"color: #008080; text-decoration-color: #008080\">  130000</span> │ <span style=\"color: #008080; text-decoration-color: #008080\"> 130000</span> │ <span style=\"color: #008080; text-decoration-color: #008080\"> 140000</span> │ <span style=\"color: #008080; text-decoration-color: #008080\"> 140000</span> │ <span style=\"color: #008080; text-decoration-color: #008080\"> 140000</span> │ <span style=\"color: #008000; text-decoration-color: #008000\">▇▇▇▇▇▇</span> │  │\n",
       "│ │ <span style=\"color: #af87ff; text-decoration-color: #af87ff\">RIDAGEYR     </span> │ <span style=\"color: #008080; text-decoration-color: #008080\">  0</span> │ <span style=\"color: #008080; text-decoration-color: #008080\">    0</span> │ <span style=\"color: #008080; text-decoration-color: #008080\">      54</span> │ <span style=\"color: #008080; text-decoration-color: #008080\">   17</span> │ <span style=\"color: #008080; text-decoration-color: #008080\">      20</span> │ <span style=\"color: #008080; text-decoration-color: #008080\">     39</span> │ <span style=\"color: #008080; text-decoration-color: #008080\">     57</span> │ <span style=\"color: #008080; text-decoration-color: #008080\">     68</span> │ <span style=\"color: #008080; text-decoration-color: #008080\">     80</span> │ <span style=\"color: #008000; text-decoration-color: #008000\">▃▅▅▅▇▇</span> │  │\n",
       "│ │ <span style=\"color: #af87ff; text-decoration-color: #af87ff\">DMDEDUC2     </span> │ <span style=\"color: #008080; text-decoration-color: #008080\">  0</span> │ <span style=\"color: #008080; text-decoration-color: #008080\">    0</span> │ <span style=\"color: #008080; text-decoration-color: #008080\">     3.9</span> │ <span style=\"color: #008080; text-decoration-color: #008080\">  1.1</span> │ <span style=\"color: #008080; text-decoration-color: #008080\">       1</span> │ <span style=\"color: #008080; text-decoration-color: #008080\">      3</span> │ <span style=\"color: #008080; text-decoration-color: #008080\">      4</span> │ <span style=\"color: #008080; text-decoration-color: #008080\">      5</span> │ <span style=\"color: #008080; text-decoration-color: #008080\">      5</span> │ <span style=\"color: #008000; text-decoration-color: #008000\">▁▂ ▅▇▇</span> │  │\n",
       "│ │ <span style=\"color: #af87ff; text-decoration-color: #af87ff\">DMDMARTZ     </span> │ <span style=\"color: #008080; text-decoration-color: #008080\">  0</span> │ <span style=\"color: #008080; text-decoration-color: #008080\">    0</span> │ <span style=\"color: #008080; text-decoration-color: #008080\">     1.7</span> │ <span style=\"color: #008080; text-decoration-color: #008080\">  0.8</span> │ <span style=\"color: #008080; text-decoration-color: #008080\">       1</span> │ <span style=\"color: #008080; text-decoration-color: #008080\">      1</span> │ <span style=\"color: #008080; text-decoration-color: #008080\">      1</span> │ <span style=\"color: #008080; text-decoration-color: #008080\">      2</span> │ <span style=\"color: #008080; text-decoration-color: #008080\">      3</span> │ <span style=\"color: #008000; text-decoration-color: #008000\">▇  ▃ ▃</span> │  │\n",
       "│ │ <span style=\"color: #af87ff; text-decoration-color: #af87ff\">DMDHHSIZ     </span> │ <span style=\"color: #008080; text-decoration-color: #008080\">  0</span> │ <span style=\"color: #008080; text-decoration-color: #008080\">    0</span> │ <span style=\"color: #008080; text-decoration-color: #008080\">     2.6</span> │ <span style=\"color: #008080; text-decoration-color: #008080\">  1.5</span> │ <span style=\"color: #008080; text-decoration-color: #008080\">       1</span> │ <span style=\"color: #008080; text-decoration-color: #008080\">      2</span> │ <span style=\"color: #008080; text-decoration-color: #008080\">      2</span> │ <span style=\"color: #008080; text-decoration-color: #008080\">      3</span> │ <span style=\"color: #008080; text-decoration-color: #008080\">      7</span> │ <span style=\"color: #008000; text-decoration-color: #008000\">▅▇▃▃▁▁</span> │  │\n",
       "│ │ <span style=\"color: #af87ff; text-decoration-color: #af87ff\">ALQ130       </span> │ <span style=\"color: #008080; text-decoration-color: #008080\">  0</span> │ <span style=\"color: #008080; text-decoration-color: #008080\">    0</span> │ <span style=\"color: #008080; text-decoration-color: #008080\">     2.2</span> │ <span style=\"color: #008080; text-decoration-color: #008080\">  1.9</span> │ <span style=\"color: #008080; text-decoration-color: #008080\">       0</span> │ <span style=\"color: #008080; text-decoration-color: #008080\">      1</span> │ <span style=\"color: #008080; text-decoration-color: #008080\">      2</span> │ <span style=\"color: #008080; text-decoration-color: #008080\">      2</span> │ <span style=\"color: #008080; text-decoration-color: #008080\">     15</span> │ <span style=\"color: #008000; text-decoration-color: #008000\"> ▇▁▁  </span> │  │\n",
       "│ │ <span style=\"color: #af87ff; text-decoration-color: #af87ff\">ALQ142       </span> │ <span style=\"color: #008080; text-decoration-color: #008080\">  0</span> │ <span style=\"color: #008080; text-decoration-color: #008080\">    0</span> │ <span style=\"color: #008080; text-decoration-color: #008080\">       1</span> │ <span style=\"color: #008080; text-decoration-color: #008080\"> 0.46</span> │ <span style=\"color: #008080; text-decoration-color: #008080\">       0</span> │ <span style=\"color: #008080; text-decoration-color: #008080\">      1</span> │ <span style=\"color: #008080; text-decoration-color: #008080\">      1</span> │ <span style=\"color: #008080; text-decoration-color: #008080\">      1</span> │ <span style=\"color: #008080; text-decoration-color: #008080\">      3</span> │ <span style=\"color: #008000; text-decoration-color: #008000\">▁ ▇ ▁ </span> │  │\n",
       "│ │ <span style=\"color: #af87ff; text-decoration-color: #af87ff\">FNDADI       </span> │ <span style=\"color: #008080; text-decoration-color: #008080\">  0</span> │ <span style=\"color: #008080; text-decoration-color: #008080\">    0</span> │ <span style=\"color: #008080; text-decoration-color: #008080\">     1.8</span> │ <span style=\"color: #008080; text-decoration-color: #008080\"> 0.39</span> │ <span style=\"color: #008080; text-decoration-color: #008080\">       1</span> │ <span style=\"color: #008080; text-decoration-color: #008080\">      2</span> │ <span style=\"color: #008080; text-decoration-color: #008080\">      2</span> │ <span style=\"color: #008080; text-decoration-color: #008080\">      2</span> │ <span style=\"color: #008080; text-decoration-color: #008080\">      2</span> │ <span style=\"color: #008000; text-decoration-color: #008000\">▂    ▇</span> │  │\n",
       "│ │ <span style=\"color: #af87ff; text-decoration-color: #af87ff\">HUQ010       </span> │ <span style=\"color: #008080; text-decoration-color: #008080\">  0</span> │ <span style=\"color: #008080; text-decoration-color: #008080\">    0</span> │ <span style=\"color: #008080; text-decoration-color: #008080\">     2.6</span> │ <span style=\"color: #008080; text-decoration-color: #008080\">    1</span> │ <span style=\"color: #008080; text-decoration-color: #008080\">       1</span> │ <span style=\"color: #008080; text-decoration-color: #008080\">      2</span> │ <span style=\"color: #008080; text-decoration-color: #008080\">      3</span> │ <span style=\"color: #008080; text-decoration-color: #008080\">      3</span> │ <span style=\"color: #008080; text-decoration-color: #008080\">      5</span> │ <span style=\"color: #008000; text-decoration-color: #008000\">▃▇ ▇▃▁</span> │  │\n",
       "│ │ <span style=\"color: #af87ff; text-decoration-color: #af87ff\">PAD680       </span> │ <span style=\"color: #008080; text-decoration-color: #008080\">  0</span> │ <span style=\"color: #008080; text-decoration-color: #008080\">    0</span> │ <span style=\"color: #008080; text-decoration-color: #008080\">     360</span> │ <span style=\"color: #008080; text-decoration-color: #008080\">  210</span> │ <span style=\"color: #008080; text-decoration-color: #008080\"> 5.4e-79</span> │ <span style=\"color: #008080; text-decoration-color: #008080\">    180</span> │ <span style=\"color: #008080; text-decoration-color: #008080\">    300</span> │ <span style=\"color: #008080; text-decoration-color: #008080\">    480</span> │ <span style=\"color: #008080; text-decoration-color: #008080\">   1400</span> │ <span style=\"color: #008000; text-decoration-color: #008000\"> ▅▇▅▂ </span> │  │\n",
       "│ │ <span style=\"color: #af87ff; text-decoration-color: #af87ff\">RXQ050       </span> │ <span style=\"color: #008080; text-decoration-color: #008080\">  0</span> │ <span style=\"color: #008080; text-decoration-color: #008080\">    0</span> │ <span style=\"color: #008080; text-decoration-color: #008080\">     2.3</span> │ <span style=\"color: #008080; text-decoration-color: #008080\">    2</span> │ <span style=\"color: #008080; text-decoration-color: #008080\">       0</span> │ <span style=\"color: #008080; text-decoration-color: #008080\">      0</span> │ <span style=\"color: #008080; text-decoration-color: #008080\">      2</span> │ <span style=\"color: #008080; text-decoration-color: #008080\">      4</span> │ <span style=\"color: #008080; text-decoration-color: #008080\">      5</span> │ <span style=\"color: #008000; text-decoration-color: #008000\">▇▃▃▃▂▆</span> │  │\n",
       "│ │ <span style=\"color: #af87ff; text-decoration-color: #af87ff\">SLD012       </span> │ <span style=\"color: #008080; text-decoration-color: #008080\">  0</span> │ <span style=\"color: #008080; text-decoration-color: #008080\">    0</span> │ <span style=\"color: #008080; text-decoration-color: #008080\">     7.7</span> │ <span style=\"color: #008080; text-decoration-color: #008080\">  1.6</span> │ <span style=\"color: #008080; text-decoration-color: #008080\">       2</span> │ <span style=\"color: #008080; text-decoration-color: #008080\">      7</span> │ <span style=\"color: #008080; text-decoration-color: #008080\">      8</span> │ <span style=\"color: #008080; text-decoration-color: #008080\">    8.5</span> │ <span style=\"color: #008080; text-decoration-color: #008080\">     14</span> │ <span style=\"color: #008000; text-decoration-color: #008000\"> ▁▇▇▁ </span> │  │\n",
       "│ │ <span style=\"color: #af87ff; text-decoration-color: #af87ff\">SLD013       </span> │ <span style=\"color: #008080; text-decoration-color: #008080\">  0</span> │ <span style=\"color: #008080; text-decoration-color: #008080\">    0</span> │ <span style=\"color: #008080; text-decoration-color: #008080\">     8.3</span> │ <span style=\"color: #008080; text-decoration-color: #008080\">  1.7</span> │ <span style=\"color: #008080; text-decoration-color: #008080\">       2</span> │ <span style=\"color: #008080; text-decoration-color: #008080\">    7.5</span> │ <span style=\"color: #008080; text-decoration-color: #008080\">      8</span> │ <span style=\"color: #008080; text-decoration-color: #008080\">      9</span> │ <span style=\"color: #008080; text-decoration-color: #008080\">     14</span> │ <span style=\"color: #008000; text-decoration-color: #008000\"> ▁▃▇▂ </span> │  │\n",
       "│ └───────────────┴─────┴───────┴──────────┴───────┴──────────┴─────────┴─────────┴─────────┴─────────┴────────┘  │\n",
       "│ <span style=\"font-style: italic\">                                                     bool                                                     </span>  │\n",
       "│ ┏━━━━━━━━━━━━━━━━━━━━━━━━━━━━━━━━━━━━━━━━━━━┳━━━━━━━━━━━━━━━┳━━━━━━━━━━━━━━━━━━━━━━━━━━━━┳━━━━━━━━━━━━━━━━━━━┓  │\n",
       "│ ┃<span style=\"font-weight: bold\"> column_name                               </span>┃<span style=\"font-weight: bold\"> true          </span>┃<span style=\"font-weight: bold\"> true rate                  </span>┃<span style=\"font-weight: bold\"> hist              </span>┃  │\n",
       "│ ┡━━━━━━━━━━━━━━━━━━━━━━━━━━━━━━━━━━━━━━━━━━━╇━━━━━━━━━━━━━━━╇━━━━━━━━━━━━━━━━━━━━━━━━━━━━╇━━━━━━━━━━━━━━━━━━━┩  │\n",
       "│ │ <span style=\"color: #af87ff; text-decoration-color: #af87ff\">RIAGENDR_Female                          </span> │ <span style=\"color: #008080; text-decoration-color: #008080\">         3228</span> │ <span style=\"color: #008080; text-decoration-color: #008080\">                      0.55</span> │ <span style=\"color: #008000; text-decoration-color: #008000\">     ▆    ▇      </span> │  │\n",
       "│ │ <span style=\"color: #af87ff; text-decoration-color: #af87ff\">RIAGENDR_Male                            </span> │ <span style=\"color: #008080; text-decoration-color: #008080\">         2594</span> │ <span style=\"color: #008080; text-decoration-color: #008080\">                      0.45</span> │ <span style=\"color: #008000; text-decoration-color: #008000\">     ▇    ▆      </span> │  │\n",
       "│ │ <span style=\"color: #af87ff; text-decoration-color: #af87ff\">DEPRE                                    </span> │ <span style=\"color: #008080; text-decoration-color: #008080\">          729</span> │ <span style=\"color: #008080; text-decoration-color: #008080\">                      0.13</span> │ <span style=\"color: #008000; text-decoration-color: #008000\">     ▇    ▁      </span> │  │\n",
       "│ │ <span style=\"color: #af87ff; text-decoration-color: #af87ff\">MCQ010                                   </span> │ <span style=\"color: #008080; text-decoration-color: #008080\">         1057</span> │ <span style=\"color: #008080; text-decoration-color: #008080\">                      0.18</span> │ <span style=\"color: #008000; text-decoration-color: #008000\">     ▇    ▂      </span> │  │\n",
       "│ │ <span style=\"color: #af87ff; text-decoration-color: #af87ff\">MCQ053                                   </span> │ <span style=\"color: #008080; text-decoration-color: #008080\">          295</span> │ <span style=\"color: #008080; text-decoration-color: #008080\">                     0.051</span> │ <span style=\"color: #008000; text-decoration-color: #008000\">        ▇        </span> │  │\n",
       "│ │ <span style=\"color: #af87ff; text-decoration-color: #af87ff\">MCQ160A                                  </span> │ <span style=\"color: #008080; text-decoration-color: #008080\">         1944</span> │ <span style=\"color: #008080; text-decoration-color: #008080\">                      0.33</span> │ <span style=\"color: #008000; text-decoration-color: #008000\">     ▇    ▅      </span> │  │\n",
       "│ │ <span style=\"color: #af87ff; text-decoration-color: #af87ff\">MCQ160B                                  </span> │ <span style=\"color: #008080; text-decoration-color: #008080\">          233</span> │ <span style=\"color: #008080; text-decoration-color: #008080\">                      0.04</span> │ <span style=\"color: #008000; text-decoration-color: #008000\">        ▇        </span> │  │\n",
       "│ │ <span style=\"color: #af87ff; text-decoration-color: #af87ff\">MCQ160C                                  </span> │ <span style=\"color: #008080; text-decoration-color: #008080\">          304</span> │ <span style=\"color: #008080; text-decoration-color: #008080\">                     0.052</span> │ <span style=\"color: #008000; text-decoration-color: #008000\">        ▇        </span> │  │\n",
       "│ │ <span style=\"color: #af87ff; text-decoration-color: #af87ff\">MCQ160F                                  </span> │ <span style=\"color: #008080; text-decoration-color: #008080\">          264</span> │ <span style=\"color: #008080; text-decoration-color: #008080\">                     0.045</span> │ <span style=\"color: #008000; text-decoration-color: #008000\">        ▇        </span> │  │\n",
       "│ │ <span style=\"color: #af87ff; text-decoration-color: #af87ff\">MCQ160P                                  </span> │ <span style=\"color: #008080; text-decoration-color: #008080\">          410</span> │ <span style=\"color: #008080; text-decoration-color: #008080\">                      0.07</span> │ <span style=\"color: #008000; text-decoration-color: #008000\">     ▇    ▁      </span> │  │\n",
       "│ │ <span style=\"color: #af87ff; text-decoration-color: #af87ff\">MCQ220                                   </span> │ <span style=\"color: #008080; text-decoration-color: #008080\">          876</span> │ <span style=\"color: #008080; text-decoration-color: #008080\">                      0.15</span> │ <span style=\"color: #008000; text-decoration-color: #008000\">     ▇    ▁      </span> │  │\n",
       "│ └───────────────────────────────────────────┴───────────────┴────────────────────────────┴───────────────────┘  │\n",
       "╰────────────────────────────────────────────────────── End ──────────────────────────────────────────────────────╯\n",
       "</pre>\n"
      ],
      "text/plain": [
       "╭──────────────────────────────────────────────── skimpy summary ─────────────────────────────────────────────────╮\n",
       "│ \u001b[3m         Data Summary         \u001b[0m \u001b[3m      Data Types       \u001b[0m                                                          │\n",
       "│ ┏━━━━━━━━━━━━━━━━━━━┳━━━━━━━━┓ ┏━━━━━━━━━━━━━┳━━━━━━━┓                                                          │\n",
       "│ ┃\u001b[1;36m \u001b[0m\u001b[1;36mdataframe        \u001b[0m\u001b[1;36m \u001b[0m┃\u001b[1;36m \u001b[0m\u001b[1;36mValues\u001b[0m\u001b[1;36m \u001b[0m┃ ┃\u001b[1;36m \u001b[0m\u001b[1;36mColumn Type\u001b[0m\u001b[1;36m \u001b[0m┃\u001b[1;36m \u001b[0m\u001b[1;36mCount\u001b[0m\u001b[1;36m \u001b[0m┃                                                          │\n",
       "│ ┡━━━━━━━━━━━━━━━━━━━╇━━━━━━━━┩ ┡━━━━━━━━━━━━━╇━━━━━━━┩                                                          │\n",
       "│ │ Number of rows    │ 5822   │ │ float64     │ 13    │                                                          │\n",
       "│ │ Number of columns │ 24     │ │ bool        │ 11    │                                                          │\n",
       "│ └───────────────────┴────────┘ └─────────────┴───────┘                                                          │\n",
       "│ \u001b[3m                                                    number                                                    \u001b[0m  │\n",
       "│ ┏━━━━━━━━━━━━━━━┳━━━━━┳━━━━━━━┳━━━━━━━━━━┳━━━━━━━┳━━━━━━━━━━┳━━━━━━━━━┳━━━━━━━━━┳━━━━━━━━━┳━━━━━━━━━┳━━━━━━━━┓  │\n",
       "│ ┃\u001b[1m \u001b[0m\u001b[1mcolumn_name  \u001b[0m\u001b[1m \u001b[0m┃\u001b[1m \u001b[0m\u001b[1mNA \u001b[0m\u001b[1m \u001b[0m┃\u001b[1m \u001b[0m\u001b[1mNA % \u001b[0m\u001b[1m \u001b[0m┃\u001b[1m \u001b[0m\u001b[1mmean    \u001b[0m\u001b[1m \u001b[0m┃\u001b[1m \u001b[0m\u001b[1msd   \u001b[0m\u001b[1m \u001b[0m┃\u001b[1m \u001b[0m\u001b[1mp0      \u001b[0m\u001b[1m \u001b[0m┃\u001b[1m \u001b[0m\u001b[1mp25    \u001b[0m\u001b[1m \u001b[0m┃\u001b[1m \u001b[0m\u001b[1mp50    \u001b[0m\u001b[1m \u001b[0m┃\u001b[1m \u001b[0m\u001b[1mp75    \u001b[0m\u001b[1m \u001b[0m┃\u001b[1m \u001b[0m\u001b[1mp100   \u001b[0m\u001b[1m \u001b[0m┃\u001b[1m \u001b[0m\u001b[1mhist  \u001b[0m\u001b[1m \u001b[0m┃  │\n",
       "│ ┡━━━━━━━━━━━━━━━╇━━━━━╇━━━━━━━╇━━━━━━━━━━╇━━━━━━━╇━━━━━━━━━━╇━━━━━━━━━╇━━━━━━━━━╇━━━━━━━━━╇━━━━━━━━━╇━━━━━━━━┩  │\n",
       "│ │ \u001b[38;5;141mSEQN         \u001b[0m │ \u001b[36m  0\u001b[0m │ \u001b[36m    0\u001b[0m │ \u001b[36m  140000\u001b[0m │ \u001b[36m 3400\u001b[0m │ \u001b[36m  130000\u001b[0m │ \u001b[36m 130000\u001b[0m │ \u001b[36m 140000\u001b[0m │ \u001b[36m 140000\u001b[0m │ \u001b[36m 140000\u001b[0m │ \u001b[32m▇▇▇▇▇▇\u001b[0m │  │\n",
       "│ │ \u001b[38;5;141mRIDAGEYR     \u001b[0m │ \u001b[36m  0\u001b[0m │ \u001b[36m    0\u001b[0m │ \u001b[36m      54\u001b[0m │ \u001b[36m   17\u001b[0m │ \u001b[36m      20\u001b[0m │ \u001b[36m     39\u001b[0m │ \u001b[36m     57\u001b[0m │ \u001b[36m     68\u001b[0m │ \u001b[36m     80\u001b[0m │ \u001b[32m▃▅▅▅▇▇\u001b[0m │  │\n",
       "│ │ \u001b[38;5;141mDMDEDUC2     \u001b[0m │ \u001b[36m  0\u001b[0m │ \u001b[36m    0\u001b[0m │ \u001b[36m     3.9\u001b[0m │ \u001b[36m  1.1\u001b[0m │ \u001b[36m       1\u001b[0m │ \u001b[36m      3\u001b[0m │ \u001b[36m      4\u001b[0m │ \u001b[36m      5\u001b[0m │ \u001b[36m      5\u001b[0m │ \u001b[32m▁▂ ▅▇▇\u001b[0m │  │\n",
       "│ │ \u001b[38;5;141mDMDMARTZ     \u001b[0m │ \u001b[36m  0\u001b[0m │ \u001b[36m    0\u001b[0m │ \u001b[36m     1.7\u001b[0m │ \u001b[36m  0.8\u001b[0m │ \u001b[36m       1\u001b[0m │ \u001b[36m      1\u001b[0m │ \u001b[36m      1\u001b[0m │ \u001b[36m      2\u001b[0m │ \u001b[36m      3\u001b[0m │ \u001b[32m▇  ▃ ▃\u001b[0m │  │\n",
       "│ │ \u001b[38;5;141mDMDHHSIZ     \u001b[0m │ \u001b[36m  0\u001b[0m │ \u001b[36m    0\u001b[0m │ \u001b[36m     2.6\u001b[0m │ \u001b[36m  1.5\u001b[0m │ \u001b[36m       1\u001b[0m │ \u001b[36m      2\u001b[0m │ \u001b[36m      2\u001b[0m │ \u001b[36m      3\u001b[0m │ \u001b[36m      7\u001b[0m │ \u001b[32m▅▇▃▃▁▁\u001b[0m │  │\n",
       "│ │ \u001b[38;5;141mALQ130       \u001b[0m │ \u001b[36m  0\u001b[0m │ \u001b[36m    0\u001b[0m │ \u001b[36m     2.2\u001b[0m │ \u001b[36m  1.9\u001b[0m │ \u001b[36m       0\u001b[0m │ \u001b[36m      1\u001b[0m │ \u001b[36m      2\u001b[0m │ \u001b[36m      2\u001b[0m │ \u001b[36m     15\u001b[0m │ \u001b[32m ▇▁▁  \u001b[0m │  │\n",
       "│ │ \u001b[38;5;141mALQ142       \u001b[0m │ \u001b[36m  0\u001b[0m │ \u001b[36m    0\u001b[0m │ \u001b[36m       1\u001b[0m │ \u001b[36m 0.46\u001b[0m │ \u001b[36m       0\u001b[0m │ \u001b[36m      1\u001b[0m │ \u001b[36m      1\u001b[0m │ \u001b[36m      1\u001b[0m │ \u001b[36m      3\u001b[0m │ \u001b[32m▁ ▇ ▁ \u001b[0m │  │\n",
       "│ │ \u001b[38;5;141mFNDADI       \u001b[0m │ \u001b[36m  0\u001b[0m │ \u001b[36m    0\u001b[0m │ \u001b[36m     1.8\u001b[0m │ \u001b[36m 0.39\u001b[0m │ \u001b[36m       1\u001b[0m │ \u001b[36m      2\u001b[0m │ \u001b[36m      2\u001b[0m │ \u001b[36m      2\u001b[0m │ \u001b[36m      2\u001b[0m │ \u001b[32m▂    ▇\u001b[0m │  │\n",
       "│ │ \u001b[38;5;141mHUQ010       \u001b[0m │ \u001b[36m  0\u001b[0m │ \u001b[36m    0\u001b[0m │ \u001b[36m     2.6\u001b[0m │ \u001b[36m    1\u001b[0m │ \u001b[36m       1\u001b[0m │ \u001b[36m      2\u001b[0m │ \u001b[36m      3\u001b[0m │ \u001b[36m      3\u001b[0m │ \u001b[36m      5\u001b[0m │ \u001b[32m▃▇ ▇▃▁\u001b[0m │  │\n",
       "│ │ \u001b[38;5;141mPAD680       \u001b[0m │ \u001b[36m  0\u001b[0m │ \u001b[36m    0\u001b[0m │ \u001b[36m     360\u001b[0m │ \u001b[36m  210\u001b[0m │ \u001b[36m 5.4e-79\u001b[0m │ \u001b[36m    180\u001b[0m │ \u001b[36m    300\u001b[0m │ \u001b[36m    480\u001b[0m │ \u001b[36m   1400\u001b[0m │ \u001b[32m ▅▇▅▂ \u001b[0m │  │\n",
       "│ │ \u001b[38;5;141mRXQ050       \u001b[0m │ \u001b[36m  0\u001b[0m │ \u001b[36m    0\u001b[0m │ \u001b[36m     2.3\u001b[0m │ \u001b[36m    2\u001b[0m │ \u001b[36m       0\u001b[0m │ \u001b[36m      0\u001b[0m │ \u001b[36m      2\u001b[0m │ \u001b[36m      4\u001b[0m │ \u001b[36m      5\u001b[0m │ \u001b[32m▇▃▃▃▂▆\u001b[0m │  │\n",
       "│ │ \u001b[38;5;141mSLD012       \u001b[0m │ \u001b[36m  0\u001b[0m │ \u001b[36m    0\u001b[0m │ \u001b[36m     7.7\u001b[0m │ \u001b[36m  1.6\u001b[0m │ \u001b[36m       2\u001b[0m │ \u001b[36m      7\u001b[0m │ \u001b[36m      8\u001b[0m │ \u001b[36m    8.5\u001b[0m │ \u001b[36m     14\u001b[0m │ \u001b[32m ▁▇▇▁ \u001b[0m │  │\n",
       "│ │ \u001b[38;5;141mSLD013       \u001b[0m │ \u001b[36m  0\u001b[0m │ \u001b[36m    0\u001b[0m │ \u001b[36m     8.3\u001b[0m │ \u001b[36m  1.7\u001b[0m │ \u001b[36m       2\u001b[0m │ \u001b[36m    7.5\u001b[0m │ \u001b[36m      8\u001b[0m │ \u001b[36m      9\u001b[0m │ \u001b[36m     14\u001b[0m │ \u001b[32m ▁▃▇▂ \u001b[0m │  │\n",
       "│ └───────────────┴─────┴───────┴──────────┴───────┴──────────┴─────────┴─────────┴─────────┴─────────┴────────┘  │\n",
       "│ \u001b[3m                                                     bool                                                     \u001b[0m  │\n",
       "│ ┏━━━━━━━━━━━━━━━━━━━━━━━━━━━━━━━━━━━━━━━━━━━┳━━━━━━━━━━━━━━━┳━━━━━━━━━━━━━━━━━━━━━━━━━━━━┳━━━━━━━━━━━━━━━━━━━┓  │\n",
       "│ ┃\u001b[1m \u001b[0m\u001b[1mcolumn_name                              \u001b[0m\u001b[1m \u001b[0m┃\u001b[1m \u001b[0m\u001b[1mtrue         \u001b[0m\u001b[1m \u001b[0m┃\u001b[1m \u001b[0m\u001b[1mtrue rate                 \u001b[0m\u001b[1m \u001b[0m┃\u001b[1m \u001b[0m\u001b[1mhist             \u001b[0m\u001b[1m \u001b[0m┃  │\n",
       "│ ┡━━━━━━━━━━━━━━━━━━━━━━━━━━━━━━━━━━━━━━━━━━━╇━━━━━━━━━━━━━━━╇━━━━━━━━━━━━━━━━━━━━━━━━━━━━╇━━━━━━━━━━━━━━━━━━━┩  │\n",
       "│ │ \u001b[38;5;141mRIAGENDR_Female                          \u001b[0m │ \u001b[36m         3228\u001b[0m │ \u001b[36m                      0.55\u001b[0m │ \u001b[32m     ▆    ▇      \u001b[0m │  │\n",
       "│ │ \u001b[38;5;141mRIAGENDR_Male                            \u001b[0m │ \u001b[36m         2594\u001b[0m │ \u001b[36m                      0.45\u001b[0m │ \u001b[32m     ▇    ▆      \u001b[0m │  │\n",
       "│ │ \u001b[38;5;141mDEPRE                                    \u001b[0m │ \u001b[36m          729\u001b[0m │ \u001b[36m                      0.13\u001b[0m │ \u001b[32m     ▇    ▁      \u001b[0m │  │\n",
       "│ │ \u001b[38;5;141mMCQ010                                   \u001b[0m │ \u001b[36m         1057\u001b[0m │ \u001b[36m                      0.18\u001b[0m │ \u001b[32m     ▇    ▂      \u001b[0m │  │\n",
       "│ │ \u001b[38;5;141mMCQ053                                   \u001b[0m │ \u001b[36m          295\u001b[0m │ \u001b[36m                     0.051\u001b[0m │ \u001b[32m        ▇        \u001b[0m │  │\n",
       "│ │ \u001b[38;5;141mMCQ160A                                  \u001b[0m │ \u001b[36m         1944\u001b[0m │ \u001b[36m                      0.33\u001b[0m │ \u001b[32m     ▇    ▅      \u001b[0m │  │\n",
       "│ │ \u001b[38;5;141mMCQ160B                                  \u001b[0m │ \u001b[36m          233\u001b[0m │ \u001b[36m                      0.04\u001b[0m │ \u001b[32m        ▇        \u001b[0m │  │\n",
       "│ │ \u001b[38;5;141mMCQ160C                                  \u001b[0m │ \u001b[36m          304\u001b[0m │ \u001b[36m                     0.052\u001b[0m │ \u001b[32m        ▇        \u001b[0m │  │\n",
       "│ │ \u001b[38;5;141mMCQ160F                                  \u001b[0m │ \u001b[36m          264\u001b[0m │ \u001b[36m                     0.045\u001b[0m │ \u001b[32m        ▇        \u001b[0m │  │\n",
       "│ │ \u001b[38;5;141mMCQ160P                                  \u001b[0m │ \u001b[36m          410\u001b[0m │ \u001b[36m                      0.07\u001b[0m │ \u001b[32m     ▇    ▁      \u001b[0m │  │\n",
       "│ │ \u001b[38;5;141mMCQ220                                   \u001b[0m │ \u001b[36m          876\u001b[0m │ \u001b[36m                      0.15\u001b[0m │ \u001b[32m     ▇    ▁      \u001b[0m │  │\n",
       "│ └───────────────────────────────────────────┴───────────────┴────────────────────────────┴───────────────────┘  │\n",
       "╰────────────────────────────────────────────────────── End ──────────────────────────────────────────────────────╯\n"
      ]
     },
     "metadata": {},
     "output_type": "display_data"
    }
   ],
   "source": [
    "skim(df_final)"
   ]
  },
  {
   "cell_type": "markdown",
   "metadata": {},
   "source": [
    "### Datatypes transformation"
   ]
  },
  {
   "cell_type": "code",
   "execution_count": 164,
   "metadata": {},
   "outputs": [
    {
     "data": {
      "text/plain": [
       "SEQN                float64\n",
       "RIDAGEYR            float64\n",
       "DMDEDUC2           category\n",
       "DMDMARTZ           category\n",
       "DMDHHSIZ            float64\n",
       "RIAGENDR_Female        bool\n",
       "RIAGENDR_Male          bool\n",
       "DEPRE                  bool\n",
       "ALQ130              float64\n",
       "ALQ142             category\n",
       "FNDADI                 bool\n",
       "HUQ010             category\n",
       "MCQ010                 bool\n",
       "MCQ053                 bool\n",
       "MCQ160A                bool\n",
       "MCQ160B                bool\n",
       "MCQ160C                bool\n",
       "MCQ160F                bool\n",
       "MCQ160P                bool\n",
       "MCQ220                 bool\n",
       "PAD680              float64\n",
       "RXQ050              float64\n",
       "SLD012              float64\n",
       "SLD013              float64\n",
       "dtype: object"
      ]
     },
     "execution_count": 164,
     "metadata": {},
     "output_type": "execute_result"
    }
   ],
   "source": [
    "# Initialize mapping dictionaries\n",
    "type_mapping = {}\n",
    "\n",
    "pd.set_option('future.no_silent_downcasting', True)\n",
    "\n",
    "# Define ordered categories mapping\n",
    "ordered_categories_mapping = {\n",
    "    'DMDEDUC2': [1, 2, 3, 4, 5],\n",
    "    'HUQ010': [5, 4, 3, 2, 1], \n",
    "    'ALQ142': [0, 1, 2, 3]\n",
    "}\n",
    "\n",
    "# Explicitly define exceptions for handling column types\n",
    "force_numeric = ['DMDHHSIZ']\n",
    "#force_categorical = ['ALQ142']\n",
    "\n",
    "# Automatically detect types based on conditions\n",
    "for col in df_final.columns:\n",
    "    unique_values = df_final[col].dropna().unique()\n",
    "    \n",
    "    # Force certain columns as numeric\n",
    "    if col in force_numeric:\n",
    "        type_mapping[col] = 'float' if df_final[col].dtype == 'float64' else 'integer'\n",
    "    \n",
    "    # Force certain columns as categorical\n",
    "    #elif col in force_categorical:\n",
    "    #    type_mapping[col] = 'category'\n",
    "    \n",
    "    # Check for true binary variables (like Yes/No)\n",
    "    elif set(unique_values) == {1, 2} and col not in ['RIAGENDR']:\n",
    "        type_mapping[col] = 'boolean'\n",
    "    # Handle ordered categories if defined\n",
    "    elif col in ordered_categories_mapping:\n",
    "        type_mapping[col] = pd.CategoricalDtype(ordered=True, categories=ordered_categories_mapping[col])\n",
    "    # Categorical: more than two distinct values or explicitly defined cases like gender\n",
    "    elif df_final[col].dtype == 'float64' and len(unique_values) < 5:\n",
    "        type_mapping[col] = 'category'\n",
    "    # Numerical: Keep as float or integer\n",
    "    elif df_final[col].dtype == 'float64':\n",
    "        type_mapping[col] = 'float'\n",
    "    elif df_final[col].dtype == 'int64':\n",
    "        type_mapping[col] = 'integer'\n",
    "\n",
    "# Apply datatype transformation\n",
    "for col, dtype in type_mapping.items():\n",
    "    if dtype == 'boolean':\n",
    "        df_final[col] = df_final[col].replace({1: True, 2: False}).infer_objects(copy=False)  # Ensures proper downcasting\n",
    "    elif isinstance(dtype, pd.CategoricalDtype):  # Ordered categories\n",
    "        df_final[col] = df_final[col].astype(dtype)\n",
    "    elif dtype == 'category':\n",
    "        df_final[col] = df_final[col].astype('category')\n",
    "    elif dtype == 'integer':\n",
    "        df_final[col] = df_final[col].astype(int)\n",
    "    elif dtype == 'float':\n",
    "        df_final[col] = df_final[col].astype(float)\n",
    "\n",
    "df_final.dtypes"
   ]
  },
  {
   "cell_type": "code",
   "execution_count": 173,
   "metadata": {},
   "outputs": [
    {
     "data": {
      "text/html": [
       "<pre style=\"white-space:pre;overflow-x:auto;line-height:normal;font-family:Menlo,'DejaVu Sans Mono',consolas,'Courier New',monospace\">╭──────────────────────────────────────────────── skimpy summary ─────────────────────────────────────────────────╮\n",
       "│ <span style=\"font-style: italic\">         Data Summary         </span> <span style=\"font-style: italic\">      Data Types       </span> <span style=\"font-style: italic\">       Categories        </span>                                │\n",
       "│ ┏━━━━━━━━━━━━━━━━━━━┳━━━━━━━━┓ ┏━━━━━━━━━━━━━┳━━━━━━━┓ ┏━━━━━━━━━━━━━━━━━━━━━━━┓                                │\n",
       "│ ┃<span style=\"color: #008080; text-decoration-color: #008080; font-weight: bold\"> dataframe         </span>┃<span style=\"color: #008080; text-decoration-color: #008080; font-weight: bold\"> Values </span>┃ ┃<span style=\"color: #008080; text-decoration-color: #008080; font-weight: bold\"> Column Type </span>┃<span style=\"color: #008080; text-decoration-color: #008080; font-weight: bold\"> Count </span>┃ ┃<span style=\"color: #008080; text-decoration-color: #008080; font-weight: bold\"> Categorical Variables </span>┃                                │\n",
       "│ ┡━━━━━━━━━━━━━━━━━━━╇━━━━━━━━┩ ┡━━━━━━━━━━━━━╇━━━━━━━┩ ┡━━━━━━━━━━━━━━━━━━━━━━━┩                                │\n",
       "│ │ Number of rows    │ 5822   │ │ bool        │ 12    │ │ DMDEDUC2              │                                │\n",
       "│ │ Number of columns │ 24     │ │ float64     │ 8     │ │ DMDMARTZ              │                                │\n",
       "│ └───────────────────┴────────┘ │ category    │ 4     │ │ ALQ142                │                                │\n",
       "│                                └─────────────┴───────┘ │ HUQ010                │                                │\n",
       "│                                                        └───────────────────────┘                                │\n",
       "│ <span style=\"font-style: italic\">                                                    number                                                    </span>  │\n",
       "│ ┏━━━━━━━━━━━━━━━┳━━━━━┳━━━━━━━┳━━━━━━━━━━┳━━━━━━━┳━━━━━━━━━━┳━━━━━━━━━┳━━━━━━━━━┳━━━━━━━━━┳━━━━━━━━━┳━━━━━━━━┓  │\n",
       "│ ┃<span style=\"font-weight: bold\"> column_name   </span>┃<span style=\"font-weight: bold\"> NA  </span>┃<span style=\"font-weight: bold\"> NA %  </span>┃<span style=\"font-weight: bold\"> mean     </span>┃<span style=\"font-weight: bold\"> sd    </span>┃<span style=\"font-weight: bold\"> p0       </span>┃<span style=\"font-weight: bold\"> p25     </span>┃<span style=\"font-weight: bold\"> p50     </span>┃<span style=\"font-weight: bold\"> p75     </span>┃<span style=\"font-weight: bold\"> p100    </span>┃<span style=\"font-weight: bold\"> hist   </span>┃  │\n",
       "│ ┡━━━━━━━━━━━━━━━╇━━━━━╇━━━━━━━╇━━━━━━━━━━╇━━━━━━━╇━━━━━━━━━━╇━━━━━━━━━╇━━━━━━━━━╇━━━━━━━━━╇━━━━━━━━━╇━━━━━━━━┩  │\n",
       "│ │ <span style=\"color: #af87ff; text-decoration-color: #af87ff\">SEQN         </span> │ <span style=\"color: #008080; text-decoration-color: #008080\">  0</span> │ <span style=\"color: #008080; text-decoration-color: #008080\">    0</span> │ <span style=\"color: #008080; text-decoration-color: #008080\">  140000</span> │ <span style=\"color: #008080; text-decoration-color: #008080\"> 3400</span> │ <span style=\"color: #008080; text-decoration-color: #008080\">  130000</span> │ <span style=\"color: #008080; text-decoration-color: #008080\"> 130000</span> │ <span style=\"color: #008080; text-decoration-color: #008080\"> 140000</span> │ <span style=\"color: #008080; text-decoration-color: #008080\"> 140000</span> │ <span style=\"color: #008080; text-decoration-color: #008080\"> 140000</span> │ <span style=\"color: #008000; text-decoration-color: #008000\">▇▇▇▇▇▇</span> │  │\n",
       "│ │ <span style=\"color: #af87ff; text-decoration-color: #af87ff\">RIDAGEYR     </span> │ <span style=\"color: #008080; text-decoration-color: #008080\">  0</span> │ <span style=\"color: #008080; text-decoration-color: #008080\">    0</span> │ <span style=\"color: #008080; text-decoration-color: #008080\">      54</span> │ <span style=\"color: #008080; text-decoration-color: #008080\">   17</span> │ <span style=\"color: #008080; text-decoration-color: #008080\">      20</span> │ <span style=\"color: #008080; text-decoration-color: #008080\">     39</span> │ <span style=\"color: #008080; text-decoration-color: #008080\">     57</span> │ <span style=\"color: #008080; text-decoration-color: #008080\">     68</span> │ <span style=\"color: #008080; text-decoration-color: #008080\">     80</span> │ <span style=\"color: #008000; text-decoration-color: #008000\">▃▅▅▅▇▇</span> │  │\n",
       "│ │ <span style=\"color: #af87ff; text-decoration-color: #af87ff\">DMDHHSIZ     </span> │ <span style=\"color: #008080; text-decoration-color: #008080\">  0</span> │ <span style=\"color: #008080; text-decoration-color: #008080\">    0</span> │ <span style=\"color: #008080; text-decoration-color: #008080\">     2.6</span> │ <span style=\"color: #008080; text-decoration-color: #008080\">  1.5</span> │ <span style=\"color: #008080; text-decoration-color: #008080\">       1</span> │ <span style=\"color: #008080; text-decoration-color: #008080\">      2</span> │ <span style=\"color: #008080; text-decoration-color: #008080\">      2</span> │ <span style=\"color: #008080; text-decoration-color: #008080\">      3</span> │ <span style=\"color: #008080; text-decoration-color: #008080\">      7</span> │ <span style=\"color: #008000; text-decoration-color: #008000\">▅▇▃▃▁▁</span> │  │\n",
       "│ │ <span style=\"color: #af87ff; text-decoration-color: #af87ff\">ALQ130       </span> │ <span style=\"color: #008080; text-decoration-color: #008080\">  0</span> │ <span style=\"color: #008080; text-decoration-color: #008080\">    0</span> │ <span style=\"color: #008080; text-decoration-color: #008080\">     2.2</span> │ <span style=\"color: #008080; text-decoration-color: #008080\">  1.9</span> │ <span style=\"color: #008080; text-decoration-color: #008080\">       0</span> │ <span style=\"color: #008080; text-decoration-color: #008080\">      1</span> │ <span style=\"color: #008080; text-decoration-color: #008080\">      2</span> │ <span style=\"color: #008080; text-decoration-color: #008080\">      2</span> │ <span style=\"color: #008080; text-decoration-color: #008080\">     15</span> │ <span style=\"color: #008000; text-decoration-color: #008000\"> ▇▁▁  </span> │  │\n",
       "│ │ <span style=\"color: #af87ff; text-decoration-color: #af87ff\">PAD680       </span> │ <span style=\"color: #008080; text-decoration-color: #008080\">  0</span> │ <span style=\"color: #008080; text-decoration-color: #008080\">    0</span> │ <span style=\"color: #008080; text-decoration-color: #008080\">     360</span> │ <span style=\"color: #008080; text-decoration-color: #008080\">  210</span> │ <span style=\"color: #008080; text-decoration-color: #008080\"> 5.4e-79</span> │ <span style=\"color: #008080; text-decoration-color: #008080\">    180</span> │ <span style=\"color: #008080; text-decoration-color: #008080\">    300</span> │ <span style=\"color: #008080; text-decoration-color: #008080\">    480</span> │ <span style=\"color: #008080; text-decoration-color: #008080\">   1400</span> │ <span style=\"color: #008000; text-decoration-color: #008000\"> ▅▇▅▂ </span> │  │\n",
       "│ │ <span style=\"color: #af87ff; text-decoration-color: #af87ff\">RXQ050       </span> │ <span style=\"color: #008080; text-decoration-color: #008080\">  0</span> │ <span style=\"color: #008080; text-decoration-color: #008080\">    0</span> │ <span style=\"color: #008080; text-decoration-color: #008080\">     2.3</span> │ <span style=\"color: #008080; text-decoration-color: #008080\">    2</span> │ <span style=\"color: #008080; text-decoration-color: #008080\">       0</span> │ <span style=\"color: #008080; text-decoration-color: #008080\">      0</span> │ <span style=\"color: #008080; text-decoration-color: #008080\">      2</span> │ <span style=\"color: #008080; text-decoration-color: #008080\">      4</span> │ <span style=\"color: #008080; text-decoration-color: #008080\">      5</span> │ <span style=\"color: #008000; text-decoration-color: #008000\">▇▃▃▃▂▆</span> │  │\n",
       "│ │ <span style=\"color: #af87ff; text-decoration-color: #af87ff\">SLD012       </span> │ <span style=\"color: #008080; text-decoration-color: #008080\">  0</span> │ <span style=\"color: #008080; text-decoration-color: #008080\">    0</span> │ <span style=\"color: #008080; text-decoration-color: #008080\">     7.7</span> │ <span style=\"color: #008080; text-decoration-color: #008080\">  1.6</span> │ <span style=\"color: #008080; text-decoration-color: #008080\">       2</span> │ <span style=\"color: #008080; text-decoration-color: #008080\">      7</span> │ <span style=\"color: #008080; text-decoration-color: #008080\">      8</span> │ <span style=\"color: #008080; text-decoration-color: #008080\">    8.5</span> │ <span style=\"color: #008080; text-decoration-color: #008080\">     14</span> │ <span style=\"color: #008000; text-decoration-color: #008000\"> ▁▇▇▁ </span> │  │\n",
       "│ │ <span style=\"color: #af87ff; text-decoration-color: #af87ff\">SLD013       </span> │ <span style=\"color: #008080; text-decoration-color: #008080\">  0</span> │ <span style=\"color: #008080; text-decoration-color: #008080\">    0</span> │ <span style=\"color: #008080; text-decoration-color: #008080\">     8.3</span> │ <span style=\"color: #008080; text-decoration-color: #008080\">  1.7</span> │ <span style=\"color: #008080; text-decoration-color: #008080\">       2</span> │ <span style=\"color: #008080; text-decoration-color: #008080\">    7.5</span> │ <span style=\"color: #008080; text-decoration-color: #008080\">      8</span> │ <span style=\"color: #008080; text-decoration-color: #008080\">      9</span> │ <span style=\"color: #008080; text-decoration-color: #008080\">     14</span> │ <span style=\"color: #008000; text-decoration-color: #008000\"> ▁▃▇▂ </span> │  │\n",
       "│ └───────────────┴─────┴───────┴──────────┴───────┴──────────┴─────────┴─────────┴─────────┴─────────┴────────┘  │\n",
       "│ <span style=\"font-style: italic\">                                                   category                                                   </span>  │\n",
       "│ ┏━━━━━━━━━━━━━━━━━━━━━━━━━━━━━━━━━━┳━━━━━━━━━━━┳━━━━━━━━━━━━━━━━┳━━━━━━━━━━━━━━━━━━━━━━━┳━━━━━━━━━━━━━━━━━━━━┓  │\n",
       "│ ┃<span style=\"font-weight: bold\"> column_name                      </span>┃<span style=\"font-weight: bold\"> NA        </span>┃<span style=\"font-weight: bold\"> NA %           </span>┃<span style=\"font-weight: bold\"> ordered               </span>┃<span style=\"font-weight: bold\"> unique             </span>┃  │\n",
       "│ ┡━━━━━━━━━━━━━━━━━━━━━━━━━━━━━━━━━━╇━━━━━━━━━━━╇━━━━━━━━━━━━━━━━╇━━━━━━━━━━━━━━━━━━━━━━━╇━━━━━━━━━━━━━━━━━━━━┩  │\n",
       "│ │ <span style=\"color: #af87ff; text-decoration-color: #af87ff\">DMDEDUC2                        </span> │ <span style=\"color: #008080; text-decoration-color: #008080\">        0</span> │ <span style=\"color: #008080; text-decoration-color: #008080\">             0</span> │ <span style=\"color: #00d7ff; text-decoration-color: #00d7ff\">True                 </span> │ <span style=\"color: #008080; text-decoration-color: #008080\">                 5</span> │  │\n",
       "│ │ <span style=\"color: #af87ff; text-decoration-color: #af87ff\">DMDMARTZ                        </span> │ <span style=\"color: #008080; text-decoration-color: #008080\">        0</span> │ <span style=\"color: #008080; text-decoration-color: #008080\">             0</span> │ <span style=\"color: #00d7ff; text-decoration-color: #00d7ff\">False                </span> │ <span style=\"color: #008080; text-decoration-color: #008080\">                 3</span> │  │\n",
       "│ │ <span style=\"color: #af87ff; text-decoration-color: #af87ff\">ALQ142                          </span> │ <span style=\"color: #008080; text-decoration-color: #008080\">        0</span> │ <span style=\"color: #008080; text-decoration-color: #008080\">             0</span> │ <span style=\"color: #00d7ff; text-decoration-color: #00d7ff\">True                 </span> │ <span style=\"color: #008080; text-decoration-color: #008080\">                 4</span> │  │\n",
       "│ │ <span style=\"color: #af87ff; text-decoration-color: #af87ff\">HUQ010                          </span> │ <span style=\"color: #008080; text-decoration-color: #008080\">        0</span> │ <span style=\"color: #008080; text-decoration-color: #008080\">             0</span> │ <span style=\"color: #00d7ff; text-decoration-color: #00d7ff\">True                 </span> │ <span style=\"color: #008080; text-decoration-color: #008080\">                 5</span> │  │\n",
       "│ └──────────────────────────────────┴───────────┴────────────────┴───────────────────────┴────────────────────┘  │\n",
       "│ <span style=\"font-style: italic\">                                                     bool                                                     </span>  │\n",
       "│ ┏━━━━━━━━━━━━━━━━━━━━━━━━━━━━━━━━━━━━━━━━━━━┳━━━━━━━━━━━━━━━┳━━━━━━━━━━━━━━━━━━━━━━━━━━━━┳━━━━━━━━━━━━━━━━━━━┓  │\n",
       "│ ┃<span style=\"font-weight: bold\"> column_name                               </span>┃<span style=\"font-weight: bold\"> true          </span>┃<span style=\"font-weight: bold\"> true rate                  </span>┃<span style=\"font-weight: bold\"> hist              </span>┃  │\n",
       "│ ┡━━━━━━━━━━━━━━━━━━━━━━━━━━━━━━━━━━━━━━━━━━━╇━━━━━━━━━━━━━━━╇━━━━━━━━━━━━━━━━━━━━━━━━━━━━╇━━━━━━━━━━━━━━━━━━━┩  │\n",
       "│ │ <span style=\"color: #af87ff; text-decoration-color: #af87ff\">RIAGENDR_Female                          </span> │ <span style=\"color: #008080; text-decoration-color: #008080\">         3228</span> │ <span style=\"color: #008080; text-decoration-color: #008080\">                      0.55</span> │ <span style=\"color: #008000; text-decoration-color: #008000\">     ▆    ▇      </span> │  │\n",
       "│ │ <span style=\"color: #af87ff; text-decoration-color: #af87ff\">RIAGENDR_Male                            </span> │ <span style=\"color: #008080; text-decoration-color: #008080\">         2594</span> │ <span style=\"color: #008080; text-decoration-color: #008080\">                      0.45</span> │ <span style=\"color: #008000; text-decoration-color: #008000\">     ▇    ▆      </span> │  │\n",
       "│ │ <span style=\"color: #af87ff; text-decoration-color: #af87ff\">DEPRE                                    </span> │ <span style=\"color: #008080; text-decoration-color: #008080\">          729</span> │ <span style=\"color: #008080; text-decoration-color: #008080\">                      0.13</span> │ <span style=\"color: #008000; text-decoration-color: #008000\">     ▇    ▁      </span> │  │\n",
       "│ │ <span style=\"color: #af87ff; text-decoration-color: #af87ff\">FNDADI                                   </span> │ <span style=\"color: #008080; text-decoration-color: #008080\">         1088</span> │ <span style=\"color: #008080; text-decoration-color: #008080\">                      0.19</span> │ <span style=\"color: #008000; text-decoration-color: #008000\">     ▇    ▂      </span> │  │\n",
       "│ │ <span style=\"color: #af87ff; text-decoration-color: #af87ff\">MCQ010                                   </span> │ <span style=\"color: #008080; text-decoration-color: #008080\">         1057</span> │ <span style=\"color: #008080; text-decoration-color: #008080\">                      0.18</span> │ <span style=\"color: #008000; text-decoration-color: #008000\">     ▇    ▂      </span> │  │\n",
       "│ │ <span style=\"color: #af87ff; text-decoration-color: #af87ff\">MCQ053                                   </span> │ <span style=\"color: #008080; text-decoration-color: #008080\">          295</span> │ <span style=\"color: #008080; text-decoration-color: #008080\">                     0.051</span> │ <span style=\"color: #008000; text-decoration-color: #008000\">        ▇        </span> │  │\n",
       "│ │ <span style=\"color: #af87ff; text-decoration-color: #af87ff\">MCQ160A                                  </span> │ <span style=\"color: #008080; text-decoration-color: #008080\">         1944</span> │ <span style=\"color: #008080; text-decoration-color: #008080\">                      0.33</span> │ <span style=\"color: #008000; text-decoration-color: #008000\">     ▇    ▅      </span> │  │\n",
       "│ │ <span style=\"color: #af87ff; text-decoration-color: #af87ff\">MCQ160B                                  </span> │ <span style=\"color: #008080; text-decoration-color: #008080\">          233</span> │ <span style=\"color: #008080; text-decoration-color: #008080\">                      0.04</span> │ <span style=\"color: #008000; text-decoration-color: #008000\">        ▇        </span> │  │\n",
       "│ │ <span style=\"color: #af87ff; text-decoration-color: #af87ff\">MCQ160C                                  </span> │ <span style=\"color: #008080; text-decoration-color: #008080\">          304</span> │ <span style=\"color: #008080; text-decoration-color: #008080\">                     0.052</span> │ <span style=\"color: #008000; text-decoration-color: #008000\">        ▇        </span> │  │\n",
       "│ │ <span style=\"color: #af87ff; text-decoration-color: #af87ff\">MCQ160F                                  </span> │ <span style=\"color: #008080; text-decoration-color: #008080\">          264</span> │ <span style=\"color: #008080; text-decoration-color: #008080\">                     0.045</span> │ <span style=\"color: #008000; text-decoration-color: #008000\">        ▇        </span> │  │\n",
       "│ │ <span style=\"color: #af87ff; text-decoration-color: #af87ff\">MCQ160P                                  </span> │ <span style=\"color: #008080; text-decoration-color: #008080\">          410</span> │ <span style=\"color: #008080; text-decoration-color: #008080\">                      0.07</span> │ <span style=\"color: #008000; text-decoration-color: #008000\">     ▇    ▁      </span> │  │\n",
       "│ │ <span style=\"color: #af87ff; text-decoration-color: #af87ff\">MCQ220                                   </span> │ <span style=\"color: #008080; text-decoration-color: #008080\">          876</span> │ <span style=\"color: #008080; text-decoration-color: #008080\">                      0.15</span> │ <span style=\"color: #008000; text-decoration-color: #008000\">     ▇    ▁      </span> │  │\n",
       "│ └───────────────────────────────────────────┴───────────────┴────────────────────────────┴───────────────────┘  │\n",
       "╰────────────────────────────────────────────────────── End ──────────────────────────────────────────────────────╯\n",
       "</pre>\n"
      ],
      "text/plain": [
       "╭──────────────────────────────────────────────── skimpy summary ─────────────────────────────────────────────────╮\n",
       "│ \u001b[3m         Data Summary         \u001b[0m \u001b[3m      Data Types       \u001b[0m \u001b[3m       Categories        \u001b[0m                                │\n",
       "│ ┏━━━━━━━━━━━━━━━━━━━┳━━━━━━━━┓ ┏━━━━━━━━━━━━━┳━━━━━━━┓ ┏━━━━━━━━━━━━━━━━━━━━━━━┓                                │\n",
       "│ ┃\u001b[1;36m \u001b[0m\u001b[1;36mdataframe        \u001b[0m\u001b[1;36m \u001b[0m┃\u001b[1;36m \u001b[0m\u001b[1;36mValues\u001b[0m\u001b[1;36m \u001b[0m┃ ┃\u001b[1;36m \u001b[0m\u001b[1;36mColumn Type\u001b[0m\u001b[1;36m \u001b[0m┃\u001b[1;36m \u001b[0m\u001b[1;36mCount\u001b[0m\u001b[1;36m \u001b[0m┃ ┃\u001b[1;36m \u001b[0m\u001b[1;36mCategorical Variables\u001b[0m\u001b[1;36m \u001b[0m┃                                │\n",
       "│ ┡━━━━━━━━━━━━━━━━━━━╇━━━━━━━━┩ ┡━━━━━━━━━━━━━╇━━━━━━━┩ ┡━━━━━━━━━━━━━━━━━━━━━━━┩                                │\n",
       "│ │ Number of rows    │ 5822   │ │ bool        │ 12    │ │ DMDEDUC2              │                                │\n",
       "│ │ Number of columns │ 24     │ │ float64     │ 8     │ │ DMDMARTZ              │                                │\n",
       "│ └───────────────────┴────────┘ │ category    │ 4     │ │ ALQ142                │                                │\n",
       "│                                └─────────────┴───────┘ │ HUQ010                │                                │\n",
       "│                                                        └───────────────────────┘                                │\n",
       "│ \u001b[3m                                                    number                                                    \u001b[0m  │\n",
       "│ ┏━━━━━━━━━━━━━━━┳━━━━━┳━━━━━━━┳━━━━━━━━━━┳━━━━━━━┳━━━━━━━━━━┳━━━━━━━━━┳━━━━━━━━━┳━━━━━━━━━┳━━━━━━━━━┳━━━━━━━━┓  │\n",
       "│ ┃\u001b[1m \u001b[0m\u001b[1mcolumn_name  \u001b[0m\u001b[1m \u001b[0m┃\u001b[1m \u001b[0m\u001b[1mNA \u001b[0m\u001b[1m \u001b[0m┃\u001b[1m \u001b[0m\u001b[1mNA % \u001b[0m\u001b[1m \u001b[0m┃\u001b[1m \u001b[0m\u001b[1mmean    \u001b[0m\u001b[1m \u001b[0m┃\u001b[1m \u001b[0m\u001b[1msd   \u001b[0m\u001b[1m \u001b[0m┃\u001b[1m \u001b[0m\u001b[1mp0      \u001b[0m\u001b[1m \u001b[0m┃\u001b[1m \u001b[0m\u001b[1mp25    \u001b[0m\u001b[1m \u001b[0m┃\u001b[1m \u001b[0m\u001b[1mp50    \u001b[0m\u001b[1m \u001b[0m┃\u001b[1m \u001b[0m\u001b[1mp75    \u001b[0m\u001b[1m \u001b[0m┃\u001b[1m \u001b[0m\u001b[1mp100   \u001b[0m\u001b[1m \u001b[0m┃\u001b[1m \u001b[0m\u001b[1mhist  \u001b[0m\u001b[1m \u001b[0m┃  │\n",
       "│ ┡━━━━━━━━━━━━━━━╇━━━━━╇━━━━━━━╇━━━━━━━━━━╇━━━━━━━╇━━━━━━━━━━╇━━━━━━━━━╇━━━━━━━━━╇━━━━━━━━━╇━━━━━━━━━╇━━━━━━━━┩  │\n",
       "│ │ \u001b[38;5;141mSEQN         \u001b[0m │ \u001b[36m  0\u001b[0m │ \u001b[36m    0\u001b[0m │ \u001b[36m  140000\u001b[0m │ \u001b[36m 3400\u001b[0m │ \u001b[36m  130000\u001b[0m │ \u001b[36m 130000\u001b[0m │ \u001b[36m 140000\u001b[0m │ \u001b[36m 140000\u001b[0m │ \u001b[36m 140000\u001b[0m │ \u001b[32m▇▇▇▇▇▇\u001b[0m │  │\n",
       "│ │ \u001b[38;5;141mRIDAGEYR     \u001b[0m │ \u001b[36m  0\u001b[0m │ \u001b[36m    0\u001b[0m │ \u001b[36m      54\u001b[0m │ \u001b[36m   17\u001b[0m │ \u001b[36m      20\u001b[0m │ \u001b[36m     39\u001b[0m │ \u001b[36m     57\u001b[0m │ \u001b[36m     68\u001b[0m │ \u001b[36m     80\u001b[0m │ \u001b[32m▃▅▅▅▇▇\u001b[0m │  │\n",
       "│ │ \u001b[38;5;141mDMDHHSIZ     \u001b[0m │ \u001b[36m  0\u001b[0m │ \u001b[36m    0\u001b[0m │ \u001b[36m     2.6\u001b[0m │ \u001b[36m  1.5\u001b[0m │ \u001b[36m       1\u001b[0m │ \u001b[36m      2\u001b[0m │ \u001b[36m      2\u001b[0m │ \u001b[36m      3\u001b[0m │ \u001b[36m      7\u001b[0m │ \u001b[32m▅▇▃▃▁▁\u001b[0m │  │\n",
       "│ │ \u001b[38;5;141mALQ130       \u001b[0m │ \u001b[36m  0\u001b[0m │ \u001b[36m    0\u001b[0m │ \u001b[36m     2.2\u001b[0m │ \u001b[36m  1.9\u001b[0m │ \u001b[36m       0\u001b[0m │ \u001b[36m      1\u001b[0m │ \u001b[36m      2\u001b[0m │ \u001b[36m      2\u001b[0m │ \u001b[36m     15\u001b[0m │ \u001b[32m ▇▁▁  \u001b[0m │  │\n",
       "│ │ \u001b[38;5;141mPAD680       \u001b[0m │ \u001b[36m  0\u001b[0m │ \u001b[36m    0\u001b[0m │ \u001b[36m     360\u001b[0m │ \u001b[36m  210\u001b[0m │ \u001b[36m 5.4e-79\u001b[0m │ \u001b[36m    180\u001b[0m │ \u001b[36m    300\u001b[0m │ \u001b[36m    480\u001b[0m │ \u001b[36m   1400\u001b[0m │ \u001b[32m ▅▇▅▂ \u001b[0m │  │\n",
       "│ │ \u001b[38;5;141mRXQ050       \u001b[0m │ \u001b[36m  0\u001b[0m │ \u001b[36m    0\u001b[0m │ \u001b[36m     2.3\u001b[0m │ \u001b[36m    2\u001b[0m │ \u001b[36m       0\u001b[0m │ \u001b[36m      0\u001b[0m │ \u001b[36m      2\u001b[0m │ \u001b[36m      4\u001b[0m │ \u001b[36m      5\u001b[0m │ \u001b[32m▇▃▃▃▂▆\u001b[0m │  │\n",
       "│ │ \u001b[38;5;141mSLD012       \u001b[0m │ \u001b[36m  0\u001b[0m │ \u001b[36m    0\u001b[0m │ \u001b[36m     7.7\u001b[0m │ \u001b[36m  1.6\u001b[0m │ \u001b[36m       2\u001b[0m │ \u001b[36m      7\u001b[0m │ \u001b[36m      8\u001b[0m │ \u001b[36m    8.5\u001b[0m │ \u001b[36m     14\u001b[0m │ \u001b[32m ▁▇▇▁ \u001b[0m │  │\n",
       "│ │ \u001b[38;5;141mSLD013       \u001b[0m │ \u001b[36m  0\u001b[0m │ \u001b[36m    0\u001b[0m │ \u001b[36m     8.3\u001b[0m │ \u001b[36m  1.7\u001b[0m │ \u001b[36m       2\u001b[0m │ \u001b[36m    7.5\u001b[0m │ \u001b[36m      8\u001b[0m │ \u001b[36m      9\u001b[0m │ \u001b[36m     14\u001b[0m │ \u001b[32m ▁▃▇▂ \u001b[0m │  │\n",
       "│ └───────────────┴─────┴───────┴──────────┴───────┴──────────┴─────────┴─────────┴─────────┴─────────┴────────┘  │\n",
       "│ \u001b[3m                                                   category                                                   \u001b[0m  │\n",
       "│ ┏━━━━━━━━━━━━━━━━━━━━━━━━━━━━━━━━━━┳━━━━━━━━━━━┳━━━━━━━━━━━━━━━━┳━━━━━━━━━━━━━━━━━━━━━━━┳━━━━━━━━━━━━━━━━━━━━┓  │\n",
       "│ ┃\u001b[1m \u001b[0m\u001b[1mcolumn_name                     \u001b[0m\u001b[1m \u001b[0m┃\u001b[1m \u001b[0m\u001b[1mNA       \u001b[0m\u001b[1m \u001b[0m┃\u001b[1m \u001b[0m\u001b[1mNA %          \u001b[0m\u001b[1m \u001b[0m┃\u001b[1m \u001b[0m\u001b[1mordered              \u001b[0m\u001b[1m \u001b[0m┃\u001b[1m \u001b[0m\u001b[1munique            \u001b[0m\u001b[1m \u001b[0m┃  │\n",
       "│ ┡━━━━━━━━━━━━━━━━━━━━━━━━━━━━━━━━━━╇━━━━━━━━━━━╇━━━━━━━━━━━━━━━━╇━━━━━━━━━━━━━━━━━━━━━━━╇━━━━━━━━━━━━━━━━━━━━┩  │\n",
       "│ │ \u001b[38;5;141mDMDEDUC2                        \u001b[0m │ \u001b[36m        0\u001b[0m │ \u001b[36m             0\u001b[0m │ \u001b[38;5;45mTrue                 \u001b[0m │ \u001b[36m                 5\u001b[0m │  │\n",
       "│ │ \u001b[38;5;141mDMDMARTZ                        \u001b[0m │ \u001b[36m        0\u001b[0m │ \u001b[36m             0\u001b[0m │ \u001b[38;5;45mFalse                \u001b[0m │ \u001b[36m                 3\u001b[0m │  │\n",
       "│ │ \u001b[38;5;141mALQ142                          \u001b[0m │ \u001b[36m        0\u001b[0m │ \u001b[36m             0\u001b[0m │ \u001b[38;5;45mTrue                 \u001b[0m │ \u001b[36m                 4\u001b[0m │  │\n",
       "│ │ \u001b[38;5;141mHUQ010                          \u001b[0m │ \u001b[36m        0\u001b[0m │ \u001b[36m             0\u001b[0m │ \u001b[38;5;45mTrue                 \u001b[0m │ \u001b[36m                 5\u001b[0m │  │\n",
       "│ └──────────────────────────────────┴───────────┴────────────────┴───────────────────────┴────────────────────┘  │\n",
       "│ \u001b[3m                                                     bool                                                     \u001b[0m  │\n",
       "│ ┏━━━━━━━━━━━━━━━━━━━━━━━━━━━━━━━━━━━━━━━━━━━┳━━━━━━━━━━━━━━━┳━━━━━━━━━━━━━━━━━━━━━━━━━━━━┳━━━━━━━━━━━━━━━━━━━┓  │\n",
       "│ ┃\u001b[1m \u001b[0m\u001b[1mcolumn_name                              \u001b[0m\u001b[1m \u001b[0m┃\u001b[1m \u001b[0m\u001b[1mtrue         \u001b[0m\u001b[1m \u001b[0m┃\u001b[1m \u001b[0m\u001b[1mtrue rate                 \u001b[0m\u001b[1m \u001b[0m┃\u001b[1m \u001b[0m\u001b[1mhist             \u001b[0m\u001b[1m \u001b[0m┃  │\n",
       "│ ┡━━━━━━━━━━━━━━━━━━━━━━━━━━━━━━━━━━━━━━━━━━━╇━━━━━━━━━━━━━━━╇━━━━━━━━━━━━━━━━━━━━━━━━━━━━╇━━━━━━━━━━━━━━━━━━━┩  │\n",
       "│ │ \u001b[38;5;141mRIAGENDR_Female                          \u001b[0m │ \u001b[36m         3228\u001b[0m │ \u001b[36m                      0.55\u001b[0m │ \u001b[32m     ▆    ▇      \u001b[0m │  │\n",
       "│ │ \u001b[38;5;141mRIAGENDR_Male                            \u001b[0m │ \u001b[36m         2594\u001b[0m │ \u001b[36m                      0.45\u001b[0m │ \u001b[32m     ▇    ▆      \u001b[0m │  │\n",
       "│ │ \u001b[38;5;141mDEPRE                                    \u001b[0m │ \u001b[36m          729\u001b[0m │ \u001b[36m                      0.13\u001b[0m │ \u001b[32m     ▇    ▁      \u001b[0m │  │\n",
       "│ │ \u001b[38;5;141mFNDADI                                   \u001b[0m │ \u001b[36m         1088\u001b[0m │ \u001b[36m                      0.19\u001b[0m │ \u001b[32m     ▇    ▂      \u001b[0m │  │\n",
       "│ │ \u001b[38;5;141mMCQ010                                   \u001b[0m │ \u001b[36m         1057\u001b[0m │ \u001b[36m                      0.18\u001b[0m │ \u001b[32m     ▇    ▂      \u001b[0m │  │\n",
       "│ │ \u001b[38;5;141mMCQ053                                   \u001b[0m │ \u001b[36m          295\u001b[0m │ \u001b[36m                     0.051\u001b[0m │ \u001b[32m        ▇        \u001b[0m │  │\n",
       "│ │ \u001b[38;5;141mMCQ160A                                  \u001b[0m │ \u001b[36m         1944\u001b[0m │ \u001b[36m                      0.33\u001b[0m │ \u001b[32m     ▇    ▅      \u001b[0m │  │\n",
       "│ │ \u001b[38;5;141mMCQ160B                                  \u001b[0m │ \u001b[36m          233\u001b[0m │ \u001b[36m                      0.04\u001b[0m │ \u001b[32m        ▇        \u001b[0m │  │\n",
       "│ │ \u001b[38;5;141mMCQ160C                                  \u001b[0m │ \u001b[36m          304\u001b[0m │ \u001b[36m                     0.052\u001b[0m │ \u001b[32m        ▇        \u001b[0m │  │\n",
       "│ │ \u001b[38;5;141mMCQ160F                                  \u001b[0m │ \u001b[36m          264\u001b[0m │ \u001b[36m                     0.045\u001b[0m │ \u001b[32m        ▇        \u001b[0m │  │\n",
       "│ │ \u001b[38;5;141mMCQ160P                                  \u001b[0m │ \u001b[36m          410\u001b[0m │ \u001b[36m                      0.07\u001b[0m │ \u001b[32m     ▇    ▁      \u001b[0m │  │\n",
       "│ │ \u001b[38;5;141mMCQ220                                   \u001b[0m │ \u001b[36m          876\u001b[0m │ \u001b[36m                      0.15\u001b[0m │ \u001b[32m     ▇    ▁      \u001b[0m │  │\n",
       "│ └───────────────────────────────────────────┴───────────────┴────────────────────────────┴───────────────────┘  │\n",
       "╰────────────────────────────────────────────────────── End ──────────────────────────────────────────────────────╯\n"
      ]
     },
     "metadata": {},
     "output_type": "display_data"
    }
   ],
   "source": [
    "skim(df_final)"
   ]
  },
  {
   "cell_type": "markdown",
   "metadata": {},
   "source": [
    "### Univariate Analysis"
   ]
  },
  {
   "cell_type": "code",
   "execution_count": 171,
   "metadata": {},
   "outputs": [
    {
     "name": "stdout",
     "output_type": "stream",
     "text": [
      "Chi-Square Test Results:\n",
      "            Feature  Chi2 Score  p-value\n",
      "6            FNDADI     268.155    0.000\n",
      "3            HUQ010     181.764    0.000\n",
      "1          DMDMARTZ     101.062    0.000\n",
      "13          MCQ160P      54.917    0.000\n",
      "7            MCQ010      41.897    0.000\n",
      "9           MCQ160A      16.117    0.000\n",
      "8            MCQ053      10.096    0.002\n",
      "0          DMDEDUC2       9.669    0.002\n",
      "5     RIAGENDR_Male       9.085    0.003\n",
      "10          MCQ160B       8.611    0.003\n",
      "12          MCQ160F       7.722    0.005\n",
      "4   RIAGENDR_Female       7.301    0.007\n",
      "14           MCQ220       3.640    0.056\n",
      "2            ALQ142       1.701    0.192\n",
      "11          MCQ160C       0.026    0.871\n"
     ]
    }
   ],
   "source": [
    "from sklearn.feature_selection import chi2\n",
    "from sklearn.preprocessing import LabelEncoder\n",
    "\n",
    "# Define target variable\n",
    "target = 'DEPRE'\n",
    "X = df_final.drop(columns=[target]).copy()  # Copy to avoid modifying original df\n",
    "y = df_final[target]\n",
    "\n",
    "# Identify categorical and boolean features\n",
    "cat_cols = X.select_dtypes(include=['object', 'category']).columns.tolist()\n",
    "bool_cols = X.select_dtypes(include=['bool']).columns.tolist()\n",
    "\n",
    "# Convert boolean columns to integers (0/1)\n",
    "X[bool_cols] = X[bool_cols].astype(int)\n",
    "\n",
    "# Convert categorical columns using Label Encoding\n",
    "X[cat_cols] = X[cat_cols].apply(LabelEncoder().fit_transform)\n",
    "\n",
    "# Apply Chi-Square test (only categorical & boolean features)\n",
    "chi2_scores, p_values = chi2(X[cat_cols + bool_cols], y)\n",
    "\n",
    "# Store results in a DataFrame with higher precision\n",
    "chi2_results = pd.DataFrame({\n",
    "    'Feature': cat_cols + bool_cols,\n",
    "    'Chi2 Score': np.round(chi2_scores,4),\n",
    "    'p-value': np.round(p_values, 4)  # Increase decimal precision\n",
    "})\n",
    "\n",
    "# Sort results by Chi2 Score\n",
    "chi2_results = chi2_results.sort_values(by='Chi2 Score', ascending=False)\n",
    "\n",
    "# Print results with better formatting\n",
    "pd.set_option('display.float_format', '{:.3f}'.format)  # Ensure better number display\n",
    "print(\"Chi-Square Test Results:\")\n",
    "print(chi2_results)"
   ]
  },
  {
   "cell_type": "markdown",
   "metadata": {},
   "source": [
    "#### Correlation Analysis"
   ]
  },
  {
   "cell_type": "code",
   "execution_count": 172,
   "metadata": {},
   "outputs": [
    {
     "data": {
      "image/png": "[encoded data removed]",
      "text/plain": [
       "<Figure size 1200x800 with 2 Axes>"
      ]
     },
     "metadata": {},
     "output_type": "display_data"
    },
    {
     "name": "stdout",
     "output_type": "stream",
     "text": [
      "Highly Correlated Features (corr > 0.5):\n",
      "RIAGENDR_Male    RIAGENDR_Female   1.000\n",
      "RIAGENDR_Female  RIAGENDR_Male     1.000\n",
      "SLD012           SLD013            0.640\n",
      "SLD013           SLD012            0.640\n",
      "ALQ142           ALQ130            0.521\n",
      "ALQ130           ALQ142            0.521\n",
      "dtype: float64\n"
     ]
    }
   ],
   "source": [
    "import seaborn as sns\n",
    "import matplotlib.pyplot as plt\n",
    "\n",
    "# Compute correlation matrix\n",
    "corr_matrix = df_final.corr()\n",
    "\n",
    "# Plot heatmap\n",
    "plt.figure(figsize=(12, 8))\n",
    "sns.heatmap(corr_matrix, annot=True, fmt=\".2f\", cmap=\"coolwarm\", linewidths=0.5)\n",
    "plt.title(\"Feature Correlation Matrix\")\n",
    "plt.show()\n",
    "\n",
    "# Find highly correlated features\n",
    "threshold = 0.5\n",
    "corr_pairs = corr_matrix.abs().unstack().sort_values(ascending=False)\n",
    "high_corr_pairs = corr_pairs[(corr_pairs > threshold) & (corr_pairs < 1.0)]\n",
    "\n",
    "print(\"Highly Correlated Features (corr > 0.5):\")\n",
    "print(high_corr_pairs)"
   ]
  },
  {
   "cell_type": "markdown",
   "metadata": {},
   "source": [
    "### Preparing Data for Machine Learning"
   ]
  },
  {
   "cell_type": "markdown",
   "metadata": {},
   "source": [
    "#### Features and Target Variable\n",
    "\n",
    "Target Variable: DEPRE - Depression Status (True/False)\n",
    "\n",
    "Feature Variables:\n",
    "1. RIDAGEYR: Age in years\n",
    "2. RIAGENDR: biological sex (male/female)\n",
    "3. DMDMARTZ: marital status\n",
    "4. DMDHHSIZ: People living in the same house\n",
    "5. DMDEDUC2: Educational level\n",
    "6. HUQ010: Self reported health status (Excelent, Very Good, Good, Fair, Poor)\n",
    "7. FNDADI: with/without disabilities\n",
    "8. ALQ130: alcohol doses in a usual drinking day\n",
    "9. ALQ142: how often drink 4/5 alcohol doses in the last year\n",
    "10. PAD680: minutes/day of spend sitting (desconsidering sleep time) (sedentarism)\n",
    "11. RXQ050: prescribed medications/day\n",
    "12. SLD012: sleeping hours on weekdays\n",
    "13. SLD013: sleeping hours on weekends\n",
    "- Clinical conditions - self reported (True/False):\n",
    "    14. MCQ010: Asthma\n",
    "    15. MCQ053: Anemia treatment in the last 3 months\n",
    "    16. MCQ160A: Arthritis\n",
    "    17. MCQ160B: Congestive heart failure\n",
    "    18. MCQ160C: Coronary heart disease\n",
    "    19. MCQ160F: Stroke\n",
    "    20. MCQ160P: COPD/Emphisema (Chronic Lung Disease)\n",
    "    21. MCQ220: Cancer"
   ]
  },
  {
   "cell_type": "code",
   "execution_count": 185,
   "metadata": {},
   "outputs": [],
   "source": [
    "from sklearn.preprocessing import LabelEncoder, OneHotEncoder\n",
    "\n",
    "def transform_data(df, ordered_categoricals):\n",
    "    \"\"\"\n",
    "    Transforms a DataFrame:\n",
    "    - Boolean columns → 0/1\n",
    "    - Ordered Categorical columns → Label Encoding\n",
    "    - Unordered Categorical columns → One-Hot Encoding\n",
    "    \n",
    "    Parameters:\n",
    "    df (pd.DataFrame): The input DataFrame\n",
    "    ordered_categoricals (list): List of ordered categorical column names\n",
    "\n",
    "    Returns:\n",
    "    pd.DataFrame: Transformed DataFrame\n",
    "    \"\"\"\n",
    "    df = df.copy()  # Avoid modifying original dataframe\n",
    "\n",
    "    # Convert boolean columns to numerical (0/1)\n",
    "    for col in df.select_dtypes(include=['bool']).columns:\n",
    "        df[col] = df[col].astype(int)\n",
    "\n",
    "    # Apply Label Encoding to ordered categorical variables\n",
    "    label_encoder = LabelEncoder()\n",
    "    for col in ordered_categoricals:\n",
    "        if col in df.columns:\n",
    "            df[col] = label_encoder.fit_transform(df[col])\n",
    "\n",
    "    # Apply One-Hot Encoding to unordered categorical variables\n",
    "    unordered_categoricals = df.select_dtypes(include=['object', 'category']).columns.difference(ordered_categoricals)\n",
    "    df = pd.get_dummies(df, columns=unordered_categoricals, drop_first=True) # Avoid dummy variable trap\n",
    "    print(unordered_categoricals)\n",
    "    return df"
   ]
  },
  {
   "cell_type": "code",
   "execution_count": 186,
   "metadata": {},
   "outputs": [
    {
     "name": "stdout",
     "output_type": "stream",
     "text": [
      "Index(['DMDMARTZ'], dtype='object')\n"
     ]
    }
   ],
   "source": [
    "ordered_categories = ['DMDEDUC2', 'HUQ010', 'ALQ142']\n",
    "\n",
    "# Apply transformations\n",
    "transformed_df = transform_data(df_final, ordered_categories)"
   ]
  },
  {
   "cell_type": "code",
   "execution_count": 187,
   "metadata": {},
   "outputs": [
    {
     "data": {
      "text/plain": [
       "SEQN               float64\n",
       "RIDAGEYR           float64\n",
       "DMDEDUC2             int64\n",
       "DMDHHSIZ           float64\n",
       "RIAGENDR_Female      int32\n",
       "RIAGENDR_Male        int32\n",
       "DEPRE                int32\n",
       "ALQ130             float64\n",
       "ALQ142               int64\n",
       "FNDADI               int32\n",
       "HUQ010               int64\n",
       "MCQ010               int32\n",
       "MCQ053               int32\n",
       "MCQ160A              int32\n",
       "MCQ160B              int32\n",
       "MCQ160C              int32\n",
       "MCQ160F              int32\n",
       "MCQ160P              int32\n",
       "MCQ220               int32\n",
       "PAD680             float64\n",
       "RXQ050             float64\n",
       "SLD012             float64\n",
       "SLD013             float64\n",
       "DMDMARTZ_2.0          bool\n",
       "DMDMARTZ_3.0          bool\n",
       "dtype: object"
      ]
     },
     "execution_count": 187,
     "metadata": {},
     "output_type": "execute_result"
    }
   ],
   "source": [
    "transformed_df.dtypes"
   ]
  },
  {
   "cell_type": "code",
   "execution_count": 188,
   "metadata": {},
   "outputs": [],
   "source": [
    "# Drop SEQN as it will not be included as a feature\n",
    "transformed_df.drop('SEQN', axis=1, inplace=True)"
   ]
  },
  {
   "cell_type": "code",
   "execution_count": 189,
   "metadata": {},
   "outputs": [
    {
     "data": {
      "text/html": [
       "<pre style=\"white-space:pre;overflow-x:auto;line-height:normal;font-family:Menlo,'DejaVu Sans Mono',consolas,'Courier New',monospace\">╭──────────────────────────────────────────────── skimpy summary ─────────────────────────────────────────────────╮\n",
       "│ <span style=\"font-style: italic\">         Data Summary         </span> <span style=\"font-style: italic\">      Data Types       </span>                                                          │\n",
       "│ ┏━━━━━━━━━━━━━━━━━━━┳━━━━━━━━┓ ┏━━━━━━━━━━━━━┳━━━━━━━┓                                                          │\n",
       "│ ┃<span style=\"color: #008080; text-decoration-color: #008080; font-weight: bold\"> dataframe         </span>┃<span style=\"color: #008080; text-decoration-color: #008080; font-weight: bold\"> Values </span>┃ ┃<span style=\"color: #008080; text-decoration-color: #008080; font-weight: bold\"> Column Type </span>┃<span style=\"color: #008080; text-decoration-color: #008080; font-weight: bold\"> Count </span>┃                                                          │\n",
       "│ ┡━━━━━━━━━━━━━━━━━━━╇━━━━━━━━┩ ┡━━━━━━━━━━━━━╇━━━━━━━┩                                                          │\n",
       "│ │ Number of rows    │ 5822   │ │ int32       │ 15    │                                                          │\n",
       "│ │ Number of columns │ 24     │ │ float64     │ 7     │                                                          │\n",
       "│ └───────────────────┴────────┘ │ bool        │ 2     │                                                          │\n",
       "│                                └─────────────┴───────┘                                                          │\n",
       "│ <span style=\"font-style: italic\">                                                    number                                                    </span>  │\n",
       "│ ┏━━━━━━━━━━━━━━━━━━━━━━┳━━━━━┳━━━━━━━━┳━━━━━━━━━┳━━━━━━━━┳━━━━━━━━━━━┳━━━━━━━┳━━━━━━┳━━━━━━┳━━━━━━━┳━━━━━━━━━┓  │\n",
       "│ ┃<span style=\"font-weight: bold\"> column_name          </span>┃<span style=\"font-weight: bold\"> NA  </span>┃<span style=\"font-weight: bold\"> NA %   </span>┃<span style=\"font-weight: bold\"> mean    </span>┃<span style=\"font-weight: bold\"> sd     </span>┃<span style=\"font-weight: bold\"> p0        </span>┃<span style=\"font-weight: bold\"> p25   </span>┃<span style=\"font-weight: bold\"> p50  </span>┃<span style=\"font-weight: bold\"> p75  </span>┃<span style=\"font-weight: bold\"> p100  </span>┃<span style=\"font-weight: bold\"> hist    </span>┃  │\n",
       "│ ┡━━━━━━━━━━━━━━━━━━━━━━╇━━━━━╇━━━━━━━━╇━━━━━━━━━╇━━━━━━━━╇━━━━━━━━━━━╇━━━━━━━╇━━━━━━╇━━━━━━╇━━━━━━━╇━━━━━━━━━┩  │\n",
       "│ │ <span style=\"color: #af87ff; text-decoration-color: #af87ff\">RIDAGEYR            </span> │ <span style=\"color: #008080; text-decoration-color: #008080\">  0</span> │ <span style=\"color: #008080; text-decoration-color: #008080\">     0</span> │ <span style=\"color: #008080; text-decoration-color: #008080\">     54</span> │ <span style=\"color: #008080; text-decoration-color: #008080\">    17</span> │ <span style=\"color: #008080; text-decoration-color: #008080\">       20</span> │ <span style=\"color: #008080; text-decoration-color: #008080\">   39</span> │ <span style=\"color: #008080; text-decoration-color: #008080\">  57</span> │ <span style=\"color: #008080; text-decoration-color: #008080\">  68</span> │ <span style=\"color: #008080; text-decoration-color: #008080\">   80</span> │ <span style=\"color: #008000; text-decoration-color: #008000\">▃▅▅▅▇▇ </span> │  │\n",
       "│ │ <span style=\"color: #af87ff; text-decoration-color: #af87ff\">DMDEDUC2            </span> │ <span style=\"color: #008080; text-decoration-color: #008080\">  0</span> │ <span style=\"color: #008080; text-decoration-color: #008080\">     0</span> │ <span style=\"color: #008080; text-decoration-color: #008080\">    2.9</span> │ <span style=\"color: #008080; text-decoration-color: #008080\">   1.1</span> │ <span style=\"color: #008080; text-decoration-color: #008080\">        0</span> │ <span style=\"color: #008080; text-decoration-color: #008080\">    2</span> │ <span style=\"color: #008080; text-decoration-color: #008080\">   3</span> │ <span style=\"color: #008080; text-decoration-color: #008080\">   4</span> │ <span style=\"color: #008080; text-decoration-color: #008080\">    4</span> │ <span style=\"color: #008000; text-decoration-color: #008000\">▁▂ ▅▇▇ </span> │  │\n",
       "│ │ <span style=\"color: #af87ff; text-decoration-color: #af87ff\">DMDHHSIZ            </span> │ <span style=\"color: #008080; text-decoration-color: #008080\">  0</span> │ <span style=\"color: #008080; text-decoration-color: #008080\">     0</span> │ <span style=\"color: #008080; text-decoration-color: #008080\">    2.6</span> │ <span style=\"color: #008080; text-decoration-color: #008080\">   1.5</span> │ <span style=\"color: #008080; text-decoration-color: #008080\">        1</span> │ <span style=\"color: #008080; text-decoration-color: #008080\">    2</span> │ <span style=\"color: #008080; text-decoration-color: #008080\">   2</span> │ <span style=\"color: #008080; text-decoration-color: #008080\">   3</span> │ <span style=\"color: #008080; text-decoration-color: #008080\">    7</span> │ <span style=\"color: #008000; text-decoration-color: #008000\">▅▇▃▃▁▁ </span> │  │\n",
       "│ │ <span style=\"color: #af87ff; text-decoration-color: #af87ff\">RIAGENDR_Female     </span> │ <span style=\"color: #008080; text-decoration-color: #008080\">  0</span> │ <span style=\"color: #008080; text-decoration-color: #008080\">     0</span> │ <span style=\"color: #008080; text-decoration-color: #008080\">   0.55</span> │ <span style=\"color: #008080; text-decoration-color: #008080\">   0.5</span> │ <span style=\"color: #008080; text-decoration-color: #008080\">        0</span> │ <span style=\"color: #008080; text-decoration-color: #008080\">    0</span> │ <span style=\"color: #008080; text-decoration-color: #008080\">   1</span> │ <span style=\"color: #008080; text-decoration-color: #008080\">   1</span> │ <span style=\"color: #008080; text-decoration-color: #008080\">    1</span> │ <span style=\"color: #008000; text-decoration-color: #008000\">▆    ▇ </span> │  │\n",
       "│ │ <span style=\"color: #af87ff; text-decoration-color: #af87ff\">RIAGENDR_Male       </span> │ <span style=\"color: #008080; text-decoration-color: #008080\">  0</span> │ <span style=\"color: #008080; text-decoration-color: #008080\">     0</span> │ <span style=\"color: #008080; text-decoration-color: #008080\">   0.45</span> │ <span style=\"color: #008080; text-decoration-color: #008080\">   0.5</span> │ <span style=\"color: #008080; text-decoration-color: #008080\">        0</span> │ <span style=\"color: #008080; text-decoration-color: #008080\">    0</span> │ <span style=\"color: #008080; text-decoration-color: #008080\">   0</span> │ <span style=\"color: #008080; text-decoration-color: #008080\">   1</span> │ <span style=\"color: #008080; text-decoration-color: #008080\">    1</span> │ <span style=\"color: #008000; text-decoration-color: #008000\">▇    ▆ </span> │  │\n",
       "│ │ <span style=\"color: #af87ff; text-decoration-color: #af87ff\">DEPRE               </span> │ <span style=\"color: #008080; text-decoration-color: #008080\">  0</span> │ <span style=\"color: #008080; text-decoration-color: #008080\">     0</span> │ <span style=\"color: #008080; text-decoration-color: #008080\">   0.13</span> │ <span style=\"color: #008080; text-decoration-color: #008080\">  0.33</span> │ <span style=\"color: #008080; text-decoration-color: #008080\">        0</span> │ <span style=\"color: #008080; text-decoration-color: #008080\">    0</span> │ <span style=\"color: #008080; text-decoration-color: #008080\">   0</span> │ <span style=\"color: #008080; text-decoration-color: #008080\">   0</span> │ <span style=\"color: #008080; text-decoration-color: #008080\">    1</span> │ <span style=\"color: #008000; text-decoration-color: #008000\">▇    ▁ </span> │  │\n",
       "│ │ <span style=\"color: #af87ff; text-decoration-color: #af87ff\">ALQ130              </span> │ <span style=\"color: #008080; text-decoration-color: #008080\">  0</span> │ <span style=\"color: #008080; text-decoration-color: #008080\">     0</span> │ <span style=\"color: #008080; text-decoration-color: #008080\">    2.2</span> │ <span style=\"color: #008080; text-decoration-color: #008080\">   1.9</span> │ <span style=\"color: #008080; text-decoration-color: #008080\">        0</span> │ <span style=\"color: #008080; text-decoration-color: #008080\">    1</span> │ <span style=\"color: #008080; text-decoration-color: #008080\">   2</span> │ <span style=\"color: #008080; text-decoration-color: #008080\">   2</span> │ <span style=\"color: #008080; text-decoration-color: #008080\">   15</span> │ <span style=\"color: #008000; text-decoration-color: #008000\">  ▇▁▁  </span> │  │\n",
       "│ │ <span style=\"color: #af87ff; text-decoration-color: #af87ff\">ALQ142              </span> │ <span style=\"color: #008080; text-decoration-color: #008080\">  0</span> │ <span style=\"color: #008080; text-decoration-color: #008080\">     0</span> │ <span style=\"color: #008080; text-decoration-color: #008080\">      1</span> │ <span style=\"color: #008080; text-decoration-color: #008080\">  0.46</span> │ <span style=\"color: #008080; text-decoration-color: #008080\">        0</span> │ <span style=\"color: #008080; text-decoration-color: #008080\">    1</span> │ <span style=\"color: #008080; text-decoration-color: #008080\">   1</span> │ <span style=\"color: #008080; text-decoration-color: #008080\">   1</span> │ <span style=\"color: #008080; text-decoration-color: #008080\">    3</span> │ <span style=\"color: #008000; text-decoration-color: #008000\"> ▁ ▇ ▁ </span> │  │\n",
       "│ │ <span style=\"color: #af87ff; text-decoration-color: #af87ff\">FNDADI              </span> │ <span style=\"color: #008080; text-decoration-color: #008080\">  0</span> │ <span style=\"color: #008080; text-decoration-color: #008080\">     0</span> │ <span style=\"color: #008080; text-decoration-color: #008080\">   0.19</span> │ <span style=\"color: #008080; text-decoration-color: #008080\">  0.39</span> │ <span style=\"color: #008080; text-decoration-color: #008080\">        0</span> │ <span style=\"color: #008080; text-decoration-color: #008080\">    0</span> │ <span style=\"color: #008080; text-decoration-color: #008080\">   0</span> │ <span style=\"color: #008080; text-decoration-color: #008080\">   0</span> │ <span style=\"color: #008080; text-decoration-color: #008080\">    1</span> │ <span style=\"color: #008000; text-decoration-color: #008000\">▇    ▂ </span> │  │\n",
       "│ │ <span style=\"color: #af87ff; text-decoration-color: #af87ff\">HUQ010              </span> │ <span style=\"color: #008080; text-decoration-color: #008080\">  0</span> │ <span style=\"color: #008080; text-decoration-color: #008080\">     0</span> │ <span style=\"color: #008080; text-decoration-color: #008080\">    1.6</span> │ <span style=\"color: #008080; text-decoration-color: #008080\">     1</span> │ <span style=\"color: #008080; text-decoration-color: #008080\">        0</span> │ <span style=\"color: #008080; text-decoration-color: #008080\">    1</span> │ <span style=\"color: #008080; text-decoration-color: #008080\">   2</span> │ <span style=\"color: #008080; text-decoration-color: #008080\">   2</span> │ <span style=\"color: #008080; text-decoration-color: #008080\">    4</span> │ <span style=\"color: #008000; text-decoration-color: #008000\">▃▇ ▇▃▁ </span> │  │\n",
       "│ │ <span style=\"color: #af87ff; text-decoration-color: #af87ff\">MCQ010              </span> │ <span style=\"color: #008080; text-decoration-color: #008080\">  0</span> │ <span style=\"color: #008080; text-decoration-color: #008080\">     0</span> │ <span style=\"color: #008080; text-decoration-color: #008080\">   0.18</span> │ <span style=\"color: #008080; text-decoration-color: #008080\">  0.39</span> │ <span style=\"color: #008080; text-decoration-color: #008080\">        0</span> │ <span style=\"color: #008080; text-decoration-color: #008080\">    0</span> │ <span style=\"color: #008080; text-decoration-color: #008080\">   0</span> │ <span style=\"color: #008080; text-decoration-color: #008080\">   0</span> │ <span style=\"color: #008080; text-decoration-color: #008080\">    1</span> │ <span style=\"color: #008000; text-decoration-color: #008000\">▇    ▂ </span> │  │\n",
       "│ │ <span style=\"color: #af87ff; text-decoration-color: #af87ff\">MCQ053              </span> │ <span style=\"color: #008080; text-decoration-color: #008080\">  0</span> │ <span style=\"color: #008080; text-decoration-color: #008080\">     0</span> │ <span style=\"color: #008080; text-decoration-color: #008080\">  0.051</span> │ <span style=\"color: #008080; text-decoration-color: #008080\">  0.22</span> │ <span style=\"color: #008080; text-decoration-color: #008080\">        0</span> │ <span style=\"color: #008080; text-decoration-color: #008080\">    0</span> │ <span style=\"color: #008080; text-decoration-color: #008080\">   0</span> │ <span style=\"color: #008080; text-decoration-color: #008080\">   0</span> │ <span style=\"color: #008080; text-decoration-color: #008080\">    1</span> │ <span style=\"color: #008000; text-decoration-color: #008000\">   ▇   </span> │  │\n",
       "│ │ <span style=\"color: #af87ff; text-decoration-color: #af87ff\">MCQ160A             </span> │ <span style=\"color: #008080; text-decoration-color: #008080\">  0</span> │ <span style=\"color: #008080; text-decoration-color: #008080\">     0</span> │ <span style=\"color: #008080; text-decoration-color: #008080\">   0.33</span> │ <span style=\"color: #008080; text-decoration-color: #008080\">  0.47</span> │ <span style=\"color: #008080; text-decoration-color: #008080\">        0</span> │ <span style=\"color: #008080; text-decoration-color: #008080\">    0</span> │ <span style=\"color: #008080; text-decoration-color: #008080\">   0</span> │ <span style=\"color: #008080; text-decoration-color: #008080\">   1</span> │ <span style=\"color: #008080; text-decoration-color: #008080\">    1</span> │ <span style=\"color: #008000; text-decoration-color: #008000\">▇    ▅ </span> │  │\n",
       "│ │ <span style=\"color: #af87ff; text-decoration-color: #af87ff\">MCQ160B             </span> │ <span style=\"color: #008080; text-decoration-color: #008080\">  0</span> │ <span style=\"color: #008080; text-decoration-color: #008080\">     0</span> │ <span style=\"color: #008080; text-decoration-color: #008080\">   0.04</span> │ <span style=\"color: #008080; text-decoration-color: #008080\">   0.2</span> │ <span style=\"color: #008080; text-decoration-color: #008080\">        0</span> │ <span style=\"color: #008080; text-decoration-color: #008080\">    0</span> │ <span style=\"color: #008080; text-decoration-color: #008080\">   0</span> │ <span style=\"color: #008080; text-decoration-color: #008080\">   0</span> │ <span style=\"color: #008080; text-decoration-color: #008080\">    1</span> │ <span style=\"color: #008000; text-decoration-color: #008000\">   ▇   </span> │  │\n",
       "│ │ <span style=\"color: #af87ff; text-decoration-color: #af87ff\">MCQ160C             </span> │ <span style=\"color: #008080; text-decoration-color: #008080\">  0</span> │ <span style=\"color: #008080; text-decoration-color: #008080\">     0</span> │ <span style=\"color: #008080; text-decoration-color: #008080\">  0.052</span> │ <span style=\"color: #008080; text-decoration-color: #008080\">  0.22</span> │ <span style=\"color: #008080; text-decoration-color: #008080\">        0</span> │ <span style=\"color: #008080; text-decoration-color: #008080\">    0</span> │ <span style=\"color: #008080; text-decoration-color: #008080\">   0</span> │ <span style=\"color: #008080; text-decoration-color: #008080\">   0</span> │ <span style=\"color: #008080; text-decoration-color: #008080\">    1</span> │ <span style=\"color: #008000; text-decoration-color: #008000\">   ▇   </span> │  │\n",
       "│ │ <span style=\"color: #af87ff; text-decoration-color: #af87ff\">MCQ160F             </span> │ <span style=\"color: #008080; text-decoration-color: #008080\">  0</span> │ <span style=\"color: #008080; text-decoration-color: #008080\">     0</span> │ <span style=\"color: #008080; text-decoration-color: #008080\">  0.045</span> │ <span style=\"color: #008080; text-decoration-color: #008080\">  0.21</span> │ <span style=\"color: #008080; text-decoration-color: #008080\">        0</span> │ <span style=\"color: #008080; text-decoration-color: #008080\">    0</span> │ <span style=\"color: #008080; text-decoration-color: #008080\">   0</span> │ <span style=\"color: #008080; text-decoration-color: #008080\">   0</span> │ <span style=\"color: #008080; text-decoration-color: #008080\">    1</span> │ <span style=\"color: #008000; text-decoration-color: #008000\">   ▇   </span> │  │\n",
       "│ │ <span style=\"color: #af87ff; text-decoration-color: #af87ff\">MCQ160P             </span> │ <span style=\"color: #008080; text-decoration-color: #008080\">  0</span> │ <span style=\"color: #008080; text-decoration-color: #008080\">     0</span> │ <span style=\"color: #008080; text-decoration-color: #008080\">   0.07</span> │ <span style=\"color: #008080; text-decoration-color: #008080\">  0.26</span> │ <span style=\"color: #008080; text-decoration-color: #008080\">        0</span> │ <span style=\"color: #008080; text-decoration-color: #008080\">    0</span> │ <span style=\"color: #008080; text-decoration-color: #008080\">   0</span> │ <span style=\"color: #008080; text-decoration-color: #008080\">   0</span> │ <span style=\"color: #008080; text-decoration-color: #008080\">    1</span> │ <span style=\"color: #008000; text-decoration-color: #008000\">▇    ▁ </span> │  │\n",
       "│ │ <span style=\"color: #af87ff; text-decoration-color: #af87ff\">MCQ220              </span> │ <span style=\"color: #008080; text-decoration-color: #008080\">  0</span> │ <span style=\"color: #008080; text-decoration-color: #008080\">     0</span> │ <span style=\"color: #008080; text-decoration-color: #008080\">   0.15</span> │ <span style=\"color: #008080; text-decoration-color: #008080\">  0.36</span> │ <span style=\"color: #008080; text-decoration-color: #008080\">        0</span> │ <span style=\"color: #008080; text-decoration-color: #008080\">    0</span> │ <span style=\"color: #008080; text-decoration-color: #008080\">   0</span> │ <span style=\"color: #008080; text-decoration-color: #008080\">   0</span> │ <span style=\"color: #008080; text-decoration-color: #008080\">    1</span> │ <span style=\"color: #008000; text-decoration-color: #008000\">▇    ▁ </span> │  │\n",
       "│ │ <span style=\"color: #af87ff; text-decoration-color: #af87ff\">PAD680              </span> │ <span style=\"color: #008080; text-decoration-color: #008080\">  0</span> │ <span style=\"color: #008080; text-decoration-color: #008080\">     0</span> │ <span style=\"color: #008080; text-decoration-color: #008080\">    360</span> │ <span style=\"color: #008080; text-decoration-color: #008080\">   210</span> │ <span style=\"color: #008080; text-decoration-color: #008080\">  5.4e-79</span> │ <span style=\"color: #008080; text-decoration-color: #008080\">  180</span> │ <span style=\"color: #008080; text-decoration-color: #008080\"> 300</span> │ <span style=\"color: #008080; text-decoration-color: #008080\"> 480</span> │ <span style=\"color: #008080; text-decoration-color: #008080\"> 1400</span> │ <span style=\"color: #008000; text-decoration-color: #008000\"> ▅▇▅▂  </span> │  │\n",
       "│ │ <span style=\"color: #af87ff; text-decoration-color: #af87ff\">RXQ050              </span> │ <span style=\"color: #008080; text-decoration-color: #008080\">  0</span> │ <span style=\"color: #008080; text-decoration-color: #008080\">     0</span> │ <span style=\"color: #008080; text-decoration-color: #008080\">    2.3</span> │ <span style=\"color: #008080; text-decoration-color: #008080\">     2</span> │ <span style=\"color: #008080; text-decoration-color: #008080\">        0</span> │ <span style=\"color: #008080; text-decoration-color: #008080\">    0</span> │ <span style=\"color: #008080; text-decoration-color: #008080\">   2</span> │ <span style=\"color: #008080; text-decoration-color: #008080\">   4</span> │ <span style=\"color: #008080; text-decoration-color: #008080\">    5</span> │ <span style=\"color: #008000; text-decoration-color: #008000\">▇▃▃▃▂▆ </span> │  │\n",
       "│ │ <span style=\"color: #af87ff; text-decoration-color: #af87ff\">SLD012              </span> │ <span style=\"color: #008080; text-decoration-color: #008080\">  0</span> │ <span style=\"color: #008080; text-decoration-color: #008080\">     0</span> │ <span style=\"color: #008080; text-decoration-color: #008080\">    7.7</span> │ <span style=\"color: #008080; text-decoration-color: #008080\">   1.6</span> │ <span style=\"color: #008080; text-decoration-color: #008080\">        2</span> │ <span style=\"color: #008080; text-decoration-color: #008080\">    7</span> │ <span style=\"color: #008080; text-decoration-color: #008080\">   8</span> │ <span style=\"color: #008080; text-decoration-color: #008080\"> 8.5</span> │ <span style=\"color: #008080; text-decoration-color: #008080\">   14</span> │ <span style=\"color: #008000; text-decoration-color: #008000\">  ▁▇▇▁ </span> │  │\n",
       "│ │ <span style=\"color: #af87ff; text-decoration-color: #af87ff\">SLD013              </span> │ <span style=\"color: #008080; text-decoration-color: #008080\">  0</span> │ <span style=\"color: #008080; text-decoration-color: #008080\">     0</span> │ <span style=\"color: #008080; text-decoration-color: #008080\">    8.3</span> │ <span style=\"color: #008080; text-decoration-color: #008080\">   1.7</span> │ <span style=\"color: #008080; text-decoration-color: #008080\">        2</span> │ <span style=\"color: #008080; text-decoration-color: #008080\">  7.5</span> │ <span style=\"color: #008080; text-decoration-color: #008080\">   8</span> │ <span style=\"color: #008080; text-decoration-color: #008080\">   9</span> │ <span style=\"color: #008080; text-decoration-color: #008080\">   14</span> │ <span style=\"color: #008000; text-decoration-color: #008000\">  ▁▃▇▂ </span> │  │\n",
       "│ └──────────────────────┴─────┴────────┴─────────┴────────┴───────────┴───────┴──────┴──────┴───────┴─────────┘  │\n",
       "│ <span style=\"font-style: italic\">                                                     bool                                                     </span>  │\n",
       "│ ┏━━━━━━━━━━━━━━━━━━━━━━━━━━━━━━━━━━━━━━┳━━━━━━━━━━━━━━━━━┳━━━━━━━━━━━━━━━━━━━━━━━━━━━━━┳━━━━━━━━━━━━━━━━━━━━━┓  │\n",
       "│ ┃<span style=\"font-weight: bold\"> column_name                          </span>┃<span style=\"font-weight: bold\"> true            </span>┃<span style=\"font-weight: bold\"> true rate                   </span>┃<span style=\"font-weight: bold\"> hist                </span>┃  │\n",
       "│ ┡━━━━━━━━━━━━━━━━━━━━━━━━━━━━━━━━━━━━━━╇━━━━━━━━━━━━━━━━━╇━━━━━━━━━━━━━━━━━━━━━━━━━━━━━╇━━━━━━━━━━━━━━━━━━━━━┩  │\n",
       "│ │ <span style=\"color: #af87ff; text-decoration-color: #af87ff\">DMDMARTZ_2.0                        </span> │ <span style=\"color: #008080; text-decoration-color: #008080\">           1442</span> │ <span style=\"color: #008080; text-decoration-color: #008080\">                       0.25</span> │ <span style=\"color: #008000; text-decoration-color: #008000\">      ▇    ▃       </span> │  │\n",
       "│ │ <span style=\"color: #af87ff; text-decoration-color: #af87ff\">DMDMARTZ_3.0                        </span> │ <span style=\"color: #008080; text-decoration-color: #008080\">           1199</span> │ <span style=\"color: #008080; text-decoration-color: #008080\">                       0.21</span> │ <span style=\"color: #008000; text-decoration-color: #008000\">      ▇    ▂       </span> │  │\n",
       "│ └──────────────────────────────────────┴─────────────────┴─────────────────────────────┴─────────────────────┘  │\n",
       "╰────────────────────────────────────────────────────── End ──────────────────────────────────────────────────────╯\n",
       "</pre>\n"
      ],
      "text/plain": [
       "╭──────────────────────────────────────────────── skimpy summary ─────────────────────────────────────────────────╮\n",
       "│ \u001b[3m         Data Summary         \u001b[0m \u001b[3m      Data Types       \u001b[0m                                                          │\n",
       "│ ┏━━━━━━━━━━━━━━━━━━━┳━━━━━━━━┓ ┏━━━━━━━━━━━━━┳━━━━━━━┓                                                          │\n",
       "│ ┃\u001b[1;36m \u001b[0m\u001b[1;36mdataframe        \u001b[0m\u001b[1;36m \u001b[0m┃\u001b[1;36m \u001b[0m\u001b[1;36mValues\u001b[0m\u001b[1;36m \u001b[0m┃ ┃\u001b[1;36m \u001b[0m\u001b[1;36mColumn Type\u001b[0m\u001b[1;36m \u001b[0m┃\u001b[1;36m \u001b[0m\u001b[1;36mCount\u001b[0m\u001b[1;36m \u001b[0m┃                                                          │\n",
       "│ ┡━━━━━━━━━━━━━━━━━━━╇━━━━━━━━┩ ┡━━━━━━━━━━━━━╇━━━━━━━┩                                                          │\n",
       "│ │ Number of rows    │ 5822   │ │ int32       │ 15    │                                                          │\n",
       "│ │ Number of columns │ 24     │ │ float64     │ 7     │                                                          │\n",
       "│ └───────────────────┴────────┘ │ bool        │ 2     │                                                          │\n",
       "│                                └─────────────┴───────┘                                                          │\n",
       "│ \u001b[3m                                                    number                                                    \u001b[0m  │\n",
       "│ ┏━━━━━━━━━━━━━━━━━━━━━━┳━━━━━┳━━━━━━━━┳━━━━━━━━━┳━━━━━━━━┳━━━━━━━━━━━┳━━━━━━━┳━━━━━━┳━━━━━━┳━━━━━━━┳━━━━━━━━━┓  │\n",
       "│ ┃\u001b[1m \u001b[0m\u001b[1mcolumn_name         \u001b[0m\u001b[1m \u001b[0m┃\u001b[1m \u001b[0m\u001b[1mNA \u001b[0m\u001b[1m \u001b[0m┃\u001b[1m \u001b[0m\u001b[1mNA %  \u001b[0m\u001b[1m \u001b[0m┃\u001b[1m \u001b[0m\u001b[1mmean   \u001b[0m\u001b[1m \u001b[0m┃\u001b[1m \u001b[0m\u001b[1msd    \u001b[0m\u001b[1m \u001b[0m┃\u001b[1m \u001b[0m\u001b[1mp0       \u001b[0m\u001b[1m \u001b[0m┃\u001b[1m \u001b[0m\u001b[1mp25  \u001b[0m\u001b[1m \u001b[0m┃\u001b[1m \u001b[0m\u001b[1mp50 \u001b[0m\u001b[1m \u001b[0m┃\u001b[1m \u001b[0m\u001b[1mp75 \u001b[0m\u001b[1m \u001b[0m┃\u001b[1m \u001b[0m\u001b[1mp100 \u001b[0m\u001b[1m \u001b[0m┃\u001b[1m \u001b[0m\u001b[1mhist   \u001b[0m\u001b[1m \u001b[0m┃  │\n",
       "│ ┡━━━━━━━━━━━━━━━━━━━━━━╇━━━━━╇━━━━━━━━╇━━━━━━━━━╇━━━━━━━━╇━━━━━━━━━━━╇━━━━━━━╇━━━━━━╇━━━━━━╇━━━━━━━╇━━━━━━━━━┩  │\n",
       "│ │ \u001b[38;5;141mRIDAGEYR            \u001b[0m │ \u001b[36m  0\u001b[0m │ \u001b[36m     0\u001b[0m │ \u001b[36m     54\u001b[0m │ \u001b[36m    17\u001b[0m │ \u001b[36m       20\u001b[0m │ \u001b[36m   39\u001b[0m │ \u001b[36m  57\u001b[0m │ \u001b[36m  68\u001b[0m │ \u001b[36m   80\u001b[0m │ \u001b[32m▃▅▅▅▇▇ \u001b[0m │  │\n",
       "│ │ \u001b[38;5;141mDMDEDUC2            \u001b[0m │ \u001b[36m  0\u001b[0m │ \u001b[36m     0\u001b[0m │ \u001b[36m    2.9\u001b[0m │ \u001b[36m   1.1\u001b[0m │ \u001b[36m        0\u001b[0m │ \u001b[36m    2\u001b[0m │ \u001b[36m   3\u001b[0m │ \u001b[36m   4\u001b[0m │ \u001b[36m    4\u001b[0m │ \u001b[32m▁▂ ▅▇▇ \u001b[0m │  │\n",
       "│ │ \u001b[38;5;141mDMDHHSIZ            \u001b[0m │ \u001b[36m  0\u001b[0m │ \u001b[36m     0\u001b[0m │ \u001b[36m    2.6\u001b[0m │ \u001b[36m   1.5\u001b[0m │ \u001b[36m        1\u001b[0m │ \u001b[36m    2\u001b[0m │ \u001b[36m   2\u001b[0m │ \u001b[36m   3\u001b[0m │ \u001b[36m    7\u001b[0m │ \u001b[32m▅▇▃▃▁▁ \u001b[0m │  │\n",
       "│ │ \u001b[38;5;141mRIAGENDR_Female     \u001b[0m │ \u001b[36m  0\u001b[0m │ \u001b[36m     0\u001b[0m │ \u001b[36m   0.55\u001b[0m │ \u001b[36m   0.5\u001b[0m │ \u001b[36m        0\u001b[0m │ \u001b[36m    0\u001b[0m │ \u001b[36m   1\u001b[0m │ \u001b[36m   1\u001b[0m │ \u001b[36m    1\u001b[0m │ \u001b[32m▆    ▇ \u001b[0m │  │\n",
       "│ │ \u001b[38;5;141mRIAGENDR_Male       \u001b[0m │ \u001b[36m  0\u001b[0m │ \u001b[36m     0\u001b[0m │ \u001b[36m   0.45\u001b[0m │ \u001b[36m   0.5\u001b[0m │ \u001b[36m        0\u001b[0m │ \u001b[36m    0\u001b[0m │ \u001b[36m   0\u001b[0m │ \u001b[36m   1\u001b[0m │ \u001b[36m    1\u001b[0m │ \u001b[32m▇    ▆ \u001b[0m │  │\n",
       "│ │ \u001b[38;5;141mDEPRE               \u001b[0m │ \u001b[36m  0\u001b[0m │ \u001b[36m     0\u001b[0m │ \u001b[36m   0.13\u001b[0m │ \u001b[36m  0.33\u001b[0m │ \u001b[36m        0\u001b[0m │ \u001b[36m    0\u001b[0m │ \u001b[36m   0\u001b[0m │ \u001b[36m   0\u001b[0m │ \u001b[36m    1\u001b[0m │ \u001b[32m▇    ▁ \u001b[0m │  │\n",
       "│ │ \u001b[38;5;141mALQ130              \u001b[0m │ \u001b[36m  0\u001b[0m │ \u001b[36m     0\u001b[0m │ \u001b[36m    2.2\u001b[0m │ \u001b[36m   1.9\u001b[0m │ \u001b[36m        0\u001b[0m │ \u001b[36m    1\u001b[0m │ \u001b[36m   2\u001b[0m │ \u001b[36m   2\u001b[0m │ \u001b[36m   15\u001b[0m │ \u001b[32m  ▇▁▁  \u001b[0m │  │\n",
       "│ │ \u001b[38;5;141mALQ142              \u001b[0m │ \u001b[36m  0\u001b[0m │ \u001b[36m     0\u001b[0m │ \u001b[36m      1\u001b[0m │ \u001b[36m  0.46\u001b[0m │ \u001b[36m        0\u001b[0m │ \u001b[36m    1\u001b[0m │ \u001b[36m   1\u001b[0m │ \u001b[36m   1\u001b[0m │ \u001b[36m    3\u001b[0m │ \u001b[32m ▁ ▇ ▁ \u001b[0m │  │\n",
       "│ │ \u001b[38;5;141mFNDADI              \u001b[0m │ \u001b[36m  0\u001b[0m │ \u001b[36m     0\u001b[0m │ \u001b[36m   0.19\u001b[0m │ \u001b[36m  0.39\u001b[0m │ \u001b[36m        0\u001b[0m │ \u001b[36m    0\u001b[0m │ \u001b[36m   0\u001b[0m │ \u001b[36m   0\u001b[0m │ \u001b[36m    1\u001b[0m │ \u001b[32m▇    ▂ \u001b[0m │  │\n",
       "│ │ \u001b[38;5;141mHUQ010              \u001b[0m │ \u001b[36m  0\u001b[0m │ \u001b[36m     0\u001b[0m │ \u001b[36m    1.6\u001b[0m │ \u001b[36m     1\u001b[0m │ \u001b[36m        0\u001b[0m │ \u001b[36m    1\u001b[0m │ \u001b[36m   2\u001b[0m │ \u001b[36m   2\u001b[0m │ \u001b[36m    4\u001b[0m │ \u001b[32m▃▇ ▇▃▁ \u001b[0m │  │\n",
       "│ │ \u001b[38;5;141mMCQ010              \u001b[0m │ \u001b[36m  0\u001b[0m │ \u001b[36m     0\u001b[0m │ \u001b[36m   0.18\u001b[0m │ \u001b[36m  0.39\u001b[0m │ \u001b[36m        0\u001b[0m │ \u001b[36m    0\u001b[0m │ \u001b[36m   0\u001b[0m │ \u001b[36m   0\u001b[0m │ \u001b[36m    1\u001b[0m │ \u001b[32m▇    ▂ \u001b[0m │  │\n",
       "│ │ \u001b[38;5;141mMCQ053              \u001b[0m │ \u001b[36m  0\u001b[0m │ \u001b[36m     0\u001b[0m │ \u001b[36m  0.051\u001b[0m │ \u001b[36m  0.22\u001b[0m │ \u001b[36m        0\u001b[0m │ \u001b[36m    0\u001b[0m │ \u001b[36m   0\u001b[0m │ \u001b[36m   0\u001b[0m │ \u001b[36m    1\u001b[0m │ \u001b[32m   ▇   \u001b[0m │  │\n",
       "│ │ \u001b[38;5;141mMCQ160A             \u001b[0m │ \u001b[36m  0\u001b[0m │ \u001b[36m     0\u001b[0m │ \u001b[36m   0.33\u001b[0m │ \u001b[36m  0.47\u001b[0m │ \u001b[36m        0\u001b[0m │ \u001b[36m    0\u001b[0m │ \u001b[36m   0\u001b[0m │ \u001b[36m   1\u001b[0m │ \u001b[36m    1\u001b[0m │ \u001b[32m▇    ▅ \u001b[0m │  │\n",
       "│ │ \u001b[38;5;141mMCQ160B             \u001b[0m │ \u001b[36m  0\u001b[0m │ \u001b[36m     0\u001b[0m │ \u001b[36m   0.04\u001b[0m │ \u001b[36m   0.2\u001b[0m │ \u001b[36m        0\u001b[0m │ \u001b[36m    0\u001b[0m │ \u001b[36m   0\u001b[0m │ \u001b[36m   0\u001b[0m │ \u001b[36m    1\u001b[0m │ \u001b[32m   ▇   \u001b[0m │  │\n",
       "│ │ \u001b[38;5;141mMCQ160C             \u001b[0m │ \u001b[36m  0\u001b[0m │ \u001b[36m     0\u001b[0m │ \u001b[36m  0.052\u001b[0m │ \u001b[36m  0.22\u001b[0m │ \u001b[36m        0\u001b[0m │ \u001b[36m    0\u001b[0m │ \u001b[36m   0\u001b[0m │ \u001b[36m   0\u001b[0m │ \u001b[36m    1\u001b[0m │ \u001b[32m   ▇   \u001b[0m │  │\n",
       "│ │ \u001b[38;5;141mMCQ160F             \u001b[0m │ \u001b[36m  0\u001b[0m │ \u001b[36m     0\u001b[0m │ \u001b[36m  0.045\u001b[0m │ \u001b[36m  0.21\u001b[0m │ \u001b[36m        0\u001b[0m │ \u001b[36m    0\u001b[0m │ \u001b[36m   0\u001b[0m │ \u001b[36m   0\u001b[0m │ \u001b[36m    1\u001b[0m │ \u001b[32m   ▇   \u001b[0m │  │\n",
       "│ │ \u001b[38;5;141mMCQ160P             \u001b[0m │ \u001b[36m  0\u001b[0m │ \u001b[36m     0\u001b[0m │ \u001b[36m   0.07\u001b[0m │ \u001b[36m  0.26\u001b[0m │ \u001b[36m        0\u001b[0m │ \u001b[36m    0\u001b[0m │ \u001b[36m   0\u001b[0m │ \u001b[36m   0\u001b[0m │ \u001b[36m    1\u001b[0m │ \u001b[32m▇    ▁ \u001b[0m │  │\n",
       "│ │ \u001b[38;5;141mMCQ220              \u001b[0m │ \u001b[36m  0\u001b[0m │ \u001b[36m     0\u001b[0m │ \u001b[36m   0.15\u001b[0m │ \u001b[36m  0.36\u001b[0m │ \u001b[36m        0\u001b[0m │ \u001b[36m    0\u001b[0m │ \u001b[36m   0\u001b[0m │ \u001b[36m   0\u001b[0m │ \u001b[36m    1\u001b[0m │ \u001b[32m▇    ▁ \u001b[0m │  │\n",
       "│ │ \u001b[38;5;141mPAD680              \u001b[0m │ \u001b[36m  0\u001b[0m │ \u001b[36m     0\u001b[0m │ \u001b[36m    360\u001b[0m │ \u001b[36m   210\u001b[0m │ \u001b[36m  5.4e-79\u001b[0m │ \u001b[36m  180\u001b[0m │ \u001b[36m 300\u001b[0m │ \u001b[36m 480\u001b[0m │ \u001b[36m 1400\u001b[0m │ \u001b[32m ▅▇▅▂  \u001b[0m │  │\n",
       "│ │ \u001b[38;5;141mRXQ050              \u001b[0m │ \u001b[36m  0\u001b[0m │ \u001b[36m     0\u001b[0m │ \u001b[36m    2.3\u001b[0m │ \u001b[36m     2\u001b[0m │ \u001b[36m        0\u001b[0m │ \u001b[36m    0\u001b[0m │ \u001b[36m   2\u001b[0m │ \u001b[36m   4\u001b[0m │ \u001b[36m    5\u001b[0m │ \u001b[32m▇▃▃▃▂▆ \u001b[0m │  │\n",
       "│ │ \u001b[38;5;141mSLD012              \u001b[0m │ \u001b[36m  0\u001b[0m │ \u001b[36m     0\u001b[0m │ \u001b[36m    7.7\u001b[0m │ \u001b[36m   1.6\u001b[0m │ \u001b[36m        2\u001b[0m │ \u001b[36m    7\u001b[0m │ \u001b[36m   8\u001b[0m │ \u001b[36m 8.5\u001b[0m │ \u001b[36m   14\u001b[0m │ \u001b[32m  ▁▇▇▁ \u001b[0m │  │\n",
       "│ │ \u001b[38;5;141mSLD013              \u001b[0m │ \u001b[36m  0\u001b[0m │ \u001b[36m     0\u001b[0m │ \u001b[36m    8.3\u001b[0m │ \u001b[36m   1.7\u001b[0m │ \u001b[36m        2\u001b[0m │ \u001b[36m  7.5\u001b[0m │ \u001b[36m   8\u001b[0m │ \u001b[36m   9\u001b[0m │ \u001b[36m   14\u001b[0m │ \u001b[32m  ▁▃▇▂ \u001b[0m │  │\n",
       "│ └──────────────────────┴─────┴────────┴─────────┴────────┴───────────┴───────┴──────┴──────┴───────┴─────────┘  │\n",
       "│ \u001b[3m                                                     bool                                                     \u001b[0m  │\n",
       "│ ┏━━━━━━━━━━━━━━━━━━━━━━━━━━━━━━━━━━━━━━┳━━━━━━━━━━━━━━━━━┳━━━━━━━━━━━━━━━━━━━━━━━━━━━━━┳━━━━━━━━━━━━━━━━━━━━━┓  │\n",
       "│ ┃\u001b[1m \u001b[0m\u001b[1mcolumn_name                         \u001b[0m\u001b[1m \u001b[0m┃\u001b[1m \u001b[0m\u001b[1mtrue           \u001b[0m\u001b[1m \u001b[0m┃\u001b[1m \u001b[0m\u001b[1mtrue rate                  \u001b[0m\u001b[1m \u001b[0m┃\u001b[1m \u001b[0m\u001b[1mhist               \u001b[0m\u001b[1m \u001b[0m┃  │\n",
       "│ ┡━━━━━━━━━━━━━━━━━━━━━━━━━━━━━━━━━━━━━━╇━━━━━━━━━━━━━━━━━╇━━━━━━━━━━━━━━━━━━━━━━━━━━━━━╇━━━━━━━━━━━━━━━━━━━━━┩  │\n",
       "│ │ \u001b[38;5;141mDMDMARTZ_2.0                        \u001b[0m │ \u001b[36m           1442\u001b[0m │ \u001b[36m                       0.25\u001b[0m │ \u001b[32m      ▇    ▃       \u001b[0m │  │\n",
       "│ │ \u001b[38;5;141mDMDMARTZ_3.0                        \u001b[0m │ \u001b[36m           1199\u001b[0m │ \u001b[36m                       0.21\u001b[0m │ \u001b[32m      ▇    ▂       \u001b[0m │  │\n",
       "│ └──────────────────────────────────────┴─────────────────┴─────────────────────────────┴─────────────────────┘  │\n",
       "╰────────────────────────────────────────────────────── End ──────────────────────────────────────────────────────╯\n"
      ]
     },
     "metadata": {},
     "output_type": "display_data"
    }
   ],
   "source": [
    "skim(transformed_df)"
   ]
  },
  {
   "cell_type": "code",
   "execution_count": 190,
   "metadata": {},
   "outputs": [
    {
     "data": {
      "image/png": "[encoded data removed]",
      "text/plain": [
       "<Figure size 640x480 with 1 Axes>"
      ]
     },
     "metadata": {},
     "output_type": "display_data"
    },
    {
     "name": "stdout",
     "output_type": "stream",
     "text": [
      "Class 0: Count = 5093, Proportion = 0.8748\n",
      "Class 1: Count = 729, Proportion = 0.1252\n"
     ]
    }
   ],
   "source": [
    "ml_target = transformed_df[\"DEPRE\"].values\n",
    "\n",
    "# Count the occurrences of each class label\n",
    "unique_classes, class_counts = np.unique(ml_target, return_counts=True)\n",
    "\n",
    "custom_colors = ['blue', 'orange'] \n",
    "\n",
    "# Plot the bar chart\n",
    "plt.bar(unique_classes, class_counts, color = custom_colors)\n",
    "\n",
    "# Add title and labels\n",
    "plt.title('Count of Each Class in Target Variable \"Diagnosis\"')\n",
    "plt.xlabel('Class')\n",
    "plt.ylabel('Count')\n",
    "\n",
    "# Customize the x-axis labels\n",
    "plt.xticks([0, 1], ['0', '1'])\n",
    "\n",
    "# Show the plot\n",
    "plt.show()\n",
    "\n",
    "# Count the occurrences of each class\n",
    "class_counts = np.bincount(ml_target)\n",
    "\n",
    "# Calculate the proportions of each class\n",
    "total_instances = len(ml_target)\n",
    "class_proportions = class_counts / total_instances\n",
    "\n",
    "# Print the counts and proportions\n",
    "for class_label, count, proportion in zip(range(len(class_counts)), class_counts, class_proportions):\n",
    "    print(f\"Class {class_label}: Count = {count}, Proportion = {proportion:.4f}\")"
   ]
  },
  {
   "cell_type": "code",
   "execution_count": 191,
   "metadata": {},
   "outputs": [],
   "source": [
    "import json\n",
    "\n",
    "def get_dtypes_dict(df):\n",
    "    \"\"\"\n",
    "    Creates a dictionary mapping column names to their data types.\n",
    "    - Boolean → \"boolean\"\n",
    "    - Categorical → Dict with dtype, categories, and order info\n",
    "    - Other types → String representation of dtype\n",
    "    \n",
    "    Parameters:\n",
    "    df (pd.DataFrame): Input DataFrame\n",
    "    \n",
    "    Returns:\n",
    "    dict: Dictionary with column data types\n",
    "    \"\"\"\n",
    "    dtypes_dict = {}\n",
    "\n",
    "    for col in df.columns:\n",
    "        if df[col].dtype == \"bool\":\n",
    "            dtypes_dict[col] = \"boolean\"\n",
    "        elif isinstance(df[col].dtype, pd.CategoricalDtype):  # Handle categorical types\n",
    "            dtypes_dict[col] = {\n",
    "                \"dtype\": \"category\",\n",
    "                \"categories\": list(df[col].cat.categories),\n",
    "                \"ordered\": df[col].cat.ordered\n",
    "            }\n",
    "        else:\n",
    "            dtypes_dict[col] = str(df[col].dtype)\n",
    "\n",
    "    return dtypes_dict"
   ]
  },
  {
   "cell_type": "code",
   "execution_count": 192,
   "metadata": {},
   "outputs": [],
   "source": [
    "dtypes_dict = get_dtypes_dict(transformed_df)"
   ]
  },
  {
   "cell_type": "code",
   "execution_count": 193,
   "metadata": {},
   "outputs": [],
   "source": [
    "# Save as JSON\n",
    "with open(\"dtypes_dict.json\", \"w\") as file:\n",
    "    json.dump(dtypes_dict, file)"
   ]
  },
  {
   "cell_type": "code",
   "execution_count": 194,
   "metadata": {},
   "outputs": [],
   "source": [
    "# Creating the ML dataset\n",
    "transformed_df.to_csv(\"./df_ml.csv\", index=False)"
   ]
  }
 ],
 "metadata": {
  "kernelspec": {
   "display_name": "Python (current_env)",
   "language": "python",
   "name": "current_env"
  },
  "language_info": {
   "codemirror_mode": {
    "name": "ipython",
    "version": 3
   },
   "file_extension": ".py",
   "mimetype": "text/x-python",
   "name": "python",
   "nbconvert_exporter": "python",
   "pygments_lexer": "ipython3",
   "version": "3.12.0"
  }
 },
 "nbformat": 4,
 "nbformat_minor": 2
}
