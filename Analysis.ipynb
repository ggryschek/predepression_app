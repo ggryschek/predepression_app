{
 "cells": [
  {
   "cell_type": "code",
   "execution_count": null,
   "id": "1d5d66fa",
   "metadata": {},
   "outputs": [],
   "source": [
    "import pandas as pd\n",
    "import matplotlib.pyplot as plt\n",
    "import seaborn as sns"
   ]
  },
  {
   "cell_type": "code",
   "execution_count": null,
   "id": "cfae88e5",
   "metadata": {},
   "outputs": [],
   "source": [
    "# Load the dataset (replace this with your actual file path if reading from CSV)\n",
    "data = pd.read_csv(\"your_data.csv\", sep=\"\\t\")  # if tab-separated\n",
    "\n",
    "# Extract participant group from ID\n",
    "data[\"PARTICIPANT_TYPE\"] = data[\"ID_participant\"].str[0].map({\"P\": \"Psychologist\", \"M\": \"Physician\", \"E\": \"Nurse\"})\n",
    "\n",
    "# Create experience group\n",
    "data[\"EXPERIENCE_GROUP\"] = pd.cut(data[\"EXPERIENCE_LEVEL\"], bins=[-1, 2, 10], labels=[\"Low\", \"High\"])\n",
    "\n",
    "# Quick summary\n",
    "print(\"\\n--- Descriptive Statistics ---\")\n",
    "print(data.describe())\n",
    "\n",
    "print(\"\\n--- Counts per Participant Type ---\")\n",
    "print(data[\"PARTICIPANT_TYPE\"].value_counts())\n"
   ]
  },
  {
   "cell_type": "code",
   "execution_count": null,
   "id": "4efb883e",
   "metadata": {},
   "outputs": [],
   "source": [
    "# Correlation matrix\n",
    "plt.figure(figsize=(12, 8))\n",
    "corr = data.select_dtypes(include='number').corr()\n",
    "sns.heatmap(corr, annot=True, cmap='coolwarm', fmt=\".2f\", linewidths=0.5)\n",
    "plt.title(\"Correlation Matrix\")\n",
    "plt.tight_layout()\n",
    "plt.show()"
   ]
  },
  {
   "cell_type": "code",
   "execution_count": null,
   "id": "c67a1e36",
   "metadata": {},
   "outputs": [],
   "source": [
    "# Group comparison: Experience\n",
    "grouped_exp = data.groupby(\"EXPERIENCE_GROUP\").mean(numeric_only=True)\n",
    "print(\"\\n--- Mean Scores by Experience Group ---\")\n",
    "print(grouped_exp)"
   ]
  },
  {
   "cell_type": "code",
   "execution_count": null,
   "id": "3c9de5ea",
   "metadata": {},
   "outputs": [],
   "source": [
    "# Group comparison: Participant Type\n",
    "grouped_type = data.groupby(\"PARTICIPANT_TYPE\").mean(numeric_only=True)\n",
    "print(\"\\n--- Mean Scores by Participant Type ---\")\n",
    "print(grouped_type)"
   ]
  },
  {
   "cell_type": "code",
   "execution_count": null,
   "id": "d9d48323",
   "metadata": {},
   "outputs": [],
   "source": [
    "# Plot: NASA TLX vs Trust & Usefulness\n",
    "plt.figure(figsize=(10, 5))\n",
    "sns.scatterplot(data=data, x=\"NASA_Work_Load_Index\", y=\"PERCEIVED_USEFULNESS\", hue=\"PARTICIPANT_TYPE\")\n",
    "plt.title(\"NASA Workload vs Perceived Usefulness\")\n",
    "plt.show()\n",
    "\n",
    "plt.figure(figsize=(10, 5))\n",
    "sns.scatterplot(data=data, x=\"NASA_Work_Load_Index\", y=\"TRUST_LEVEL\", hue=\"PARTICIPANT_TYPE\")\n",
    "plt.title(\"NASA Workload vs Trust Level\")\n",
    "plt.show()\n",
    "\n",
    "# Optional: Save cleaned dataset\n",
    "# data.to_csv(\"cleaned_survey_data.csv\", index=False)"
   ]
  }
 ],
 "metadata": {
  "kernelspec": {
   "display_name": "Python (current_env)",
   "language": "python",
   "name": "current_env"
  },
  "language_info": {
   "name": "python",
   "version": "3.12.0"
  }
 },
 "nbformat": 4,
 "nbformat_minor": 5
}
